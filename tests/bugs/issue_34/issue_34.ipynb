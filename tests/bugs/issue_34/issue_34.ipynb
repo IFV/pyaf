{
 "cells": [
  {
   "cell_type": "code",
   "execution_count": 1,
   "metadata": {
    "collapsed": true
   },
   "outputs": [],
   "source": [
    "import numpy as np\n",
    "import pandas as pd\n",
    "\n",
    "%matplotlib inline"
   ]
  },
  {
   "cell_type": "code",
   "execution_count": 2,
   "metadata": {
    "collapsed": true
   },
   "outputs": [],
   "source": [
    "df = pd.read_csv('SCIKIT_MODEL_FIT_FAILURE.csv.gz')"
   ]
  },
  {
   "cell_type": "code",
   "execution_count": 3,
   "metadata": {
    "collapsed": false
   },
   "outputs": [
    {
     "name": "stdout",
     "output_type": "stream",
     "text": [
      "<class 'pandas.core.frame.DataFrame'>\n",
      "RangeIndex: 800 entries, 0 to 799\n",
      "Columns: 202 entries, Unnamed: 0 to TGT\n",
      "dtypes: float64(201), int64(1)\n",
      "memory usage: 1.2 MB\n"
     ]
    }
   ],
   "source": [
    "N = df.shape[0]\n",
    "df.info()\n"
   ]
  },
  {
   "cell_type": "code",
   "execution_count": 4,
   "metadata": {
    "collapsed": false
   },
   "outputs": [
    {
     "data": {
      "text/html": [
       "<div>\n",
       "<table border=\"1\" class=\"dataframe\">\n",
       "  <thead>\n",
       "    <tr style=\"text-align: right;\">\n",
       "      <th></th>\n",
       "      <th>Unnamed: 0</th>\n",
       "      <th>RelDiff_Signal_0.0_LinearTrend_residue_Seasonal_DayOfMonth_residue_Lag1</th>\n",
       "      <th>RelDiff_Signal_0.0_LinearTrend_residue_Seasonal_DayOfMonth_residue_Lag4</th>\n",
       "      <th>RelDiff_Signal_0.0_LinearTrend_residue_Seasonal_DayOfMonth_residue_Lag5</th>\n",
       "      <th>RelDiff_Signal_0.0_LinearTrend_residue_Seasonal_DayOfMonth_residue_Lag6</th>\n",
       "      <th>RelDiff_Signal_0.0_LinearTrend_residue_Seasonal_DayOfMonth_residue_Lag9</th>\n",
       "      <th>RelDiff_Signal_0.0_LinearTrend_residue_Seasonal_DayOfMonth_residue_Lag10</th>\n",
       "      <th>RelDiff_Signal_0.0_LinearTrend_residue_Seasonal_DayOfMonth_residue_Lag11</th>\n",
       "      <th>RelDiff_Signal_0.0_LinearTrend_residue_Seasonal_DayOfMonth_residue_Lag14</th>\n",
       "      <th>RelDiff_Signal_0.0_LinearTrend_residue_Seasonal_DayOfMonth_residue_Lag15</th>\n",
       "      <th>...</th>\n",
       "      <th>exog_13=A_Lag20</th>\n",
       "      <th>exog_13=0_Lag23</th>\n",
       "      <th>exog_13=A_Lag23</th>\n",
       "      <th>exog_13=0_Lag25</th>\n",
       "      <th>exog_13=A_Lag25</th>\n",
       "      <th>exog_13=0_Lag28</th>\n",
       "      <th>exog_13=A_Lag28</th>\n",
       "      <th>exog_13=0_Lag30</th>\n",
       "      <th>exog_13=A_Lag30</th>\n",
       "      <th>TGT</th>\n",
       "    </tr>\n",
       "  </thead>\n",
       "  <tbody>\n",
       "    <tr>\n",
       "      <th>count</th>\n",
       "      <td>800.0000</td>\n",
       "      <td>800.000000</td>\n",
       "      <td>800.000000</td>\n",
       "      <td>800.000000</td>\n",
       "      <td>800.000000</td>\n",
       "      <td>800.000000</td>\n",
       "      <td>800.000000</td>\n",
       "      <td>800.000000</td>\n",
       "      <td>800.000000</td>\n",
       "      <td>800.000000</td>\n",
       "      <td>...</td>\n",
       "      <td>800.000000</td>\n",
       "      <td>800.000000</td>\n",
       "      <td>800.000000</td>\n",
       "      <td>800.000000</td>\n",
       "      <td>800.000000</td>\n",
       "      <td>800.000000</td>\n",
       "      <td>800.000000</td>\n",
       "      <td>800.000000</td>\n",
       "      <td>800.000000</td>\n",
       "      <td>8.000000e+02</td>\n",
       "    </tr>\n",
       "    <tr>\n",
       "      <th>mean</th>\n",
       "      <td>399.5000</td>\n",
       "      <td>-0.000031</td>\n",
       "      <td>-0.000013</td>\n",
       "      <td>0.000002</td>\n",
       "      <td>-0.000029</td>\n",
       "      <td>-0.000011</td>\n",
       "      <td>0.000004</td>\n",
       "      <td>-0.000022</td>\n",
       "      <td>-0.000011</td>\n",
       "      <td>0.000006</td>\n",
       "      <td>...</td>\n",
       "      <td>0.007500</td>\n",
       "      <td>0.993750</td>\n",
       "      <td>0.006250</td>\n",
       "      <td>0.993750</td>\n",
       "      <td>0.006250</td>\n",
       "      <td>0.993750</td>\n",
       "      <td>0.006250</td>\n",
       "      <td>0.993750</td>\n",
       "      <td>0.006250</td>\n",
       "      <td>1.100489e-12</td>\n",
       "    </tr>\n",
       "    <tr>\n",
       "      <th>std</th>\n",
       "      <td>231.0844</td>\n",
       "      <td>0.012714</td>\n",
       "      <td>0.012662</td>\n",
       "      <td>0.012655</td>\n",
       "      <td>0.012625</td>\n",
       "      <td>0.012573</td>\n",
       "      <td>0.012566</td>\n",
       "      <td>0.012543</td>\n",
       "      <td>0.012485</td>\n",
       "      <td>0.012476</td>\n",
       "      <td>...</td>\n",
       "      <td>0.086331</td>\n",
       "      <td>0.078859</td>\n",
       "      <td>0.078859</td>\n",
       "      <td>0.078859</td>\n",
       "      <td>0.078859</td>\n",
       "      <td>0.078859</td>\n",
       "      <td>0.078859</td>\n",
       "      <td>0.078859</td>\n",
       "      <td>0.078859</td>\n",
       "      <td>1.274431e-02</td>\n",
       "    </tr>\n",
       "    <tr>\n",
       "      <th>min</th>\n",
       "      <td>0.0000</td>\n",
       "      <td>-0.024078</td>\n",
       "      <td>-0.024078</td>\n",
       "      <td>-0.024078</td>\n",
       "      <td>-0.024078</td>\n",
       "      <td>-0.024078</td>\n",
       "      <td>-0.024078</td>\n",
       "      <td>-0.024078</td>\n",
       "      <td>-0.024078</td>\n",
       "      <td>-0.024078</td>\n",
       "      <td>...</td>\n",
       "      <td>0.000000</td>\n",
       "      <td>0.000000</td>\n",
       "      <td>0.000000</td>\n",
       "      <td>0.000000</td>\n",
       "      <td>0.000000</td>\n",
       "      <td>0.000000</td>\n",
       "      <td>0.000000</td>\n",
       "      <td>0.000000</td>\n",
       "      <td>0.000000</td>\n",
       "      <td>-2.407831e-02</td>\n",
       "    </tr>\n",
       "    <tr>\n",
       "      <th>25%</th>\n",
       "      <td>199.7500</td>\n",
       "      <td>-0.009519</td>\n",
       "      <td>-0.009500</td>\n",
       "      <td>-0.009425</td>\n",
       "      <td>-0.009425</td>\n",
       "      <td>-0.009324</td>\n",
       "      <td>-0.009260</td>\n",
       "      <td>-0.009260</td>\n",
       "      <td>-0.009188</td>\n",
       "      <td>-0.009148</td>\n",
       "      <td>...</td>\n",
       "      <td>0.000000</td>\n",
       "      <td>1.000000</td>\n",
       "      <td>0.000000</td>\n",
       "      <td>1.000000</td>\n",
       "      <td>0.000000</td>\n",
       "      <td>1.000000</td>\n",
       "      <td>0.000000</td>\n",
       "      <td>1.000000</td>\n",
       "      <td>0.000000</td>\n",
       "      <td>-9.519296e-03</td>\n",
       "    </tr>\n",
       "    <tr>\n",
       "      <th>50%</th>\n",
       "      <td>399.5000</td>\n",
       "      <td>-0.003706</td>\n",
       "      <td>-0.003674</td>\n",
       "      <td>-0.003640</td>\n",
       "      <td>-0.003640</td>\n",
       "      <td>-0.003571</td>\n",
       "      <td>-0.003542</td>\n",
       "      <td>-0.003542</td>\n",
       "      <td>-0.003420</td>\n",
       "      <td>-0.003365</td>\n",
       "      <td>...</td>\n",
       "      <td>0.000000</td>\n",
       "      <td>1.000000</td>\n",
       "      <td>0.000000</td>\n",
       "      <td>1.000000</td>\n",
       "      <td>0.000000</td>\n",
       "      <td>1.000000</td>\n",
       "      <td>0.000000</td>\n",
       "      <td>1.000000</td>\n",
       "      <td>0.000000</td>\n",
       "      <td>-3.706153e-03</td>\n",
       "    </tr>\n",
       "    <tr>\n",
       "      <th>75%</th>\n",
       "      <td>599.2500</td>\n",
       "      <td>0.010417</td>\n",
       "      <td>0.010273</td>\n",
       "      <td>0.010273</td>\n",
       "      <td>0.010215</td>\n",
       "      <td>0.010135</td>\n",
       "      <td>0.010135</td>\n",
       "      <td>0.010078</td>\n",
       "      <td>0.009965</td>\n",
       "      <td>0.009965</td>\n",
       "      <td>...</td>\n",
       "      <td>0.000000</td>\n",
       "      <td>1.000000</td>\n",
       "      <td>0.000000</td>\n",
       "      <td>1.000000</td>\n",
       "      <td>0.000000</td>\n",
       "      <td>1.000000</td>\n",
       "      <td>0.000000</td>\n",
       "      <td>1.000000</td>\n",
       "      <td>0.000000</td>\n",
       "      <td>1.054538e-02</td>\n",
       "    </tr>\n",
       "    <tr>\n",
       "      <th>max</th>\n",
       "      <td>799.0000</td>\n",
       "      <td>0.025931</td>\n",
       "      <td>0.025931</td>\n",
       "      <td>0.025931</td>\n",
       "      <td>0.025931</td>\n",
       "      <td>0.025931</td>\n",
       "      <td>0.025931</td>\n",
       "      <td>0.025931</td>\n",
       "      <td>0.025931</td>\n",
       "      <td>0.025931</td>\n",
       "      <td>...</td>\n",
       "      <td>1.000000</td>\n",
       "      <td>1.000000</td>\n",
       "      <td>1.000000</td>\n",
       "      <td>1.000000</td>\n",
       "      <td>1.000000</td>\n",
       "      <td>1.000000</td>\n",
       "      <td>1.000000</td>\n",
       "      <td>1.000000</td>\n",
       "      <td>1.000000</td>\n",
       "      <td>2.593058e-02</td>\n",
       "    </tr>\n",
       "  </tbody>\n",
       "</table>\n",
       "<p>8 rows × 202 columns</p>\n",
       "</div>"
      ],
      "text/plain": [
       "       Unnamed: 0  \\\n",
       "count    800.0000   \n",
       "mean     399.5000   \n",
       "std      231.0844   \n",
       "min        0.0000   \n",
       "25%      199.7500   \n",
       "50%      399.5000   \n",
       "75%      599.2500   \n",
       "max      799.0000   \n",
       "\n",
       "       RelDiff_Signal_0.0_LinearTrend_residue_Seasonal_DayOfMonth_residue_Lag1  \\\n",
       "count                                         800.000000                         \n",
       "mean                                           -0.000031                         \n",
       "std                                             0.012714                         \n",
       "min                                            -0.024078                         \n",
       "25%                                            -0.009519                         \n",
       "50%                                            -0.003706                         \n",
       "75%                                             0.010417                         \n",
       "max                                             0.025931                         \n",
       "\n",
       "       RelDiff_Signal_0.0_LinearTrend_residue_Seasonal_DayOfMonth_residue_Lag4  \\\n",
       "count                                         800.000000                         \n",
       "mean                                           -0.000013                         \n",
       "std                                             0.012662                         \n",
       "min                                            -0.024078                         \n",
       "25%                                            -0.009500                         \n",
       "50%                                            -0.003674                         \n",
       "75%                                             0.010273                         \n",
       "max                                             0.025931                         \n",
       "\n",
       "       RelDiff_Signal_0.0_LinearTrend_residue_Seasonal_DayOfMonth_residue_Lag5  \\\n",
       "count                                         800.000000                         \n",
       "mean                                            0.000002                         \n",
       "std                                             0.012655                         \n",
       "min                                            -0.024078                         \n",
       "25%                                            -0.009425                         \n",
       "50%                                            -0.003640                         \n",
       "75%                                             0.010273                         \n",
       "max                                             0.025931                         \n",
       "\n",
       "       RelDiff_Signal_0.0_LinearTrend_residue_Seasonal_DayOfMonth_residue_Lag6  \\\n",
       "count                                         800.000000                         \n",
       "mean                                           -0.000029                         \n",
       "std                                             0.012625                         \n",
       "min                                            -0.024078                         \n",
       "25%                                            -0.009425                         \n",
       "50%                                            -0.003640                         \n",
       "75%                                             0.010215                         \n",
       "max                                             0.025931                         \n",
       "\n",
       "       RelDiff_Signal_0.0_LinearTrend_residue_Seasonal_DayOfMonth_residue_Lag9  \\\n",
       "count                                         800.000000                         \n",
       "mean                                           -0.000011                         \n",
       "std                                             0.012573                         \n",
       "min                                            -0.024078                         \n",
       "25%                                            -0.009324                         \n",
       "50%                                            -0.003571                         \n",
       "75%                                             0.010135                         \n",
       "max                                             0.025931                         \n",
       "\n",
       "       RelDiff_Signal_0.0_LinearTrend_residue_Seasonal_DayOfMonth_residue_Lag10  \\\n",
       "count                                         800.000000                          \n",
       "mean                                            0.000004                          \n",
       "std                                             0.012566                          \n",
       "min                                            -0.024078                          \n",
       "25%                                            -0.009260                          \n",
       "50%                                            -0.003542                          \n",
       "75%                                             0.010135                          \n",
       "max                                             0.025931                          \n",
       "\n",
       "       RelDiff_Signal_0.0_LinearTrend_residue_Seasonal_DayOfMonth_residue_Lag11  \\\n",
       "count                                         800.000000                          \n",
       "mean                                           -0.000022                          \n",
       "std                                             0.012543                          \n",
       "min                                            -0.024078                          \n",
       "25%                                            -0.009260                          \n",
       "50%                                            -0.003542                          \n",
       "75%                                             0.010078                          \n",
       "max                                             0.025931                          \n",
       "\n",
       "       RelDiff_Signal_0.0_LinearTrend_residue_Seasonal_DayOfMonth_residue_Lag14  \\\n",
       "count                                         800.000000                          \n",
       "mean                                           -0.000011                          \n",
       "std                                             0.012485                          \n",
       "min                                            -0.024078                          \n",
       "25%                                            -0.009188                          \n",
       "50%                                            -0.003420                          \n",
       "75%                                             0.009965                          \n",
       "max                                             0.025931                          \n",
       "\n",
       "       RelDiff_Signal_0.0_LinearTrend_residue_Seasonal_DayOfMonth_residue_Lag15  \\\n",
       "count                                         800.000000                          \n",
       "mean                                            0.000006                          \n",
       "std                                             0.012476                          \n",
       "min                                            -0.024078                          \n",
       "25%                                            -0.009148                          \n",
       "50%                                            -0.003365                          \n",
       "75%                                             0.009965                          \n",
       "max                                             0.025931                          \n",
       "\n",
       "           ...       exog_13=A_Lag20  exog_13=0_Lag23  exog_13=A_Lag23  \\\n",
       "count      ...            800.000000       800.000000       800.000000   \n",
       "mean       ...              0.007500         0.993750         0.006250   \n",
       "std        ...              0.086331         0.078859         0.078859   \n",
       "min        ...              0.000000         0.000000         0.000000   \n",
       "25%        ...              0.000000         1.000000         0.000000   \n",
       "50%        ...              0.000000         1.000000         0.000000   \n",
       "75%        ...              0.000000         1.000000         0.000000   \n",
       "max        ...              1.000000         1.000000         1.000000   \n",
       "\n",
       "       exog_13=0_Lag25  exog_13=A_Lag25  exog_13=0_Lag28  exog_13=A_Lag28  \\\n",
       "count       800.000000       800.000000       800.000000       800.000000   \n",
       "mean          0.993750         0.006250         0.993750         0.006250   \n",
       "std           0.078859         0.078859         0.078859         0.078859   \n",
       "min           0.000000         0.000000         0.000000         0.000000   \n",
       "25%           1.000000         0.000000         1.000000         0.000000   \n",
       "50%           1.000000         0.000000         1.000000         0.000000   \n",
       "75%           1.000000         0.000000         1.000000         0.000000   \n",
       "max           1.000000         1.000000         1.000000         1.000000   \n",
       "\n",
       "       exog_13=0_Lag30  exog_13=A_Lag30           TGT  \n",
       "count       800.000000       800.000000  8.000000e+02  \n",
       "mean          0.993750         0.006250  1.100489e-12  \n",
       "std           0.078859         0.078859  1.274431e-02  \n",
       "min           0.000000         0.000000 -2.407831e-02  \n",
       "25%           1.000000         0.000000 -9.519296e-03  \n",
       "50%           1.000000         0.000000 -3.706153e-03  \n",
       "75%           1.000000         0.000000  1.054538e-02  \n",
       "max           1.000000         1.000000  2.593058e-02  \n",
       "\n",
       "[8 rows x 202 columns]"
      ]
     },
     "execution_count": 4,
     "metadata": {},
     "output_type": "execute_result"
    }
   ],
   "source": [
    "pd.DataFrame(df.describe()).head(N)"
   ]
  },
  {
   "cell_type": "code",
   "execution_count": 5,
   "metadata": {
    "collapsed": false
   },
   "outputs": [
    {
     "data": {
      "text/html": [
       "<div>\n",
       "<table border=\"1\" class=\"dataframe\">\n",
       "  <thead>\n",
       "    <tr style=\"text-align: right;\">\n",
       "      <th></th>\n",
       "      <th>Unnamed: 0</th>\n",
       "      <th>RelDiff_Signal_0.0_LinearTrend_residue_Seasonal_DayOfMonth_residue_Lag1</th>\n",
       "      <th>RelDiff_Signal_0.0_LinearTrend_residue_Seasonal_DayOfMonth_residue_Lag4</th>\n",
       "      <th>RelDiff_Signal_0.0_LinearTrend_residue_Seasonal_DayOfMonth_residue_Lag5</th>\n",
       "      <th>RelDiff_Signal_0.0_LinearTrend_residue_Seasonal_DayOfMonth_residue_Lag6</th>\n",
       "      <th>RelDiff_Signal_0.0_LinearTrend_residue_Seasonal_DayOfMonth_residue_Lag9</th>\n",
       "      <th>RelDiff_Signal_0.0_LinearTrend_residue_Seasonal_DayOfMonth_residue_Lag10</th>\n",
       "      <th>RelDiff_Signal_0.0_LinearTrend_residue_Seasonal_DayOfMonth_residue_Lag11</th>\n",
       "      <th>RelDiff_Signal_0.0_LinearTrend_residue_Seasonal_DayOfMonth_residue_Lag14</th>\n",
       "      <th>RelDiff_Signal_0.0_LinearTrend_residue_Seasonal_DayOfMonth_residue_Lag15</th>\n",
       "      <th>...</th>\n",
       "      <th>exog_13=A_Lag20</th>\n",
       "      <th>exog_13=0_Lag23</th>\n",
       "      <th>exog_13=A_Lag23</th>\n",
       "      <th>exog_13=0_Lag25</th>\n",
       "      <th>exog_13=A_Lag25</th>\n",
       "      <th>exog_13=0_Lag28</th>\n",
       "      <th>exog_13=A_Lag28</th>\n",
       "      <th>exog_13=0_Lag30</th>\n",
       "      <th>exog_13=A_Lag30</th>\n",
       "      <th>TGT</th>\n",
       "    </tr>\n",
       "  </thead>\n",
       "  <tbody>\n",
       "    <tr>\n",
       "      <th>0</th>\n",
       "      <td>0</td>\n",
       "      <td>0.000388</td>\n",
       "      <td>0.000388</td>\n",
       "      <td>0.000388</td>\n",
       "      <td>0.000388</td>\n",
       "      <td>0.000388</td>\n",
       "      <td>0.000388</td>\n",
       "      <td>0.000388</td>\n",
       "      <td>0.000388</td>\n",
       "      <td>0.000388</td>\n",
       "      <td>...</td>\n",
       "      <td>0.0</td>\n",
       "      <td>1.0</td>\n",
       "      <td>0.0</td>\n",
       "      <td>1.0</td>\n",
       "      <td>0.0</td>\n",
       "      <td>1.0</td>\n",
       "      <td>0.0</td>\n",
       "      <td>1.0</td>\n",
       "      <td>0.0</td>\n",
       "      <td>0.000388</td>\n",
       "    </tr>\n",
       "    <tr>\n",
       "      <th>1</th>\n",
       "      <td>1</td>\n",
       "      <td>0.000388</td>\n",
       "      <td>0.000388</td>\n",
       "      <td>0.000388</td>\n",
       "      <td>0.000388</td>\n",
       "      <td>0.000388</td>\n",
       "      <td>0.000388</td>\n",
       "      <td>0.000388</td>\n",
       "      <td>0.000388</td>\n",
       "      <td>0.000388</td>\n",
       "      <td>...</td>\n",
       "      <td>0.0</td>\n",
       "      <td>1.0</td>\n",
       "      <td>0.0</td>\n",
       "      <td>1.0</td>\n",
       "      <td>0.0</td>\n",
       "      <td>1.0</td>\n",
       "      <td>0.0</td>\n",
       "      <td>1.0</td>\n",
       "      <td>0.0</td>\n",
       "      <td>-0.000849</td>\n",
       "    </tr>\n",
       "    <tr>\n",
       "      <th>2</th>\n",
       "      <td>2</td>\n",
       "      <td>-0.000849</td>\n",
       "      <td>0.000388</td>\n",
       "      <td>0.000388</td>\n",
       "      <td>0.000388</td>\n",
       "      <td>0.000388</td>\n",
       "      <td>0.000388</td>\n",
       "      <td>0.000388</td>\n",
       "      <td>0.000388</td>\n",
       "      <td>0.000388</td>\n",
       "      <td>...</td>\n",
       "      <td>0.0</td>\n",
       "      <td>1.0</td>\n",
       "      <td>0.0</td>\n",
       "      <td>1.0</td>\n",
       "      <td>0.0</td>\n",
       "      <td>1.0</td>\n",
       "      <td>0.0</td>\n",
       "      <td>1.0</td>\n",
       "      <td>0.0</td>\n",
       "      <td>0.000951</td>\n",
       "    </tr>\n",
       "    <tr>\n",
       "      <th>3</th>\n",
       "      <td>3</td>\n",
       "      <td>0.000951</td>\n",
       "      <td>0.000388</td>\n",
       "      <td>0.000388</td>\n",
       "      <td>0.000388</td>\n",
       "      <td>0.000388</td>\n",
       "      <td>0.000388</td>\n",
       "      <td>0.000388</td>\n",
       "      <td>0.000388</td>\n",
       "      <td>0.000388</td>\n",
       "      <td>...</td>\n",
       "      <td>0.0</td>\n",
       "      <td>1.0</td>\n",
       "      <td>0.0</td>\n",
       "      <td>1.0</td>\n",
       "      <td>0.0</td>\n",
       "      <td>1.0</td>\n",
       "      <td>0.0</td>\n",
       "      <td>1.0</td>\n",
       "      <td>0.0</td>\n",
       "      <td>-0.002512</td>\n",
       "    </tr>\n",
       "    <tr>\n",
       "      <th>4</th>\n",
       "      <td>4</td>\n",
       "      <td>-0.002512</td>\n",
       "      <td>0.000388</td>\n",
       "      <td>0.000388</td>\n",
       "      <td>0.000388</td>\n",
       "      <td>0.000388</td>\n",
       "      <td>0.000388</td>\n",
       "      <td>0.000388</td>\n",
       "      <td>0.000388</td>\n",
       "      <td>0.000388</td>\n",
       "      <td>...</td>\n",
       "      <td>0.0</td>\n",
       "      <td>1.0</td>\n",
       "      <td>0.0</td>\n",
       "      <td>1.0</td>\n",
       "      <td>0.0</td>\n",
       "      <td>1.0</td>\n",
       "      <td>0.0</td>\n",
       "      <td>1.0</td>\n",
       "      <td>0.0</td>\n",
       "      <td>0.005482</td>\n",
       "    </tr>\n",
       "  </tbody>\n",
       "</table>\n",
       "<p>5 rows × 202 columns</p>\n",
       "</div>"
      ],
      "text/plain": [
       "   Unnamed: 0  \\\n",
       "0           0   \n",
       "1           1   \n",
       "2           2   \n",
       "3           3   \n",
       "4           4   \n",
       "\n",
       "   RelDiff_Signal_0.0_LinearTrend_residue_Seasonal_DayOfMonth_residue_Lag1  \\\n",
       "0                                           0.000388                         \n",
       "1                                           0.000388                         \n",
       "2                                          -0.000849                         \n",
       "3                                           0.000951                         \n",
       "4                                          -0.002512                         \n",
       "\n",
       "   RelDiff_Signal_0.0_LinearTrend_residue_Seasonal_DayOfMonth_residue_Lag4  \\\n",
       "0                                           0.000388                         \n",
       "1                                           0.000388                         \n",
       "2                                           0.000388                         \n",
       "3                                           0.000388                         \n",
       "4                                           0.000388                         \n",
       "\n",
       "   RelDiff_Signal_0.0_LinearTrend_residue_Seasonal_DayOfMonth_residue_Lag5  \\\n",
       "0                                           0.000388                         \n",
       "1                                           0.000388                         \n",
       "2                                           0.000388                         \n",
       "3                                           0.000388                         \n",
       "4                                           0.000388                         \n",
       "\n",
       "   RelDiff_Signal_0.0_LinearTrend_residue_Seasonal_DayOfMonth_residue_Lag6  \\\n",
       "0                                           0.000388                         \n",
       "1                                           0.000388                         \n",
       "2                                           0.000388                         \n",
       "3                                           0.000388                         \n",
       "4                                           0.000388                         \n",
       "\n",
       "   RelDiff_Signal_0.0_LinearTrend_residue_Seasonal_DayOfMonth_residue_Lag9  \\\n",
       "0                                           0.000388                         \n",
       "1                                           0.000388                         \n",
       "2                                           0.000388                         \n",
       "3                                           0.000388                         \n",
       "4                                           0.000388                         \n",
       "\n",
       "   RelDiff_Signal_0.0_LinearTrend_residue_Seasonal_DayOfMonth_residue_Lag10  \\\n",
       "0                                           0.000388                          \n",
       "1                                           0.000388                          \n",
       "2                                           0.000388                          \n",
       "3                                           0.000388                          \n",
       "4                                           0.000388                          \n",
       "\n",
       "   RelDiff_Signal_0.0_LinearTrend_residue_Seasonal_DayOfMonth_residue_Lag11  \\\n",
       "0                                           0.000388                          \n",
       "1                                           0.000388                          \n",
       "2                                           0.000388                          \n",
       "3                                           0.000388                          \n",
       "4                                           0.000388                          \n",
       "\n",
       "   RelDiff_Signal_0.0_LinearTrend_residue_Seasonal_DayOfMonth_residue_Lag14  \\\n",
       "0                                           0.000388                          \n",
       "1                                           0.000388                          \n",
       "2                                           0.000388                          \n",
       "3                                           0.000388                          \n",
       "4                                           0.000388                          \n",
       "\n",
       "   RelDiff_Signal_0.0_LinearTrend_residue_Seasonal_DayOfMonth_residue_Lag15  \\\n",
       "0                                           0.000388                          \n",
       "1                                           0.000388                          \n",
       "2                                           0.000388                          \n",
       "3                                           0.000388                          \n",
       "4                                           0.000388                          \n",
       "\n",
       "     ...     exog_13=A_Lag20  exog_13=0_Lag23  exog_13=A_Lag23  \\\n",
       "0    ...                 0.0              1.0              0.0   \n",
       "1    ...                 0.0              1.0              0.0   \n",
       "2    ...                 0.0              1.0              0.0   \n",
       "3    ...                 0.0              1.0              0.0   \n",
       "4    ...                 0.0              1.0              0.0   \n",
       "\n",
       "   exog_13=0_Lag25  exog_13=A_Lag25  exog_13=0_Lag28  exog_13=A_Lag28  \\\n",
       "0              1.0              0.0              1.0              0.0   \n",
       "1              1.0              0.0              1.0              0.0   \n",
       "2              1.0              0.0              1.0              0.0   \n",
       "3              1.0              0.0              1.0              0.0   \n",
       "4              1.0              0.0              1.0              0.0   \n",
       "\n",
       "   exog_13=0_Lag30  exog_13=A_Lag30       TGT  \n",
       "0              1.0              0.0  0.000388  \n",
       "1              1.0              0.0 -0.000849  \n",
       "2              1.0              0.0  0.000951  \n",
       "3              1.0              0.0 -0.002512  \n",
       "4              1.0              0.0  0.005482  \n",
       "\n",
       "[5 rows x 202 columns]"
      ]
     },
     "execution_count": 5,
     "metadata": {},
     "output_type": "execute_result"
    }
   ],
   "source": [
    "df.head()"
   ]
  },
  {
   "cell_type": "code",
   "execution_count": 6,
   "metadata": {
    "collapsed": false
   },
   "outputs": [],
   "source": [
    "inputs = df.columns[1:-1]"
   ]
  },
  {
   "cell_type": "code",
   "execution_count": 7,
   "metadata": {
    "collapsed": true
   },
   "outputs": [],
   "source": [
    "X = df[inputs].values"
   ]
  },
  {
   "cell_type": "code",
   "execution_count": 8,
   "metadata": {
    "collapsed": false
   },
   "outputs": [
    {
     "data": {
      "text/plain": [
       "False"
      ]
     },
     "execution_count": 8,
     "metadata": {},
     "output_type": "execute_result"
    }
   ],
   "source": [
    "np.any(np.isnan(X))"
   ]
  },
  {
   "cell_type": "code",
   "execution_count": 9,
   "metadata": {
    "collapsed": false
   },
   "outputs": [
    {
     "data": {
      "text/plain": [
       "(0.0, 1.0)"
      ]
     },
     "execution_count": 9,
     "metadata": {},
     "output_type": "execute_result"
    }
   ],
   "source": [
    "np.min(np.abs(X)), np.max(np.abs(X))"
   ]
  },
  {
   "cell_type": "code",
   "execution_count": 10,
   "metadata": {
    "collapsed": false
   },
   "outputs": [
    {
     "data": {
      "text/plain": [
       "<matplotlib.axes._subplots.AxesSubplot at 0x7f80fce8b550>"
      ]
     },
     "execution_count": 10,
     "metadata": {},
     "output_type": "execute_result"
    },
    {
     "data": {
      "image/png": "[encoded data removed]",
      "text/plain": [
       "<matplotlib.figure.Figure at 0x7f80fcf1a4a8>"
      ]
     },
     "metadata": {},
     "output_type": "display_data"
    }
   ],
   "source": [
    "df.plot(df.index , inputs, legend=False)"
   ]
  },
  {
   "cell_type": "code",
   "execution_count": 11,
   "metadata": {
    "collapsed": false
   },
   "outputs": [
    {
     "data": {
      "text/plain": [
       "array([[ 1.        ,  1.        ,  0.99999993, ...,  0.90952891,\n",
       "         0.9086216 ,  0.90939538],\n",
       "       [ 1.        ,  1.        ,  0.99999993, ...,  0.90952891,\n",
       "         0.9086216 ,  0.90939538],\n",
       "       [ 0.99999993,  0.99999993,  1.        , ...,  0.90953133,\n",
       "         0.90862052,  0.90939746],\n",
       "       ..., \n",
       "       [ 0.90952891,  0.90952891,  0.90953133, ...,  1.        ,\n",
       "         0.81503973,  0.82260817],\n",
       "       [ 0.9086216 ,  0.9086216 ,  0.90862052, ...,  0.81503973,\n",
       "         1.        ,  0.81400611],\n",
       "       [ 0.90939538,  0.90939538,  0.90939746, ...,  0.82260817,\n",
       "         0.81400611,  1.        ]])"
      ]
     },
     "execution_count": 11,
     "metadata": {},
     "output_type": "execute_result"
    }
   ],
   "source": [
    "np.corrcoef(X)"
   ]
  },
  {
   "cell_type": "code",
   "execution_count": 12,
   "metadata": {
    "collapsed": false
   },
   "outputs": [],
   "source": [
    "A = np.linalg.svd(X, full_matrices=False)\n",
    "for i in range(5):\n",
    "    B = np.linalg.svd(X, full_matrices=False)\n",
    "    assert np.all(np.isclose(A[0], B[0] , atol=1e-13))\n",
    "    assert np.all(np.isclose(A[1], B[1] , atol=1e-13))\n",
    "    assert np.all(np.isclose(A[2], B[2] , atol=1e-13))\n",
    "    "
   ]
  },
  {
   "cell_type": "code",
   "execution_count": 13,
   "metadata": {
    "collapsed": false
   },
   "outputs": [
    {
     "data": {
      "text/plain": [
       "<matplotlib.axes._subplots.AxesSubplot at 0x7f80f75c19b0>"
      ]
     },
     "execution_count": 13,
     "metadata": {},
     "output_type": "execute_result"
    },
    {
     "data": {
      "image/png": "[encoded data removed]",
      "text/plain": [
       "<matplotlib.figure.Figure at 0x7f80f75f3550>"
      ]
     },
     "metadata": {},
     "output_type": "display_data"
    }
   ],
   "source": [
    "df.TGT.plot()"
   ]
  },
  {
   "cell_type": "code",
   "execution_count": null,
   "metadata": {
    "collapsed": true
   },
   "outputs": [],
   "source": []
  },
  {
   "cell_type": "code",
   "execution_count": 14,
   "metadata": {
    "collapsed": false
   },
   "outputs": [],
   "source": [
    "X_c = (X - X.mean()) / X.std()"
   ]
  },
  {
   "cell_type": "code",
   "execution_count": 15,
   "metadata": {
    "collapsed": false
   },
   "outputs": [
    {
     "name": "stdout",
     "output_type": "stream",
     "text": [
      "5 -0.00696550505703_-0.00634801179852_0.000352260583799 -0.00696550505703_-0.00634801179852_0.000352260583799\n",
      "10 -0.00696550505703_-0.00634801179852_0.000352260583799 -0.00696550505703_-0.00634801179852_0.000352260583799\n",
      "15 -0.00696550505703_-0.00634801179852_0.000352260583799 -0.00696550505703_-0.00634801179852_0.000352260583799\n",
      "20 -0.00696550505703_-0.00634801179852_0.000352260583799 -0.00696550505703_-0.00634801179852_0.000352260583799\n",
      "25 -0.00696550505703_-0.00634801179852_0.000352260583799 -0.00696550505703_-0.00634801179852_0.000352260583799\n",
      "30 -0.00696550505703_-0.00634801179852_0.000352260583799 -0.00696550505703_-0.00634801179852_0.000352260583799\n",
      "35 -0.00696550505703_-0.00634801179852_0.000352260583799 -0.00696550505703_-0.00634801179852_0.000352260583799\n",
      "40 -0.00696550505703_-0.00634801179852_0.000352260583799 -0.00696550505703_-0.00634801179852_0.000352260583799\n",
      "45 -0.00696550505703_-0.00634801179852_0.000352260583799 -0.00696550505703_-0.00634801179852_0.000352260583799\n"
     ]
    }
   ],
   "source": [
    "# test the stability\n",
    "import sklearn.linear_model as linear_model\n",
    "lScikitModel = linear_model.Ridge(solver='svd')\n",
    "\n",
    "lARInputsAfterSelection = X\n",
    "lARTarget = df.TGT.values\n",
    "\n",
    "A = None\n",
    "for i in range(50):\n",
    "    lScikitModel.fit(lARInputsAfterSelection, lARTarget)\n",
    "    C = str(lScikitModel.coef_[0]) + \"_\" + str(lScikitModel.coef_[1]) + \"_\" + str(lScikitModel.coef_[-1]);\n",
    "    if(A is None):\n",
    "        A = C\n",
    "    else:\n",
    "        if((i % 5) == 0):\n",
    "            print(i, A , C)\n",
    "        assert(A == C)\n"
   ]
  },
  {
   "cell_type": "code",
   "execution_count": null,
   "metadata": {
    "collapsed": true
   },
   "outputs": [],
   "source": []
  },
  {
   "cell_type": "code",
   "execution_count": null,
   "metadata": {
    "collapsed": true
   },
   "outputs": [],
   "source": []
  }
 ],
 "metadata": {
  "kernelspec": {
   "display_name": "Python 3",
   "language": "python",
   "name": "python3"
  },
  "language_info": {
   "codemirror_mode": {
    "name": "ipython",
    "version": 3
   },
   "file_extension": ".py",
   "mimetype": "text/x-python",
   "name": "python",
   "nbconvert_exporter": "python",
   "pygments_lexer": "ipython3",
   "version": "3.5.3"
  }
 },
 "nbformat": 4,
 "nbformat_minor": 0
}
