{
 "cells": [
  {
   "cell_type": "markdown",
   "metadata": {},
   "source": [
    "# An introduction to time series forecasting with PyAF"
   ]
  },
  {
   "cell_type": "markdown",
   "metadata": {},
   "source": [
    "This is an introduction to time series forecasting with PyAF. \n",
    "We describe the basic vocabulary used and give simple examples.\n"
   ]
  },
  {
   "cell_type": "markdown",
   "metadata": {},
   "source": [
    "## Problem Setting"
   ]
  },
  {
   "cell_type": "markdown",
   "metadata": {},
   "source": [
    "\n",
    "The main problem to be solved with a forecasting tool is to predict the future values of a quantity of interest called 'Signal' over a period of time called 'Horizon' (predict the shop sales over next 7 days).\n",
    "\n",
    "Usually all available (mainly past) data on the signal can be used to perform the forecasting task, even external related signals can be used (called exogenous signals, weather data can be used to predict ice-cream sales).\n",
    "\n",
    "The time itself can also be used. Some time information can be helpful : sundays, holidays, quarter of the year etc. Future values of time-based data are usually known.\n",
    "\n",
    "Time series models are mathematical concepts that can used to compute the future values. They summarize a pattern that can be observed in the data in a regular way. Example time series models :\n",
    " - Linear trend : next future valeus are obtained by extrapolating a straight line fitted on known signal data.\n",
    " - Cycles : future values follow a periodic pattern (one value for each day of the week, for example).\n",
    " - Moving Average : Some combination of previous signal values (average sales of previous 7 days).\n",
    " - Naive model : the predicted value for tomorrow is today value. \n",
    " - ...\n",
    "\n",
    "Automatic forecasting is about testing a lot of possible time series models and selecting the best model based on its forecast quality (difference between predicted and actual values). \n"
   ]
  },
  {
   "cell_type": "markdown",
   "metadata": {},
   "source": [
    "## Forecasting with PyAF"
   ]
  },
  {
   "cell_type": "markdown",
   "metadata": {},
   "source": [
    "\n",
    "PyAF uses a machine learning approach to perform the forecasting task. It starts by building a time series model based on past values (training process) and then uses this model to generate the future values (forecast).\n",
    "\n",
    "A typical PyAF use case can sketched the following way :\n",
    "\n",
    "[read CSV file or table in database ] => [Pandas Dataframe , DF] => [train a model M using DF ] => [forecast DF using M] => [Pandas Dataframe containing Forecasts , FC] => [save FC to a csv file or a database]\n",
    "\n",
    "The first two and last two operations are Pandas generic data access tasks and are not part of PyAF. PyAF is only concerned with training the mdoel and using it to forecast the signal.\n",
    "\n",
    "A pandas dataframe object is a very sophisticated representation of the dataset. It allows a lot of possible manipulations on the data. Almost everything that can be done in a spreadsheet or a database (SQL) is possible, in python, using this object. It can be seen an abstarct unifying view of columnar data such as disk files and database tables. \n",
    "\n",
    "For a serious introduction to pandas objects see http://pandas.pydata.org/pandas-docs/stable/dsintro.html.\n"
   ]
  },
  {
   "cell_type": "markdown",
   "metadata": {},
   "source": [
    "## PyAF Use Cases\n"
   ]
  },
  {
   "cell_type": "markdown",
   "metadata": {},
   "source": [
    "### PyAF on the Ozone dataset"
   ]
  },
  {
   "cell_type": "markdown",
   "metadata": {},
   "source": [
    "\n",
    "Here , we take a standard use case, of ozone data in LA (https://datamarket.com/data/set/22u8/ozon-concentration-downtown-l-a-1955-1972). This is a popular dataset that gives the  monthly average of ozone concentration in LA from January 1955 to Dec 1972.  \n",
    "\n",
    "The Ozone dataset is available as a comma separated values (CSV) file from the link below.\n",
    "\n",
    "First , we load the dataset int a pandas dataframe object."
   ]
  },
  {
   "cell_type": "code",
   "execution_count": 1,
   "metadata": {
    "collapsed": true
   },
   "outputs": [],
   "source": [
    "# insert some logging\n",
    "import logging\n",
    "import logging.config\n",
    "\n",
    "# remove the notebook root logger.\n",
    "logger = logging.getLogger()\n",
    "logger.handlers = []\n",
    "\n",
    "# set default level\n",
    "logging.basicConfig(level=logging.INFO)"
   ]
  },
  {
   "cell_type": "code",
   "execution_count": 2,
   "metadata": {
    "collapsed": true
   },
   "outputs": [],
   "source": [
    "import pandas as pd\n",
    "\n",
    "\n",
    "csvfile_link = \"https://raw.githubusercontent.com/antoinecarme/TimeSeriesData/master/ozone-la.csv\"\n",
    "ozone_dataframe = pd.read_csv(csvfile_link);"
   ]
  },
  {
   "cell_type": "markdown",
   "metadata": {},
   "source": [
    "This dataset has two columns : 'Month' and 'Ozone'. "
   ]
  },
  {
   "cell_type": "code",
   "execution_count": 3,
   "metadata": {
    "collapsed": false
   },
   "outputs": [
    {
     "data": {
      "text/html": [
       "<div>\n",
       "<table border=\"1\" class=\"dataframe\">\n",
       "  <thead>\n",
       "    <tr style=\"text-align: right;\">\n",
       "      <th></th>\n",
       "      <th>Month</th>\n",
       "      <th>Ozone</th>\n",
       "    </tr>\n",
       "  </thead>\n",
       "  <tbody>\n",
       "    <tr>\n",
       "      <th>0</th>\n",
       "      <td>1955-01</td>\n",
       "      <td>2.7</td>\n",
       "    </tr>\n",
       "    <tr>\n",
       "      <th>1</th>\n",
       "      <td>1955-02</td>\n",
       "      <td>2.0</td>\n",
       "    </tr>\n",
       "    <tr>\n",
       "      <th>2</th>\n",
       "      <td>1955-03</td>\n",
       "      <td>3.6</td>\n",
       "    </tr>\n",
       "    <tr>\n",
       "      <th>3</th>\n",
       "      <td>1955-04</td>\n",
       "      <td>5.0</td>\n",
       "    </tr>\n",
       "    <tr>\n",
       "      <th>4</th>\n",
       "      <td>1955-05</td>\n",
       "      <td>6.5</td>\n",
       "    </tr>\n",
       "  </tbody>\n",
       "</table>\n",
       "</div>"
      ],
      "text/plain": [
       "     Month  Ozone\n",
       "0  1955-01    2.7\n",
       "1  1955-02    2.0\n",
       "2  1955-03    3.6\n",
       "3  1955-04    5.0\n",
       "4  1955-05    6.5"
      ]
     },
     "execution_count": 3,
     "metadata": {},
     "output_type": "execute_result"
    }
   ],
   "source": [
    "ozone_dataframe.head()"
   ]
  },
  {
   "cell_type": "markdown",
   "metadata": {},
   "source": [
    "We see here that the column 'Month' is not really a datetime column (strange date format). Pandas prvides the necessary tools to 'normalize' this column on the fly (ISO date format) :"
   ]
  },
  {
   "cell_type": "code",
   "execution_count": 4,
   "metadata": {
    "collapsed": false
   },
   "outputs": [
    {
     "data": {
      "text/html": [
       "<div>\n",
       "<table border=\"1\" class=\"dataframe\">\n",
       "  <thead>\n",
       "    <tr style=\"text-align: right;\">\n",
       "      <th></th>\n",
       "      <th>Month</th>\n",
       "      <th>Ozone</th>\n",
       "    </tr>\n",
       "  </thead>\n",
       "  <tbody>\n",
       "    <tr>\n",
       "      <th>0</th>\n",
       "      <td>1955-01-01</td>\n",
       "      <td>2.7</td>\n",
       "    </tr>\n",
       "    <tr>\n",
       "      <th>1</th>\n",
       "      <td>1955-02-01</td>\n",
       "      <td>2.0</td>\n",
       "    </tr>\n",
       "    <tr>\n",
       "      <th>2</th>\n",
       "      <td>1955-03-01</td>\n",
       "      <td>3.6</td>\n",
       "    </tr>\n",
       "    <tr>\n",
       "      <th>3</th>\n",
       "      <td>1955-04-01</td>\n",
       "      <td>5.0</td>\n",
       "    </tr>\n",
       "    <tr>\n",
       "      <th>4</th>\n",
       "      <td>1955-05-01</td>\n",
       "      <td>6.5</td>\n",
       "    </tr>\n",
       "  </tbody>\n",
       "</table>\n",
       "</div>"
      ],
      "text/plain": [
       "       Month  Ozone\n",
       "0 1955-01-01    2.7\n",
       "1 1955-02-01    2.0\n",
       "2 1955-03-01    3.6\n",
       "3 1955-04-01    5.0\n",
       "4 1955-05-01    6.5"
      ]
     },
     "execution_count": 4,
     "metadata": {},
     "output_type": "execute_result"
    }
   ],
   "source": [
    "import datetime\n",
    "ozone_dataframe['Month'] = ozone_dataframe['Month'].apply(lambda x : datetime.datetime.strptime(x, \"%Y-%m\"))\n",
    "ozone_dataframe.head()\n"
   ]
  },
  {
   "cell_type": "markdown",
   "metadata": {},
   "source": [
    "Pandas provides also some plotting capabilities "
   ]
  },
  {
   "cell_type": "code",
   "execution_count": 5,
   "metadata": {
    "collapsed": false
   },
   "outputs": [
    {
     "data": {
      "text/plain": [
       "<matplotlib.axes._subplots.AxesSubplot at 0x7f2faf42d3c8>"
      ]
     },
     "execution_count": 5,
     "metadata": {},
     "output_type": "execute_result"
    },
    {
     "data": {
      "image/png": "[encoded data removed]",
      "text/plain": [
       "<matplotlib.figure.Figure at 0x7f2faf417908>"
      ]
     },
     "metadata": {},
     "output_type": "display_data"
    }
   ],
   "source": [
    "%matplotlib inline  \n",
    "ozone_dataframe.plot.line('Month', ['Ozone'], grid = True, figsize=(12, 8))\n"
   ]
  },
  {
   "cell_type": "markdown",
   "metadata": {},
   "source": [
    "Now, we can build/train a time series model with PyAF to forecast the next 12 values:\n"
   ]
  },
  {
   "cell_type": "code",
   "execution_count": 17,
   "metadata": {
    "collapsed": false
   },
   "outputs": [
    {
     "name": "stderr",
     "output_type": "stream",
     "text": [
      "INFO:pyaf.std:START_TRAINING 'Ozone'\n",
      "INFO:pyaf.std:END_TRAINING_TIME_IN_SECONDS 'Ozone' 7.766906976699829\n"
     ]
    }
   ],
   "source": [
    "import pyaf.ForecastEngine as autof\n",
    "lEngine = autof.cForecastEngine()\n",
    "lEngine.train(ozone_dataframe , 'Month' , 'Ozone', 12);"
   ]
  },
  {
   "cell_type": "code",
   "execution_count": 18,
   "metadata": {
    "collapsed": false
   },
   "outputs": [
    {
     "name": "stderr",
     "output_type": "stream",
     "text": [
      "INFO:pyaf.std:TIME_DETAIL TimeVariable='Month' TimeMin=1955-01-01 00:00:00 TimeMax=1968-07-01 00:00:00 TimeDelta=30 days 10:22:13.333333 Estimation = (0 , 163) Validation = (163 , 204) Test = (204 , 216) Horizon=12\n",
      "INFO:pyaf.std:SIGNAL_DETAIL SignalVariable='_Ozone' Min=1.2 Max=8.7  Mean=3.77268518519 StdDev=1.48817692751\n",
      "INFO:pyaf.std:BEST_TRANSOFORMATION_TYPE '_'\n",
      "INFO:pyaf.std:BEST_DECOMPOSITION  '_Ozone_LinearTrend_residue_Seasonal_MonthOfYear_residue_NoAR' [LinearTrend + Seasonal_MonthOfYear + NoAR]\n",
      "INFO:pyaf.std:TREND_DETAIL '_Ozone_LinearTrend' [LinearTrend]\n",
      "INFO:pyaf.std:CYCLE_DETAIL '_Ozone_LinearTrend_residue_Seasonal_MonthOfYear' [Seasonal_MonthOfYear]\n",
      "INFO:pyaf.std:AUTOREG_DETAIL '_Ozone_LinearTrend_residue_Seasonal_MonthOfYear_residue_NoAR' [NoAR]\n",
      "INFO:pyaf.std:MODEL_MAPE MAPE_Fit=0.1854 MAPE_Forecast=0.2026 MAPE_Test=0.2553\n",
      "INFO:pyaf.std:MODEL_L2 L2_Fit=0.88286578872 L2_Forecast=0.649468639229 L2_Test=0.761933352008\n",
      "INFO:pyaf.std:MODEL_COMPLEXITY 20\n",
      "INFO:pyaf.std:AR_MODEL_DETAIL_START\n",
      "INFO:pyaf.std:AR_MODEL_DETAIL_END\n"
     ]
    }
   ],
   "source": [
    "lEngine.getModelInfo()"
   ]
  },
  {
   "cell_type": "markdown",
   "metadata": {},
   "source": [
    "At this point, PyAF has tested all possible time series models and selected the best one. The whole process took about 7 seconds in this test."
   ]
  },
  {
   "cell_type": "markdown",
   "metadata": {},
   "source": [
    "to predict the next values using this model and show the last 20 values :\n"
   ]
  },
  {
   "cell_type": "code",
   "execution_count": 7,
   "metadata": {
    "collapsed": false
   },
   "outputs": [
    {
     "data": {
      "text/html": [
       "<div>\n",
       "<table border=\"1\" class=\"dataframe\">\n",
       "  <thead>\n",
       "    <tr style=\"text-align: right;\">\n",
       "      <th></th>\n",
       "      <th>Month</th>\n",
       "      <th>Ozone</th>\n",
       "      <th>_Ozone</th>\n",
       "      <th>row_number</th>\n",
       "      <th>Month_Normalized</th>\n",
       "      <th>_Ozone_LinearTrend</th>\n",
       "      <th>_Ozone_LinearTrend_residue</th>\n",
       "      <th>_Ozone_LinearTrend_residue_Seasonal_MonthOfYear</th>\n",
       "      <th>_Ozone_LinearTrend_residue_Seasonal_MonthOfYear_residue</th>\n",
       "      <th>_Ozone_LinearTrend_residue_Seasonal_MonthOfYear_residue_NoAR</th>\n",
       "      <th>...</th>\n",
       "      <th>_Ozone_Cycle</th>\n",
       "      <th>_Ozone_Cycle_residue</th>\n",
       "      <th>_Ozone_AR</th>\n",
       "      <th>_Ozone_AR_residue</th>\n",
       "      <th>_Ozone_TransformedForecast</th>\n",
       "      <th>_Ozone_TransformedResidue</th>\n",
       "      <th>Ozone_Forecast</th>\n",
       "      <th>Ozone_Residue</th>\n",
       "      <th>Ozone_Forecast_Lower_Bound</th>\n",
       "      <th>Ozone_Forecast_Upper_Bound</th>\n",
       "    </tr>\n",
       "  </thead>\n",
       "  <tbody>\n",
       "    <tr>\n",
       "      <th>208</th>\n",
       "      <td>1972-05-01</td>\n",
       "      <td>3.5</td>\n",
       "      <td>3.500000</td>\n",
       "      <td>208</td>\n",
       "      <td>1.283976</td>\n",
       "      <td>2.583939</td>\n",
       "      <td>0.916061</td>\n",
       "      <td>-0.068397</td>\n",
       "      <td>9.844588e-01</td>\n",
       "      <td>0.0</td>\n",
       "      <td>...</td>\n",
       "      <td>-0.068397</td>\n",
       "      <td>9.844588e-01</td>\n",
       "      <td>0.0</td>\n",
       "      <td>9.844588e-01</td>\n",
       "      <td>2.515541</td>\n",
       "      <td>0.984459</td>\n",
       "      <td>2.515541</td>\n",
       "      <td>0.984459</td>\n",
       "      <td>NaN</td>\n",
       "      <td>NaN</td>\n",
       "    </tr>\n",
       "    <tr>\n",
       "      <th>209</th>\n",
       "      <td>1972-06-01</td>\n",
       "      <td>3.4</td>\n",
       "      <td>3.400000</td>\n",
       "      <td>209</td>\n",
       "      <td>1.290264</td>\n",
       "      <td>2.572114</td>\n",
       "      <td>0.827886</td>\n",
       "      <td>0.779142</td>\n",
       "      <td>4.874450e-02</td>\n",
       "      <td>0.0</td>\n",
       "      <td>...</td>\n",
       "      <td>0.779142</td>\n",
       "      <td>4.874450e-02</td>\n",
       "      <td>0.0</td>\n",
       "      <td>4.874450e-02</td>\n",
       "      <td>3.351255</td>\n",
       "      <td>0.048745</td>\n",
       "      <td>3.351255</td>\n",
       "      <td>0.048745</td>\n",
       "      <td>NaN</td>\n",
       "      <td>NaN</td>\n",
       "    </tr>\n",
       "    <tr>\n",
       "      <th>210</th>\n",
       "      <td>1972-07-01</td>\n",
       "      <td>4.0</td>\n",
       "      <td>4.000000</td>\n",
       "      <td>210</td>\n",
       "      <td>1.296349</td>\n",
       "      <td>2.560670</td>\n",
       "      <td>1.439330</td>\n",
       "      <td>1.347728</td>\n",
       "      <td>9.160165e-02</td>\n",
       "      <td>0.0</td>\n",
       "      <td>...</td>\n",
       "      <td>1.347728</td>\n",
       "      <td>9.160165e-02</td>\n",
       "      <td>0.0</td>\n",
       "      <td>9.160165e-02</td>\n",
       "      <td>3.908398</td>\n",
       "      <td>0.091602</td>\n",
       "      <td>3.908398</td>\n",
       "      <td>0.091602</td>\n",
       "      <td>NaN</td>\n",
       "      <td>NaN</td>\n",
       "    </tr>\n",
       "    <tr>\n",
       "      <th>211</th>\n",
       "      <td>1972-08-01</td>\n",
       "      <td>3.8</td>\n",
       "      <td>3.800000</td>\n",
       "      <td>211</td>\n",
       "      <td>1.302637</td>\n",
       "      <td>2.548846</td>\n",
       "      <td>1.251154</td>\n",
       "      <td>1.241529</td>\n",
       "      <td>9.625592e-03</td>\n",
       "      <td>0.0</td>\n",
       "      <td>...</td>\n",
       "      <td>1.241529</td>\n",
       "      <td>9.625592e-03</td>\n",
       "      <td>0.0</td>\n",
       "      <td>9.625592e-03</td>\n",
       "      <td>3.790374</td>\n",
       "      <td>0.009626</td>\n",
       "      <td>3.790374</td>\n",
       "      <td>0.009626</td>\n",
       "      <td>NaN</td>\n",
       "      <td>NaN</td>\n",
       "    </tr>\n",
       "    <tr>\n",
       "      <th>212</th>\n",
       "      <td>1972-09-01</td>\n",
       "      <td>3.1</td>\n",
       "      <td>3.100000</td>\n",
       "      <td>212</td>\n",
       "      <td>1.308925</td>\n",
       "      <td>2.537021</td>\n",
       "      <td>0.562979</td>\n",
       "      <td>1.376430</td>\n",
       "      <td>-8.134513e-01</td>\n",
       "      <td>0.0</td>\n",
       "      <td>...</td>\n",
       "      <td>1.376430</td>\n",
       "      <td>-8.134513e-01</td>\n",
       "      <td>0.0</td>\n",
       "      <td>-8.134513e-01</td>\n",
       "      <td>3.913451</td>\n",
       "      <td>-0.813451</td>\n",
       "      <td>3.913451</td>\n",
       "      <td>-0.813451</td>\n",
       "      <td>NaN</td>\n",
       "      <td>NaN</td>\n",
       "    </tr>\n",
       "    <tr>\n",
       "      <th>213</th>\n",
       "      <td>1972-10-01</td>\n",
       "      <td>2.1</td>\n",
       "      <td>2.100000</td>\n",
       "      <td>213</td>\n",
       "      <td>1.315010</td>\n",
       "      <td>2.525578</td>\n",
       "      <td>-0.425578</td>\n",
       "      <td>0.980181</td>\n",
       "      <td>-1.405759e+00</td>\n",
       "      <td>0.0</td>\n",
       "      <td>...</td>\n",
       "      <td>0.980181</td>\n",
       "      <td>-1.405759e+00</td>\n",
       "      <td>0.0</td>\n",
       "      <td>-1.405759e+00</td>\n",
       "      <td>3.505759</td>\n",
       "      <td>-1.405759</td>\n",
       "      <td>3.505759</td>\n",
       "      <td>-1.405759</td>\n",
       "      <td>NaN</td>\n",
       "      <td>NaN</td>\n",
       "    </tr>\n",
       "    <tr>\n",
       "      <th>214</th>\n",
       "      <td>1972-11-01</td>\n",
       "      <td>1.6</td>\n",
       "      <td>1.600000</td>\n",
       "      <td>214</td>\n",
       "      <td>1.321298</td>\n",
       "      <td>2.513753</td>\n",
       "      <td>-0.913753</td>\n",
       "      <td>-0.246455</td>\n",
       "      <td>-6.672975e-01</td>\n",
       "      <td>0.0</td>\n",
       "      <td>...</td>\n",
       "      <td>-0.246455</td>\n",
       "      <td>-6.672975e-01</td>\n",
       "      <td>0.0</td>\n",
       "      <td>-6.672975e-01</td>\n",
       "      <td>2.267297</td>\n",
       "      <td>-0.667297</td>\n",
       "      <td>2.267297</td>\n",
       "      <td>-0.667297</td>\n",
       "      <td>NaN</td>\n",
       "      <td>NaN</td>\n",
       "    </tr>\n",
       "    <tr>\n",
       "      <th>215</th>\n",
       "      <td>1972-12-01</td>\n",
       "      <td>1.3</td>\n",
       "      <td>1.300000</td>\n",
       "      <td>215</td>\n",
       "      <td>1.327383</td>\n",
       "      <td>2.502309</td>\n",
       "      <td>-1.202309</td>\n",
       "      <td>-1.181166</td>\n",
       "      <td>-2.114364e-02</td>\n",
       "      <td>0.0</td>\n",
       "      <td>...</td>\n",
       "      <td>-1.181166</td>\n",
       "      <td>-2.114364e-02</td>\n",
       "      <td>0.0</td>\n",
       "      <td>-2.114364e-02</td>\n",
       "      <td>1.321144</td>\n",
       "      <td>-0.021144</td>\n",
       "      <td>1.321144</td>\n",
       "      <td>-0.021144</td>\n",
       "      <td>NaN</td>\n",
       "      <td>NaN</td>\n",
       "    </tr>\n",
       "    <tr>\n",
       "      <th>216</th>\n",
       "      <td>1973-01-01</td>\n",
       "      <td>NaN</td>\n",
       "      <td>0.811919</td>\n",
       "      <td>216</td>\n",
       "      <td>1.333671</td>\n",
       "      <td>2.490485</td>\n",
       "      <td>-1.678565</td>\n",
       "      <td>-1.678565</td>\n",
       "      <td>0.000000e+00</td>\n",
       "      <td>0.0</td>\n",
       "      <td>...</td>\n",
       "      <td>-1.678565</td>\n",
       "      <td>0.000000e+00</td>\n",
       "      <td>0.0</td>\n",
       "      <td>0.000000e+00</td>\n",
       "      <td>0.811919</td>\n",
       "      <td>0.000000</td>\n",
       "      <td>0.811919</td>\n",
       "      <td>0.000000</td>\n",
       "      <td>-0.487018</td>\n",
       "      <td>2.110857</td>\n",
       "    </tr>\n",
       "    <tr>\n",
       "      <th>217</th>\n",
       "      <td>1973-02-01</td>\n",
       "      <td>NaN</td>\n",
       "      <td>1.054776</td>\n",
       "      <td>217</td>\n",
       "      <td>1.339959</td>\n",
       "      <td>2.478660</td>\n",
       "      <td>-1.423883</td>\n",
       "      <td>-1.423883</td>\n",
       "      <td>0.000000e+00</td>\n",
       "      <td>0.0</td>\n",
       "      <td>...</td>\n",
       "      <td>-1.423883</td>\n",
       "      <td>0.000000e+00</td>\n",
       "      <td>0.0</td>\n",
       "      <td>0.000000e+00</td>\n",
       "      <td>1.054776</td>\n",
       "      <td>0.000000</td>\n",
       "      <td>1.054776</td>\n",
       "      <td>0.000000</td>\n",
       "      <td>-0.244161</td>\n",
       "      <td>2.353714</td>\n",
       "    </tr>\n",
       "    <tr>\n",
       "      <th>218</th>\n",
       "      <td>1973-03-01</td>\n",
       "      <td>NaN</td>\n",
       "      <td>1.704885</td>\n",
       "      <td>218</td>\n",
       "      <td>1.345639</td>\n",
       "      <td>2.467979</td>\n",
       "      <td>-0.763094</td>\n",
       "      <td>-0.763094</td>\n",
       "      <td>1.110223e-16</td>\n",
       "      <td>0.0</td>\n",
       "      <td>...</td>\n",
       "      <td>-0.763094</td>\n",
       "      <td>1.110223e-16</td>\n",
       "      <td>0.0</td>\n",
       "      <td>1.110223e-16</td>\n",
       "      <td>1.704885</td>\n",
       "      <td>0.000000</td>\n",
       "      <td>1.704885</td>\n",
       "      <td>0.000000</td>\n",
       "      <td>0.405948</td>\n",
       "      <td>3.003823</td>\n",
       "    </tr>\n",
       "    <tr>\n",
       "      <th>219</th>\n",
       "      <td>1973-04-01</td>\n",
       "      <td>NaN</td>\n",
       "      <td>2.247743</td>\n",
       "      <td>219</td>\n",
       "      <td>1.351927</td>\n",
       "      <td>2.456155</td>\n",
       "      <td>-0.208412</td>\n",
       "      <td>-0.208412</td>\n",
       "      <td>-5.551115e-17</td>\n",
       "      <td>0.0</td>\n",
       "      <td>...</td>\n",
       "      <td>-0.208412</td>\n",
       "      <td>-5.551115e-17</td>\n",
       "      <td>0.0</td>\n",
       "      <td>-5.551115e-17</td>\n",
       "      <td>2.247743</td>\n",
       "      <td>0.000000</td>\n",
       "      <td>2.247743</td>\n",
       "      <td>0.000000</td>\n",
       "      <td>0.948805</td>\n",
       "      <td>3.546680</td>\n",
       "    </tr>\n",
       "    <tr>\n",
       "      <th>220</th>\n",
       "      <td>1973-05-01</td>\n",
       "      <td>NaN</td>\n",
       "      <td>2.376314</td>\n",
       "      <td>220</td>\n",
       "      <td>1.358012</td>\n",
       "      <td>2.444711</td>\n",
       "      <td>-0.068397</td>\n",
       "      <td>-0.068397</td>\n",
       "      <td>-1.942890e-16</td>\n",
       "      <td>0.0</td>\n",
       "      <td>...</td>\n",
       "      <td>-0.068397</td>\n",
       "      <td>-1.942890e-16</td>\n",
       "      <td>0.0</td>\n",
       "      <td>-1.942890e-16</td>\n",
       "      <td>2.376314</td>\n",
       "      <td>0.000000</td>\n",
       "      <td>2.376314</td>\n",
       "      <td>0.000000</td>\n",
       "      <td>1.077377</td>\n",
       "      <td>3.675251</td>\n",
       "    </tr>\n",
       "    <tr>\n",
       "      <th>221</th>\n",
       "      <td>1973-06-01</td>\n",
       "      <td>NaN</td>\n",
       "      <td>3.212028</td>\n",
       "      <td>221</td>\n",
       "      <td>1.364300</td>\n",
       "      <td>2.432887</td>\n",
       "      <td>0.779142</td>\n",
       "      <td>0.779142</td>\n",
       "      <td>1.110223e-16</td>\n",
       "      <td>0.0</td>\n",
       "      <td>...</td>\n",
       "      <td>0.779142</td>\n",
       "      <td>1.110223e-16</td>\n",
       "      <td>0.0</td>\n",
       "      <td>1.110223e-16</td>\n",
       "      <td>3.212028</td>\n",
       "      <td>0.000000</td>\n",
       "      <td>3.212028</td>\n",
       "      <td>0.000000</td>\n",
       "      <td>1.913091</td>\n",
       "      <td>4.510966</td>\n",
       "    </tr>\n",
       "    <tr>\n",
       "      <th>222</th>\n",
       "      <td>1973-07-01</td>\n",
       "      <td>NaN</td>\n",
       "      <td>3.769171</td>\n",
       "      <td>222</td>\n",
       "      <td>1.370385</td>\n",
       "      <td>2.421443</td>\n",
       "      <td>1.347728</td>\n",
       "      <td>1.347728</td>\n",
       "      <td>0.000000e+00</td>\n",
       "      <td>0.0</td>\n",
       "      <td>...</td>\n",
       "      <td>1.347728</td>\n",
       "      <td>0.000000e+00</td>\n",
       "      <td>0.0</td>\n",
       "      <td>0.000000e+00</td>\n",
       "      <td>3.769171</td>\n",
       "      <td>0.000000</td>\n",
       "      <td>3.769171</td>\n",
       "      <td>0.000000</td>\n",
       "      <td>2.470234</td>\n",
       "      <td>5.068108</td>\n",
       "    </tr>\n",
       "    <tr>\n",
       "      <th>223</th>\n",
       "      <td>1973-08-01</td>\n",
       "      <td>NaN</td>\n",
       "      <td>3.651147</td>\n",
       "      <td>223</td>\n",
       "      <td>1.376673</td>\n",
       "      <td>2.409618</td>\n",
       "      <td>1.241529</td>\n",
       "      <td>1.241529</td>\n",
       "      <td>-2.220446e-16</td>\n",
       "      <td>0.0</td>\n",
       "      <td>...</td>\n",
       "      <td>1.241529</td>\n",
       "      <td>-2.220446e-16</td>\n",
       "      <td>0.0</td>\n",
       "      <td>-2.220446e-16</td>\n",
       "      <td>3.651147</td>\n",
       "      <td>0.000000</td>\n",
       "      <td>3.651147</td>\n",
       "      <td>0.000000</td>\n",
       "      <td>2.352210</td>\n",
       "      <td>4.950084</td>\n",
       "    </tr>\n",
       "    <tr>\n",
       "      <th>224</th>\n",
       "      <td>1973-09-01</td>\n",
       "      <td>NaN</td>\n",
       "      <td>3.774224</td>\n",
       "      <td>224</td>\n",
       "      <td>1.382961</td>\n",
       "      <td>2.397794</td>\n",
       "      <td>1.376430</td>\n",
       "      <td>1.376430</td>\n",
       "      <td>-2.220446e-16</td>\n",
       "      <td>0.0</td>\n",
       "      <td>...</td>\n",
       "      <td>1.376430</td>\n",
       "      <td>-2.220446e-16</td>\n",
       "      <td>0.0</td>\n",
       "      <td>-2.220446e-16</td>\n",
       "      <td>3.774224</td>\n",
       "      <td>0.000000</td>\n",
       "      <td>3.774224</td>\n",
       "      <td>0.000000</td>\n",
       "      <td>2.475287</td>\n",
       "      <td>5.073161</td>\n",
       "    </tr>\n",
       "    <tr>\n",
       "      <th>225</th>\n",
       "      <td>1973-10-01</td>\n",
       "      <td>NaN</td>\n",
       "      <td>3.366532</td>\n",
       "      <td>225</td>\n",
       "      <td>1.389047</td>\n",
       "      <td>2.386350</td>\n",
       "      <td>0.980181</td>\n",
       "      <td>0.980181</td>\n",
       "      <td>-1.110223e-16</td>\n",
       "      <td>0.0</td>\n",
       "      <td>...</td>\n",
       "      <td>0.980181</td>\n",
       "      <td>-1.110223e-16</td>\n",
       "      <td>0.0</td>\n",
       "      <td>-1.110223e-16</td>\n",
       "      <td>3.366532</td>\n",
       "      <td>0.000000</td>\n",
       "      <td>3.366532</td>\n",
       "      <td>0.000000</td>\n",
       "      <td>2.067595</td>\n",
       "      <td>4.665469</td>\n",
       "    </tr>\n",
       "    <tr>\n",
       "      <th>226</th>\n",
       "      <td>1973-11-01</td>\n",
       "      <td>NaN</td>\n",
       "      <td>2.128070</td>\n",
       "      <td>226</td>\n",
       "      <td>1.395335</td>\n",
       "      <td>2.374526</td>\n",
       "      <td>-0.246455</td>\n",
       "      <td>-0.246455</td>\n",
       "      <td>1.110223e-16</td>\n",
       "      <td>0.0</td>\n",
       "      <td>...</td>\n",
       "      <td>-0.246455</td>\n",
       "      <td>1.110223e-16</td>\n",
       "      <td>0.0</td>\n",
       "      <td>1.110223e-16</td>\n",
       "      <td>2.128070</td>\n",
       "      <td>0.000000</td>\n",
       "      <td>2.128070</td>\n",
       "      <td>0.000000</td>\n",
       "      <td>0.829133</td>\n",
       "      <td>3.427008</td>\n",
       "    </tr>\n",
       "    <tr>\n",
       "      <th>227</th>\n",
       "      <td>1973-12-01</td>\n",
       "      <td>NaN</td>\n",
       "      <td>2.128070</td>\n",
       "      <td>227</td>\n",
       "      <td>1.401420</td>\n",
       "      <td>2.363082</td>\n",
       "      <td>-0.235012</td>\n",
       "      <td>-1.181166</td>\n",
       "      <td>9.461538e-01</td>\n",
       "      <td>0.0</td>\n",
       "      <td>...</td>\n",
       "      <td>-1.181166</td>\n",
       "      <td>9.461538e-01</td>\n",
       "      <td>0.0</td>\n",
       "      <td>9.461538e-01</td>\n",
       "      <td>1.181916</td>\n",
       "      <td>0.946154</td>\n",
       "      <td>1.181916</td>\n",
       "      <td>0.946154</td>\n",
       "      <td>-0.117021</td>\n",
       "      <td>2.480854</td>\n",
       "    </tr>\n",
       "  </tbody>\n",
       "</table>\n",
       "<p>20 rows × 23 columns</p>\n",
       "</div>"
      ],
      "text/plain": [
       "         Month  Ozone    _Ozone  row_number  Month_Normalized  \\\n",
       "208 1972-05-01    3.5  3.500000         208          1.283976   \n",
       "209 1972-06-01    3.4  3.400000         209          1.290264   \n",
       "210 1972-07-01    4.0  4.000000         210          1.296349   \n",
       "211 1972-08-01    3.8  3.800000         211          1.302637   \n",
       "212 1972-09-01    3.1  3.100000         212          1.308925   \n",
       "213 1972-10-01    2.1  2.100000         213          1.315010   \n",
       "214 1972-11-01    1.6  1.600000         214          1.321298   \n",
       "215 1972-12-01    1.3  1.300000         215          1.327383   \n",
       "216 1973-01-01    NaN  0.811919         216          1.333671   \n",
       "217 1973-02-01    NaN  1.054776         217          1.339959   \n",
       "218 1973-03-01    NaN  1.704885         218          1.345639   \n",
       "219 1973-04-01    NaN  2.247743         219          1.351927   \n",
       "220 1973-05-01    NaN  2.376314         220          1.358012   \n",
       "221 1973-06-01    NaN  3.212028         221          1.364300   \n",
       "222 1973-07-01    NaN  3.769171         222          1.370385   \n",
       "223 1973-08-01    NaN  3.651147         223          1.376673   \n",
       "224 1973-09-01    NaN  3.774224         224          1.382961   \n",
       "225 1973-10-01    NaN  3.366532         225          1.389047   \n",
       "226 1973-11-01    NaN  2.128070         226          1.395335   \n",
       "227 1973-12-01    NaN  2.128070         227          1.401420   \n",
       "\n",
       "     _Ozone_LinearTrend  _Ozone_LinearTrend_residue  \\\n",
       "208            2.583939                    0.916061   \n",
       "209            2.572114                    0.827886   \n",
       "210            2.560670                    1.439330   \n",
       "211            2.548846                    1.251154   \n",
       "212            2.537021                    0.562979   \n",
       "213            2.525578                   -0.425578   \n",
       "214            2.513753                   -0.913753   \n",
       "215            2.502309                   -1.202309   \n",
       "216            2.490485                   -1.678565   \n",
       "217            2.478660                   -1.423883   \n",
       "218            2.467979                   -0.763094   \n",
       "219            2.456155                   -0.208412   \n",
       "220            2.444711                   -0.068397   \n",
       "221            2.432887                    0.779142   \n",
       "222            2.421443                    1.347728   \n",
       "223            2.409618                    1.241529   \n",
       "224            2.397794                    1.376430   \n",
       "225            2.386350                    0.980181   \n",
       "226            2.374526                   -0.246455   \n",
       "227            2.363082                   -0.235012   \n",
       "\n",
       "     _Ozone_LinearTrend_residue_Seasonal_MonthOfYear  \\\n",
       "208                                        -0.068397   \n",
       "209                                         0.779142   \n",
       "210                                         1.347728   \n",
       "211                                         1.241529   \n",
       "212                                         1.376430   \n",
       "213                                         0.980181   \n",
       "214                                        -0.246455   \n",
       "215                                        -1.181166   \n",
       "216                                        -1.678565   \n",
       "217                                        -1.423883   \n",
       "218                                        -0.763094   \n",
       "219                                        -0.208412   \n",
       "220                                        -0.068397   \n",
       "221                                         0.779142   \n",
       "222                                         1.347728   \n",
       "223                                         1.241529   \n",
       "224                                         1.376430   \n",
       "225                                         0.980181   \n",
       "226                                        -0.246455   \n",
       "227                                        -1.181166   \n",
       "\n",
       "     _Ozone_LinearTrend_residue_Seasonal_MonthOfYear_residue  \\\n",
       "208                                       9.844588e-01         \n",
       "209                                       4.874450e-02         \n",
       "210                                       9.160165e-02         \n",
       "211                                       9.625592e-03         \n",
       "212                                      -8.134513e-01         \n",
       "213                                      -1.405759e+00         \n",
       "214                                      -6.672975e-01         \n",
       "215                                      -2.114364e-02         \n",
       "216                                       0.000000e+00         \n",
       "217                                       0.000000e+00         \n",
       "218                                       1.110223e-16         \n",
       "219                                      -5.551115e-17         \n",
       "220                                      -1.942890e-16         \n",
       "221                                       1.110223e-16         \n",
       "222                                       0.000000e+00         \n",
       "223                                      -2.220446e-16         \n",
       "224                                      -2.220446e-16         \n",
       "225                                      -1.110223e-16         \n",
       "226                                       1.110223e-16         \n",
       "227                                       9.461538e-01         \n",
       "\n",
       "     _Ozone_LinearTrend_residue_Seasonal_MonthOfYear_residue_NoAR  \\\n",
       "208                                                0.0              \n",
       "209                                                0.0              \n",
       "210                                                0.0              \n",
       "211                                                0.0              \n",
       "212                                                0.0              \n",
       "213                                                0.0              \n",
       "214                                                0.0              \n",
       "215                                                0.0              \n",
       "216                                                0.0              \n",
       "217                                                0.0              \n",
       "218                                                0.0              \n",
       "219                                                0.0              \n",
       "220                                                0.0              \n",
       "221                                                0.0              \n",
       "222                                                0.0              \n",
       "223                                                0.0              \n",
       "224                                                0.0              \n",
       "225                                                0.0              \n",
       "226                                                0.0              \n",
       "227                                                0.0              \n",
       "\n",
       "                ...              _Ozone_Cycle  _Ozone_Cycle_residue  \\\n",
       "208             ...                 -0.068397          9.844588e-01   \n",
       "209             ...                  0.779142          4.874450e-02   \n",
       "210             ...                  1.347728          9.160165e-02   \n",
       "211             ...                  1.241529          9.625592e-03   \n",
       "212             ...                  1.376430         -8.134513e-01   \n",
       "213             ...                  0.980181         -1.405759e+00   \n",
       "214             ...                 -0.246455         -6.672975e-01   \n",
       "215             ...                 -1.181166         -2.114364e-02   \n",
       "216             ...                 -1.678565          0.000000e+00   \n",
       "217             ...                 -1.423883          0.000000e+00   \n",
       "218             ...                 -0.763094          1.110223e-16   \n",
       "219             ...                 -0.208412         -5.551115e-17   \n",
       "220             ...                 -0.068397         -1.942890e-16   \n",
       "221             ...                  0.779142          1.110223e-16   \n",
       "222             ...                  1.347728          0.000000e+00   \n",
       "223             ...                  1.241529         -2.220446e-16   \n",
       "224             ...                  1.376430         -2.220446e-16   \n",
       "225             ...                  0.980181         -1.110223e-16   \n",
       "226             ...                 -0.246455          1.110223e-16   \n",
       "227             ...                 -1.181166          9.461538e-01   \n",
       "\n",
       "     _Ozone_AR  _Ozone_AR_residue  _Ozone_TransformedForecast  \\\n",
       "208        0.0       9.844588e-01                    2.515541   \n",
       "209        0.0       4.874450e-02                    3.351255   \n",
       "210        0.0       9.160165e-02                    3.908398   \n",
       "211        0.0       9.625592e-03                    3.790374   \n",
       "212        0.0      -8.134513e-01                    3.913451   \n",
       "213        0.0      -1.405759e+00                    3.505759   \n",
       "214        0.0      -6.672975e-01                    2.267297   \n",
       "215        0.0      -2.114364e-02                    1.321144   \n",
       "216        0.0       0.000000e+00                    0.811919   \n",
       "217        0.0       0.000000e+00                    1.054776   \n",
       "218        0.0       1.110223e-16                    1.704885   \n",
       "219        0.0      -5.551115e-17                    2.247743   \n",
       "220        0.0      -1.942890e-16                    2.376314   \n",
       "221        0.0       1.110223e-16                    3.212028   \n",
       "222        0.0       0.000000e+00                    3.769171   \n",
       "223        0.0      -2.220446e-16                    3.651147   \n",
       "224        0.0      -2.220446e-16                    3.774224   \n",
       "225        0.0      -1.110223e-16                    3.366532   \n",
       "226        0.0       1.110223e-16                    2.128070   \n",
       "227        0.0       9.461538e-01                    1.181916   \n",
       "\n",
       "     _Ozone_TransformedResidue  Ozone_Forecast  Ozone_Residue  \\\n",
       "208                   0.984459        2.515541       0.984459   \n",
       "209                   0.048745        3.351255       0.048745   \n",
       "210                   0.091602        3.908398       0.091602   \n",
       "211                   0.009626        3.790374       0.009626   \n",
       "212                  -0.813451        3.913451      -0.813451   \n",
       "213                  -1.405759        3.505759      -1.405759   \n",
       "214                  -0.667297        2.267297      -0.667297   \n",
       "215                  -0.021144        1.321144      -0.021144   \n",
       "216                   0.000000        0.811919       0.000000   \n",
       "217                   0.000000        1.054776       0.000000   \n",
       "218                   0.000000        1.704885       0.000000   \n",
       "219                   0.000000        2.247743       0.000000   \n",
       "220                   0.000000        2.376314       0.000000   \n",
       "221                   0.000000        3.212028       0.000000   \n",
       "222                   0.000000        3.769171       0.000000   \n",
       "223                   0.000000        3.651147       0.000000   \n",
       "224                   0.000000        3.774224       0.000000   \n",
       "225                   0.000000        3.366532       0.000000   \n",
       "226                   0.000000        2.128070       0.000000   \n",
       "227                   0.946154        1.181916       0.946154   \n",
       "\n",
       "     Ozone_Forecast_Lower_Bound  Ozone_Forecast_Upper_Bound  \n",
       "208                         NaN                         NaN  \n",
       "209                         NaN                         NaN  \n",
       "210                         NaN                         NaN  \n",
       "211                         NaN                         NaN  \n",
       "212                         NaN                         NaN  \n",
       "213                         NaN                         NaN  \n",
       "214                         NaN                         NaN  \n",
       "215                         NaN                         NaN  \n",
       "216                   -0.487018                    2.110857  \n",
       "217                   -0.244161                    2.353714  \n",
       "218                    0.405948                    3.003823  \n",
       "219                    0.948805                    3.546680  \n",
       "220                    1.077377                    3.675251  \n",
       "221                    1.913091                    4.510966  \n",
       "222                    2.470234                    5.068108  \n",
       "223                    2.352210                    4.950084  \n",
       "224                    2.475287                    5.073161  \n",
       "225                    2.067595                    4.665469  \n",
       "226                    0.829133                    3.427008  \n",
       "227                   -0.117021                    2.480854  \n",
       "\n",
       "[20 rows x 23 columns]"
      ]
     },
     "execution_count": 7,
     "metadata": {},
     "output_type": "execute_result"
    }
   ],
   "source": [
    "ozone_forecast_dataframe = lEngine.forecast(ozone_dataframe, 12);\n",
    "ozone_forecast_dataframe.tail(20)"
   ]
  },
  {
   "cell_type": "markdown",
   "metadata": {},
   "source": [
    "Here, we see that \n",
    "1. The last 12 values of the 'Month' column have been filled on a monthly basis for the next year (1973). \n",
    "2. The last 12 values of the 'Ozone' column are empty or unknown ('Nan').\n",
    "3. A lot of extra columns have been computed\n",
    "\n"
   ]
  },
  {
   "cell_type": "markdown",
   "metadata": {},
   "source": [
    "The most impostant new column is 'Ozone_Forecast', we can tsee the last rows of this column as well as the time and signal columns :"
   ]
  },
  {
   "cell_type": "code",
   "execution_count": 8,
   "metadata": {
    "collapsed": false
   },
   "outputs": [
    {
     "data": {
      "text/html": [
       "<div>\n",
       "<table border=\"1\" class=\"dataframe\">\n",
       "  <thead>\n",
       "    <tr style=\"text-align: right;\">\n",
       "      <th></th>\n",
       "      <th>Month</th>\n",
       "      <th>Ozone</th>\n",
       "      <th>Ozone_Forecast</th>\n",
       "    </tr>\n",
       "  </thead>\n",
       "  <tbody>\n",
       "    <tr>\n",
       "      <th>208</th>\n",
       "      <td>1972-05-01</td>\n",
       "      <td>3.5</td>\n",
       "      <td>2.515541</td>\n",
       "    </tr>\n",
       "    <tr>\n",
       "      <th>209</th>\n",
       "      <td>1972-06-01</td>\n",
       "      <td>3.4</td>\n",
       "      <td>3.351255</td>\n",
       "    </tr>\n",
       "    <tr>\n",
       "      <th>210</th>\n",
       "      <td>1972-07-01</td>\n",
       "      <td>4.0</td>\n",
       "      <td>3.908398</td>\n",
       "    </tr>\n",
       "    <tr>\n",
       "      <th>211</th>\n",
       "      <td>1972-08-01</td>\n",
       "      <td>3.8</td>\n",
       "      <td>3.790374</td>\n",
       "    </tr>\n",
       "    <tr>\n",
       "      <th>212</th>\n",
       "      <td>1972-09-01</td>\n",
       "      <td>3.1</td>\n",
       "      <td>3.913451</td>\n",
       "    </tr>\n",
       "    <tr>\n",
       "      <th>213</th>\n",
       "      <td>1972-10-01</td>\n",
       "      <td>2.1</td>\n",
       "      <td>3.505759</td>\n",
       "    </tr>\n",
       "    <tr>\n",
       "      <th>214</th>\n",
       "      <td>1972-11-01</td>\n",
       "      <td>1.6</td>\n",
       "      <td>2.267297</td>\n",
       "    </tr>\n",
       "    <tr>\n",
       "      <th>215</th>\n",
       "      <td>1972-12-01</td>\n",
       "      <td>1.3</td>\n",
       "      <td>1.321144</td>\n",
       "    </tr>\n",
       "    <tr>\n",
       "      <th>216</th>\n",
       "      <td>1973-01-01</td>\n",
       "      <td>NaN</td>\n",
       "      <td>0.811919</td>\n",
       "    </tr>\n",
       "    <tr>\n",
       "      <th>217</th>\n",
       "      <td>1973-02-01</td>\n",
       "      <td>NaN</td>\n",
       "      <td>1.054776</td>\n",
       "    </tr>\n",
       "    <tr>\n",
       "      <th>218</th>\n",
       "      <td>1973-03-01</td>\n",
       "      <td>NaN</td>\n",
       "      <td>1.704885</td>\n",
       "    </tr>\n",
       "    <tr>\n",
       "      <th>219</th>\n",
       "      <td>1973-04-01</td>\n",
       "      <td>NaN</td>\n",
       "      <td>2.247743</td>\n",
       "    </tr>\n",
       "    <tr>\n",
       "      <th>220</th>\n",
       "      <td>1973-05-01</td>\n",
       "      <td>NaN</td>\n",
       "      <td>2.376314</td>\n",
       "    </tr>\n",
       "    <tr>\n",
       "      <th>221</th>\n",
       "      <td>1973-06-01</td>\n",
       "      <td>NaN</td>\n",
       "      <td>3.212028</td>\n",
       "    </tr>\n",
       "    <tr>\n",
       "      <th>222</th>\n",
       "      <td>1973-07-01</td>\n",
       "      <td>NaN</td>\n",
       "      <td>3.769171</td>\n",
       "    </tr>\n",
       "    <tr>\n",
       "      <th>223</th>\n",
       "      <td>1973-08-01</td>\n",
       "      <td>NaN</td>\n",
       "      <td>3.651147</td>\n",
       "    </tr>\n",
       "    <tr>\n",
       "      <th>224</th>\n",
       "      <td>1973-09-01</td>\n",
       "      <td>NaN</td>\n",
       "      <td>3.774224</td>\n",
       "    </tr>\n",
       "    <tr>\n",
       "      <th>225</th>\n",
       "      <td>1973-10-01</td>\n",
       "      <td>NaN</td>\n",
       "      <td>3.366532</td>\n",
       "    </tr>\n",
       "    <tr>\n",
       "      <th>226</th>\n",
       "      <td>1973-11-01</td>\n",
       "      <td>NaN</td>\n",
       "      <td>2.128070</td>\n",
       "    </tr>\n",
       "    <tr>\n",
       "      <th>227</th>\n",
       "      <td>1973-12-01</td>\n",
       "      <td>NaN</td>\n",
       "      <td>1.181916</td>\n",
       "    </tr>\n",
       "  </tbody>\n",
       "</table>\n",
       "</div>"
      ],
      "text/plain": [
       "         Month  Ozone  Ozone_Forecast\n",
       "208 1972-05-01    3.5        2.515541\n",
       "209 1972-06-01    3.4        3.351255\n",
       "210 1972-07-01    4.0        3.908398\n",
       "211 1972-08-01    3.8        3.790374\n",
       "212 1972-09-01    3.1        3.913451\n",
       "213 1972-10-01    2.1        3.505759\n",
       "214 1972-11-01    1.6        2.267297\n",
       "215 1972-12-01    1.3        1.321144\n",
       "216 1973-01-01    NaN        0.811919\n",
       "217 1973-02-01    NaN        1.054776\n",
       "218 1973-03-01    NaN        1.704885\n",
       "219 1973-04-01    NaN        2.247743\n",
       "220 1973-05-01    NaN        2.376314\n",
       "221 1973-06-01    NaN        3.212028\n",
       "222 1973-07-01    NaN        3.769171\n",
       "223 1973-08-01    NaN        3.651147\n",
       "224 1973-09-01    NaN        3.774224\n",
       "225 1973-10-01    NaN        3.366532\n",
       "226 1973-11-01    NaN        2.128070\n",
       "227 1973-12-01    NaN        1.181916"
      ]
     },
     "execution_count": 8,
     "metadata": {},
     "output_type": "execute_result"
    }
   ],
   "source": [
    "ozone_forecast_dataframe[['Month' , 'Ozone' , 'Ozone_Forecast']].tail(20)"
   ]
  },
  {
   "cell_type": "markdown",
   "metadata": {},
   "source": [
    "The predicted value for '1973-01-01' is then '0.811919' , etc"
   ]
  },
  {
   "cell_type": "markdown",
   "metadata": {},
   "source": [
    "It is possible to plot the forecast against the signal toc check the 'visual' quality of the model and see the prediction intervals"
   ]
  },
  {
   "cell_type": "code",
   "execution_count": 9,
   "metadata": {
    "collapsed": false
   },
   "outputs": [
    {
     "data": {
      "text/plain": [
       "<matplotlib.axes._subplots.AxesSubplot at 0x7f2f88e6c470>"
      ]
     },
     "execution_count": 9,
     "metadata": {},
     "output_type": "execute_result"
    },
    {
     "data": {
      "image/png": "[encoded data removed]",
      "text/plain": [
       "<matplotlib.figure.Figure at 0x7f2f8d4af4e0>"
      ]
     },
     "metadata": {},
     "output_type": "display_data"
    }
   ],
   "source": [
    "ozone_forecast_dataframe.plot.line('Month', ['Ozone' , 'Ozone_Forecast', \n",
    "                                             'Ozone_Forecast_Lower_Bound', \n",
    "                                             'Ozone_Forecast_Upper_Bound'], grid = True, figsize=(12, 8))"
   ]
  },
  {
   "cell_type": "markdown",
   "metadata": {},
   "source": [
    "Finally, one can the save the forecasts datafrma eto a CSV file or a database :"
   ]
  },
  {
   "cell_type": "code",
   "execution_count": 10,
   "metadata": {
    "collapsed": true
   },
   "outputs": [],
   "source": [
    "ozone_forecast_dataframe.to_csv(\"ozone_forecast.csv\")"
   ]
  },
  {
   "cell_type": "code",
   "execution_count": null,
   "metadata": {
    "collapsed": true
   },
   "outputs": [],
   "source": []
  },
  {
   "cell_type": "code",
   "execution_count": null,
   "metadata": {
    "collapsed": true
   },
   "outputs": [],
   "source": []
  },
  {
   "cell_type": "markdown",
   "metadata": {},
   "source": [
    "### PyAF on some stock value"
   ]
  },
  {
   "cell_type": "markdown",
   "metadata": {},
   "source": [
    "Using Yahoo Finance all public stock data are available. Here we give an exsample of how one can use PyAF to predict the future values of a popular stock (GOOG)."
   ]
  },
  {
   "cell_type": "code",
   "execution_count": 11,
   "metadata": {
    "collapsed": false
   },
   "outputs": [
    {
     "data": {
      "text/html": [
       "<div>\n",
       "<table border=\"1\" class=\"dataframe\">\n",
       "  <thead>\n",
       "    <tr style=\"text-align: right;\">\n",
       "      <th></th>\n",
       "      <th>Date</th>\n",
       "      <th>Open</th>\n",
       "      <th>High</th>\n",
       "      <th>Low</th>\n",
       "      <th>Close</th>\n",
       "      <th>Volume</th>\n",
       "      <th>Adj Close</th>\n",
       "    </tr>\n",
       "  </thead>\n",
       "  <tbody>\n",
       "    <tr>\n",
       "      <th>4</th>\n",
       "      <td>2016-10-10</td>\n",
       "      <td>777.710022</td>\n",
       "      <td>789.380005</td>\n",
       "      <td>775.869995</td>\n",
       "      <td>785.940002</td>\n",
       "      <td>1174900</td>\n",
       "      <td>785.940002</td>\n",
       "    </tr>\n",
       "    <tr>\n",
       "      <th>3</th>\n",
       "      <td>2016-10-11</td>\n",
       "      <td>786.659973</td>\n",
       "      <td>792.280029</td>\n",
       "      <td>780.580017</td>\n",
       "      <td>783.070007</td>\n",
       "      <td>1372500</td>\n",
       "      <td>783.070007</td>\n",
       "    </tr>\n",
       "    <tr>\n",
       "      <th>2</th>\n",
       "      <td>2016-10-12</td>\n",
       "      <td>783.760010</td>\n",
       "      <td>788.130005</td>\n",
       "      <td>782.059998</td>\n",
       "      <td>786.140015</td>\n",
       "      <td>937400</td>\n",
       "      <td>786.140015</td>\n",
       "    </tr>\n",
       "    <tr>\n",
       "      <th>1</th>\n",
       "      <td>2016-10-13</td>\n",
       "      <td>781.219971</td>\n",
       "      <td>781.219971</td>\n",
       "      <td>773.000000</td>\n",
       "      <td>778.190002</td>\n",
       "      <td>1365300</td>\n",
       "      <td>778.190002</td>\n",
       "    </tr>\n",
       "    <tr>\n",
       "      <th>0</th>\n",
       "      <td>2016-10-14</td>\n",
       "      <td>781.650024</td>\n",
       "      <td>783.950012</td>\n",
       "      <td>776.000000</td>\n",
       "      <td>778.530029</td>\n",
       "      <td>852500</td>\n",
       "      <td>778.530029</td>\n",
       "    </tr>\n",
       "  </tbody>\n",
       "</table>\n",
       "</div>"
      ],
      "text/plain": [
       "        Date        Open        High         Low       Close   Volume  \\\n",
       "4 2016-10-10  777.710022  789.380005  775.869995  785.940002  1174900   \n",
       "3 2016-10-11  786.659973  792.280029  780.580017  783.070007  1372500   \n",
       "2 2016-10-12  783.760010  788.130005  782.059998  786.140015   937400   \n",
       "1 2016-10-13  781.219971  781.219971  773.000000  778.190002  1365300   \n",
       "0 2016-10-14  781.650024  783.950012  776.000000  778.530029   852500   \n",
       "\n",
       "    Adj Close  \n",
       "4  785.940002  \n",
       "3  783.070007  \n",
       "2  786.140015  \n",
       "1  778.190002  \n",
       "0  778.530029  "
      ]
     },
     "execution_count": 11,
     "metadata": {},
     "output_type": "execute_result"
    }
   ],
   "source": [
    "goog_link = \"http://chart.finance.yahoo.com/table.csv?s=GOOG&a=8&b=14&c=2015&d=9&e=14&f=2016&g=d&ignore=.csv\"\n",
    "import pandas as pd\n",
    "goog_dataframe = pd.read_csv(goog_link);\n",
    "goog_dataframe['Date'] = goog_dataframe['Date'].apply(lambda x : datetime.datetime.strptime(x, \"%Y-%m-%d\"))\n",
    "goog_dataframe.sort_values(by = 'Date' , ascending=True, inplace=True)\n",
    "goog_dataframe.tail()"
   ]
  },
  {
   "cell_type": "markdown",
   "metadata": {},
   "source": [
    "We needed to tranform the date column and sort values in increasing order (the yahoo API gives most recent values first).\n",
    "\n",
    "We are interested in getting the future values of the 'Close' column over the next 7 days:"
   ]
  },
  {
   "cell_type": "code",
   "execution_count": 12,
   "metadata": {
    "collapsed": false
   },
   "outputs": [
    {
     "name": "stderr",
     "output_type": "stream",
     "text": [
      "INFO:pyaf.std:START_TRAINING 'Close'\n",
      "INFO:pyaf.std:END_TRAINING_TIME_IN_SECONDS 'Close' 17.268672466278076\n"
     ]
    }
   ],
   "source": [
    "import pyaf.ForecastEngine as autof\n",
    "lEngine = autof.cForecastEngine()\n",
    "lEngine.train(goog_dataframe , 'Date' , 'Close', 7);"
   ]
  },
  {
   "cell_type": "markdown",
   "metadata": {},
   "source": [
    "The predicted values are :"
   ]
  },
  {
   "cell_type": "code",
   "execution_count": 13,
   "metadata": {
    "collapsed": true
   },
   "outputs": [],
   "source": [
    "goog_forecast_dataframe = lEngine.forecast(goog_dataframe, 7);"
   ]
  },
  {
   "cell_type": "markdown",
   "metadata": {},
   "source": [
    "We can see the forecasts data for last 7 days "
   ]
  },
  {
   "cell_type": "code",
   "execution_count": 14,
   "metadata": {
    "collapsed": false
   },
   "outputs": [
    {
     "data": {
      "text/html": [
       "<div>\n",
       "<table border=\"1\" class=\"dataframe\">\n",
       "  <thead>\n",
       "    <tr style=\"text-align: right;\">\n",
       "      <th></th>\n",
       "      <th>Date</th>\n",
       "      <th>Close</th>\n",
       "      <th>Close_Forecast</th>\n",
       "    </tr>\n",
       "  </thead>\n",
       "  <tbody>\n",
       "    <tr>\n",
       "      <th>276</th>\n",
       "      <td>2016-10-15 10:45:58.878504</td>\n",
       "      <td>NaN</td>\n",
       "      <td>778.530029</td>\n",
       "    </tr>\n",
       "    <tr>\n",
       "      <th>277</th>\n",
       "      <td>2016-10-16 21:31:57.757008</td>\n",
       "      <td>NaN</td>\n",
       "      <td>778.530029</td>\n",
       "    </tr>\n",
       "    <tr>\n",
       "      <th>278</th>\n",
       "      <td>2016-10-18 08:17:56.635512</td>\n",
       "      <td>NaN</td>\n",
       "      <td>778.530029</td>\n",
       "    </tr>\n",
       "    <tr>\n",
       "      <th>279</th>\n",
       "      <td>2016-10-19 19:03:55.514016</td>\n",
       "      <td>NaN</td>\n",
       "      <td>778.530029</td>\n",
       "    </tr>\n",
       "    <tr>\n",
       "      <th>280</th>\n",
       "      <td>2016-10-21 05:49:54.392520</td>\n",
       "      <td>NaN</td>\n",
       "      <td>778.530029</td>\n",
       "    </tr>\n",
       "    <tr>\n",
       "      <th>281</th>\n",
       "      <td>2016-10-22 16:35:53.271024</td>\n",
       "      <td>NaN</td>\n",
       "      <td>778.530029</td>\n",
       "    </tr>\n",
       "    <tr>\n",
       "      <th>282</th>\n",
       "      <td>2016-10-24 03:21:52.149528</td>\n",
       "      <td>NaN</td>\n",
       "      <td>778.530029</td>\n",
       "    </tr>\n",
       "  </tbody>\n",
       "</table>\n",
       "</div>"
      ],
      "text/plain": [
       "                          Date  Close  Close_Forecast\n",
       "276 2016-10-15 10:45:58.878504    NaN      778.530029\n",
       "277 2016-10-16 21:31:57.757008    NaN      778.530029\n",
       "278 2016-10-18 08:17:56.635512    NaN      778.530029\n",
       "279 2016-10-19 19:03:55.514016    NaN      778.530029\n",
       "280 2016-10-21 05:49:54.392520    NaN      778.530029\n",
       "281 2016-10-22 16:35:53.271024    NaN      778.530029\n",
       "282 2016-10-24 03:21:52.149528    NaN      778.530029"
      ]
     },
     "execution_count": 14,
     "metadata": {},
     "output_type": "execute_result"
    }
   ],
   "source": [
    "goog_forecast_dataframe[['Date' , 'Close' , 'Close_Forecast']].tail(7)"
   ]
  },
  {
   "cell_type": "markdown",
   "metadata": {},
   "source": [
    "One can see that all the values are equal to the last value (naive model). Forecasting finance data is not easy!!!\n",
    "\n",
    "If you are curious enough, you can see more info about the model :"
   ]
  },
  {
   "cell_type": "code",
   "execution_count": 15,
   "metadata": {
    "collapsed": false
   },
   "outputs": [
    {
     "name": "stderr",
     "output_type": "stream",
     "text": [
      "INFO:pyaf.std:TIME_DETAIL TimeVariable='Date' TimeMin=2015-09-14 00:00:00 TimeMax=2016-07-20 00:00:00 TimeDelta=1 days 10:45:58.878504 Estimation = (0 , 215) Validation = (215 , 269) Test = (269 , 276) Horizon=7\n",
      "INFO:pyaf.std:SIGNAL_DETAIL SignalVariable='_Close' Min=594.890015 Max=787.210022  Mean=724.902463822 StdDev=41.9533905637\n",
      "INFO:pyaf.std:BEST_TRANSOFORMATION_TYPE '_'\n",
      "INFO:pyaf.std:BEST_DECOMPOSITION  '_Close_Lag1Trend_residue_zeroCycle_residue_NoAR' [Lag1Trend + NoCycle + NoAR]\n",
      "INFO:pyaf.std:TREND_DETAIL '_Close_Lag1Trend' [Lag1Trend]\n",
      "INFO:pyaf.std:CYCLE_DETAIL '_Close_Lag1Trend_residue_zeroCycle' [NoCycle]\n",
      "INFO:pyaf.std:AUTOREG_DETAIL '_Close_Lag1Trend_residue_zeroCycle_residue_NoAR' [NoAR]\n",
      "INFO:pyaf.std:MODEL_MAPE MAPE_Fit=0.0108 MAPE_Forecast=0.0055 MAPE_Test=0.005\n",
      "INFO:pyaf.std:MODEL_L2 L2_Fit=10.5037925173 L2_Forecast=6.02910107653 L2_Test=5.37507231423\n",
      "INFO:pyaf.std:MODEL_COMPLEXITY 32\n",
      "INFO:pyaf.std:AR_MODEL_DETAIL_START\n",
      "INFO:pyaf.std:AR_MODEL_DETAIL_END\n"
     ]
    }
   ],
   "source": [
    "lEngine.getModelInfo()"
   ]
  },
  {
   "cell_type": "markdown",
   "metadata": {},
   "source": [
    "Again, one can plot the forecasts against the signal:"
   ]
  },
  {
   "cell_type": "code",
   "execution_count": 16,
   "metadata": {
    "collapsed": false
   },
   "outputs": [
    {
     "data": {
      "text/plain": [
       "<matplotlib.axes._subplots.AxesSubplot at 0x7f2f88ef6128>"
      ]
     },
     "execution_count": 16,
     "metadata": {},
     "output_type": "execute_result"
    },
    {
     "data": {
      "image/png": "[encoded data removed]",
      "text/plain": [
       "<matplotlib.figure.Figure at 0x7f2f88542550>"
      ]
     },
     "metadata": {},
     "output_type": "display_data"
    }
   ],
   "source": [
    "goog_forecast_dataframe.plot.line('Date', ['Close' , 'Close_Forecast', \n",
    "                                             'Close_Forecast_Lower_Bound', \n",
    "                                             'Close_Forecast_Upper_Bound'], grid = True, figsize=(12, 8))"
   ]
  },
  {
   "cell_type": "code",
   "execution_count": null,
   "metadata": {
    "collapsed": false
   },
   "outputs": [],
   "source": []
  },
  {
   "cell_type": "code",
   "execution_count": null,
   "metadata": {
    "collapsed": true
   },
   "outputs": [],
   "source": []
  },
  {
   "cell_type": "code",
   "execution_count": null,
   "metadata": {
    "collapsed": true
   },
   "outputs": [],
   "source": []
  }
 ],
 "metadata": {
  "kernelspec": {
   "display_name": "Python 3",
   "language": "python",
   "name": "python3"
  },
  "language_info": {
   "codemirror_mode": {
    "name": "ipython",
    "version": 3
   },
   "file_extension": ".py",
   "mimetype": "text/x-python",
   "name": "python",
   "nbconvert_exporter": "python",
   "pygments_lexer": "ipython3",
   "version": "3.5.2+"
  }
 },
 "nbformat": 4,
 "nbformat_minor": 0
}
