{
 "cells": [
  {
   "cell_type": "code",
   "execution_count": 1,
   "metadata": {
    "collapsed": false
   },
   "outputs": [],
   "source": [
    "# remove the notebook root logger.\\n\",\n",
    "import logging\n",
    "logger = logging.getLogger()\n",
    "logger.handlers = []"
   ]
  },
  {
   "cell_type": "markdown",
   "metadata": {},
   "source": [
    "# An introduction to time series forecasting with PyAF"
   ]
  },
  {
   "cell_type": "markdown",
   "metadata": {},
   "source": [
    "This is an introduction to time series forecasting with PyAF. \n",
    "We describe the basic vocabulary used and give simple examples.\n"
   ]
  },
  {
   "cell_type": "markdown",
   "metadata": {},
   "source": [
    "## Problem Setting"
   ]
  },
  {
   "cell_type": "markdown",
   "metadata": {},
   "source": [
    "\n",
    "The main problem to be solved with a forecasting tool is to predict the future values of a quantity of interest called 'Signal' over a period of time called 'Horizon' (predict the shop sales over next 7 days).\n",
    "\n",
    "Usually all available (mainly past) data on the signal can be used to perform the forecasting task, even external related signals can be used (called exogenous signals, weather data can be used to predict ice-cream sales).\n",
    "\n",
    "The time itself can also be used. Some time information can be helpful : sundays, holidays, quarter of the year etc. Future values of time-based data are usually known.\n",
    "\n",
    "Time series models are mathematical concepts that can used to compute the future values. They summarize a pattern that can be observed in the data in a regular way. Example time series models :\n",
    " - Linear trend : next future valeus are obtained by extrapolating a straight line fitted on known signal data.\n",
    " - Cycles : future values follow a periodic pattern (one value for each day of the week, for example).\n",
    " - Moving Average : Some combination of previous signal values (average sales of previous 7 days).\n",
    " - Naive model : the predicted value for tomorrow is today value. \n",
    " - ...\n",
    "\n",
    "Automatic forecasting is about testing a lot of possible time series models and selecting the best model based on its forecast quality (difference between predicted and actual values). \n"
   ]
  },
  {
   "cell_type": "markdown",
   "metadata": {},
   "source": [
    "## Forecasting with PyAF"
   ]
  },
  {
   "cell_type": "markdown",
   "metadata": {},
   "source": [
    "\n",
    "PyAF uses a machine learning approach to perform the forecasting task. It starts by building a time series model based on past values (training process) and then uses this model to generate the future values (forecast).\n",
    "\n",
    "A typical PyAF use case can sketched the following way :\n",
    "\n",
    "[read CSV file or table in database ] => [Pandas Dataframe , DF] => [train a model M using DF ] => [forecast DF using M] => [Pandas Dataframe containing Forecasts , FC] => [save FC to a csv file or a database]\n",
    "\n",
    "The first two and last two operations are Pandas generic data access tasks and are not part of PyAF. PyAF is only concerned with training the mdoel and using it to forecast the signal.\n",
    "\n",
    "A pandas dataframe object is a very sophisticated representation of the dataset. It allows a lot of possible manipulations on the data. Almost everything that can be done in a spreadsheet or a database (SQL) is possible, in python, using this object. It can be seen an abstarct unifying view of columnar data such as disk files and database tables. \n",
    "\n",
    "For a serious introduction to pandas objects see http://pandas.pydata.org/pandas-docs/stable/dsintro.html.\n"
   ]
  },
  {
   "cell_type": "markdown",
   "metadata": {},
   "source": [
    "## PyAF Use Cases\n"
   ]
  },
  {
   "cell_type": "markdown",
   "metadata": {},
   "source": [
    "### PyAF on the Ozone dataset"
   ]
  },
  {
   "cell_type": "markdown",
   "metadata": {},
   "source": [
    "\n",
    "Here , we take a standard use case, of ozone data in LA (https://datamarket.com/data/set/22u8/ozon-concentration-downtown-l-a-1955-1972). This is a popular dataset that gives the  monthly average of ozone concentration in LA from January 1955 to Dec 1972.  \n",
    "\n",
    "The Ozone dataset is available as a comma separated values (CSV) file from the link below.\n",
    "\n",
    "First , we load the dataset int a pandas dataframe object."
   ]
  },
  {
   "cell_type": "code",
   "execution_count": 2,
   "metadata": {
    "collapsed": true
   },
   "outputs": [],
   "source": [
    "import pandas as pd\n",
    "\n",
    "\n",
    "csvfile_link = \"https://raw.githubusercontent.com/antoinecarme/TimeSeriesData/master/ozone-la.csv\"\n",
    "ozone_dataframe = pd.read_csv(csvfile_link);"
   ]
  },
  {
   "cell_type": "markdown",
   "metadata": {},
   "source": [
    "This dataset has two columns : 'Month' and 'Ozone'. "
   ]
  },
  {
   "cell_type": "code",
   "execution_count": 3,
   "metadata": {
    "collapsed": false
   },
   "outputs": [
    {
     "data": {
      "text/html": [
       "<div>\n",
       "<table border=\"1\" class=\"dataframe\">\n",
       "  <thead>\n",
       "    <tr style=\"text-align: right;\">\n",
       "      <th></th>\n",
       "      <th>Month</th>\n",
       "      <th>Ozone</th>\n",
       "    </tr>\n",
       "  </thead>\n",
       "  <tbody>\n",
       "    <tr>\n",
       "      <th>0</th>\n",
       "      <td>1955-01</td>\n",
       "      <td>2.7</td>\n",
       "    </tr>\n",
       "    <tr>\n",
       "      <th>1</th>\n",
       "      <td>1955-02</td>\n",
       "      <td>2.0</td>\n",
       "    </tr>\n",
       "    <tr>\n",
       "      <th>2</th>\n",
       "      <td>1955-03</td>\n",
       "      <td>3.6</td>\n",
       "    </tr>\n",
       "    <tr>\n",
       "      <th>3</th>\n",
       "      <td>1955-04</td>\n",
       "      <td>5.0</td>\n",
       "    </tr>\n",
       "    <tr>\n",
       "      <th>4</th>\n",
       "      <td>1955-05</td>\n",
       "      <td>6.5</td>\n",
       "    </tr>\n",
       "  </tbody>\n",
       "</table>\n",
       "</div>"
      ],
      "text/plain": [
       "     Month  Ozone\n",
       "0  1955-01    2.7\n",
       "1  1955-02    2.0\n",
       "2  1955-03    3.6\n",
       "3  1955-04    5.0\n",
       "4  1955-05    6.5"
      ]
     },
     "execution_count": 3,
     "metadata": {},
     "output_type": "execute_result"
    }
   ],
   "source": [
    "ozone_dataframe.head()"
   ]
  },
  {
   "cell_type": "markdown",
   "metadata": {},
   "source": [
    "We see here that the column 'Month' is not really a datetime column (strange date format). Pandas prvides the necessary tools to 'normalize' this column on the fly (ISO date format) :"
   ]
  },
  {
   "cell_type": "code",
   "execution_count": 4,
   "metadata": {
    "collapsed": false
   },
   "outputs": [
    {
     "data": {
      "text/html": [
       "<div>\n",
       "<table border=\"1\" class=\"dataframe\">\n",
       "  <thead>\n",
       "    <tr style=\"text-align: right;\">\n",
       "      <th></th>\n",
       "      <th>Month</th>\n",
       "      <th>Ozone</th>\n",
       "    </tr>\n",
       "  </thead>\n",
       "  <tbody>\n",
       "    <tr>\n",
       "      <th>0</th>\n",
       "      <td>1955-01-01</td>\n",
       "      <td>2.7</td>\n",
       "    </tr>\n",
       "    <tr>\n",
       "      <th>1</th>\n",
       "      <td>1955-02-01</td>\n",
       "      <td>2.0</td>\n",
       "    </tr>\n",
       "    <tr>\n",
       "      <th>2</th>\n",
       "      <td>1955-03-01</td>\n",
       "      <td>3.6</td>\n",
       "    </tr>\n",
       "    <tr>\n",
       "      <th>3</th>\n",
       "      <td>1955-04-01</td>\n",
       "      <td>5.0</td>\n",
       "    </tr>\n",
       "    <tr>\n",
       "      <th>4</th>\n",
       "      <td>1955-05-01</td>\n",
       "      <td>6.5</td>\n",
       "    </tr>\n",
       "  </tbody>\n",
       "</table>\n",
       "</div>"
      ],
      "text/plain": [
       "       Month  Ozone\n",
       "0 1955-01-01    2.7\n",
       "1 1955-02-01    2.0\n",
       "2 1955-03-01    3.6\n",
       "3 1955-04-01    5.0\n",
       "4 1955-05-01    6.5"
      ]
     },
     "execution_count": 4,
     "metadata": {},
     "output_type": "execute_result"
    }
   ],
   "source": [
    "import datetime\n",
    "ozone_dataframe['Month'] = ozone_dataframe['Month'].apply(lambda x : datetime.datetime.strptime(x, \"%Y-%m\"))\n",
    "ozone_dataframe.head()\n"
   ]
  },
  {
   "cell_type": "markdown",
   "metadata": {},
   "source": [
    "Pandas provides also some plotting capabilities "
   ]
  },
  {
   "cell_type": "code",
   "execution_count": 5,
   "metadata": {
    "collapsed": false
   },
   "outputs": [
    {
     "data": {
      "text/plain": [
       "<matplotlib.axes._subplots.AxesSubplot at 0x7f3cafd6add8>"
      ]
     },
     "execution_count": 5,
     "metadata": {},
     "output_type": "execute_result"
    },
    {
     "data": {
      "image/png": "[encoded data removed]",
      "text/plain": [
       "<matplotlib.figure.Figure at 0x7f3cafd6a240>"
      ]
     },
     "metadata": {},
     "output_type": "display_data"
    }
   ],
   "source": [
    "%matplotlib inline  \n",
    "ozone_dataframe.plot.line('Month', ['Ozone'], grid = True, figsize=(12, 8))\n"
   ]
  },
  {
   "cell_type": "markdown",
   "metadata": {},
   "source": [
    "Now, we can build/train a time series model with PyAF to forecast the next 12 values:\n"
   ]
  },
  {
   "cell_type": "code",
   "execution_count": 6,
   "metadata": {
    "collapsed": false
   },
   "outputs": [
    {
     "name": "stderr",
     "output_type": "stream",
     "text": [
      "INFO:pyaf.std:START_TRAINING 'Ozone'\n",
      "INFO:pyaf.std:END_TRAINING_TIME_IN_SECONDS 'Ozone' 3.492631196975708\n"
     ]
    }
   ],
   "source": [
    "import pyaf.ForecastEngine as autof\n",
    "lEngine = autof.cForecastEngine()\n",
    "lEngine.train(ozone_dataframe , 'Month' , 'Ozone', 12);"
   ]
  },
  {
   "cell_type": "code",
   "execution_count": 7,
   "metadata": {
    "collapsed": false
   },
   "outputs": [
    {
     "name": "stderr",
     "output_type": "stream",
     "text": [
      "INFO:pyaf.std:TIME_DETAIL TimeVariable='Month' TimeMin=1955-01-01T00:00:00.000000 TimeMax=1968-07-01T00:00:00.000000 TimeDelta=30 days 10:22:13.333333 Estimation = (0 , 163) Validation = (163 , 204) Test = (204 , 216) Horizon=12\n",
      "INFO:pyaf.std:SIGNAL_DETAIL SignalVariable='_Ozone' Min=1.2 Max=8.7  Mean=3.77268518519 StdDev=1.48817692751\n",
      "INFO:pyaf.std:BEST_TRANSOFORMATION_TYPE '_'\n",
      "INFO:pyaf.std:BEST_DECOMPOSITION  '_Ozone_LinearTrend_residue_zeroCycle_residue_AR(54)' [LinearTrend + NoCycle + AR(54)]\n",
      "INFO:pyaf.std:TREND_DETAIL '_Ozone_LinearTrend' [LinearTrend]\n",
      "INFO:pyaf.std:CYCLE_DETAIL '_Ozone_LinearTrend_residue_zeroCycle' [NoCycle]\n",
      "INFO:pyaf.std:AUTOREG_DETAIL '_Ozone_LinearTrend_residue_zeroCycle_residue_AR(54)' [AR(54)]\n",
      "INFO:pyaf.std:MODEL_MAPE MAPE_Fit=0.163 MAPE_Forecast=0.1911 MAPE_Test=0.1412\n",
      "INFO:pyaf.std:MODEL_MASE MASE_Fit=0.6862 MASE_Forecast=0.7568 MASE_Test=0.6507\n",
      "INFO:pyaf.std:MODEL_L1 L1_Fit=0.796062835055 L1_Forecast=0.633257805743 L1_Test=0.331282263751\n",
      "INFO:pyaf.std:MODEL_L2 L2_Fit=0.796062835055 L2_Forecast=0.633257805743 L2_Test=0.405278398506\n",
      "INFO:pyaf.std:MODEL_COMPLEXITY 70\n",
      "INFO:pyaf.std:AR_MODEL_DETAIL_START\n",
      "INFO:pyaf.std:AR_MODEL_COEFF 1 _Ozone_LinearTrend_residue_zeroCycle_residue_Lag1 0.396230965213\n",
      "INFO:pyaf.std:AR_MODEL_COEFF 2 _Ozone_LinearTrend_residue_zeroCycle_residue_Lag10 0.189185783722\n",
      "INFO:pyaf.std:AR_MODEL_COEFF 3 _Ozone_LinearTrend_residue_zeroCycle_residue_Lag12 0.171374359696\n",
      "INFO:pyaf.std:AR_MODEL_COEFF 4 _Ozone_LinearTrend_residue_zeroCycle_residue_Lag30 0.158884122365\n",
      "INFO:pyaf.std:AR_MODEL_COEFF 5 _Ozone_LinearTrend_residue_zeroCycle_residue_Lag7 -0.146748828927\n",
      "INFO:pyaf.std:AR_MODEL_COEFF 6 _Ozone_LinearTrend_residue_zeroCycle_residue_Lag36 0.14341118628\n",
      "INFO:pyaf.std:AR_MODEL_COEFF 7 _Ozone_LinearTrend_residue_zeroCycle_residue_Lag39 -0.133590415729\n",
      "INFO:pyaf.std:AR_MODEL_COEFF 8 _Ozone_LinearTrend_residue_zeroCycle_residue_Lag48 0.128398767948\n",
      "INFO:pyaf.std:AR_MODEL_COEFF 9 _Ozone_LinearTrend_residue_zeroCycle_residue_Lag52 -0.124056320372\n",
      "INFO:pyaf.std:AR_MODEL_COEFF 10 _Ozone_LinearTrend_residue_zeroCycle_residue_Lag20 -0.117654325137\n",
      "INFO:pyaf.std:AR_MODEL_DETAIL_END\n"
     ]
    }
   ],
   "source": [
    "lEngine.getModelInfo()"
   ]
  },
  {
   "cell_type": "markdown",
   "metadata": {},
   "source": [
    "At this point, PyAF has tested all possible time series models and selected the best one. The whole process took about 7 seconds in this test."
   ]
  },
  {
   "cell_type": "markdown",
   "metadata": {},
   "source": [
    "to predict the next values using this model and show the last 20 values :\n"
   ]
  },
  {
   "cell_type": "code",
   "execution_count": 8,
   "metadata": {
    "collapsed": false
   },
   "outputs": [
    {
     "data": {
      "text/html": [
       "<div>\n",
       "<table border=\"1\" class=\"dataframe\">\n",
       "  <thead>\n",
       "    <tr style=\"text-align: right;\">\n",
       "      <th></th>\n",
       "      <th>Month</th>\n",
       "      <th>Ozone</th>\n",
       "      <th>_Ozone</th>\n",
       "      <th>row_number</th>\n",
       "      <th>Month_Normalized</th>\n",
       "      <th>_Ozone_LinearTrend</th>\n",
       "      <th>_Ozone_LinearTrend_residue</th>\n",
       "      <th>_Ozone_LinearTrend_residue_zeroCycle</th>\n",
       "      <th>_Ozone_LinearTrend_residue_zeroCycle_residue</th>\n",
       "      <th>_Ozone_LinearTrend_residue_zeroCycle_residue_AR(54)</th>\n",
       "      <th>...</th>\n",
       "      <th>_Ozone_Cycle</th>\n",
       "      <th>_Ozone_Cycle_residue</th>\n",
       "      <th>_Ozone_AR</th>\n",
       "      <th>_Ozone_AR_residue</th>\n",
       "      <th>_Ozone_TransformedForecast</th>\n",
       "      <th>_Ozone_TransformedResidue</th>\n",
       "      <th>Ozone_Forecast</th>\n",
       "      <th>Ozone_Residue</th>\n",
       "      <th>Ozone_Forecast_Lower_Bound</th>\n",
       "      <th>Ozone_Forecast_Upper_Bound</th>\n",
       "    </tr>\n",
       "  </thead>\n",
       "  <tbody>\n",
       "    <tr>\n",
       "      <th>208</th>\n",
       "      <td>1972-05-01</td>\n",
       "      <td>3.5</td>\n",
       "      <td>3.500000</td>\n",
       "      <td>208</td>\n",
       "      <td>0.173728</td>\n",
       "      <td>2.583939</td>\n",
       "      <td>0.916061</td>\n",
       "      <td>0.0</td>\n",
       "      <td>0.916061</td>\n",
       "      <td>0.568953</td>\n",
       "      <td>...</td>\n",
       "      <td>0.0</td>\n",
       "      <td>0.916061</td>\n",
       "      <td>0.568953</td>\n",
       "      <td>3.471089e-01</td>\n",
       "      <td>3.152891</td>\n",
       "      <td>0.347109</td>\n",
       "      <td>3.152891</td>\n",
       "      <td>0.347109</td>\n",
       "      <td>NaN</td>\n",
       "      <td>NaN</td>\n",
       "    </tr>\n",
       "    <tr>\n",
       "      <th>209</th>\n",
       "      <td>1972-06-01</td>\n",
       "      <td>3.4</td>\n",
       "      <td>3.400000</td>\n",
       "      <td>209</td>\n",
       "      <td>0.180016</td>\n",
       "      <td>2.572114</td>\n",
       "      <td>0.827886</td>\n",
       "      <td>0.0</td>\n",
       "      <td>0.827886</td>\n",
       "      <td>0.924601</td>\n",
       "      <td>...</td>\n",
       "      <td>0.0</td>\n",
       "      <td>0.827886</td>\n",
       "      <td>0.924601</td>\n",
       "      <td>-9.671444e-02</td>\n",
       "      <td>3.496714</td>\n",
       "      <td>-0.096714</td>\n",
       "      <td>3.496714</td>\n",
       "      <td>-0.096714</td>\n",
       "      <td>NaN</td>\n",
       "      <td>NaN</td>\n",
       "    </tr>\n",
       "    <tr>\n",
       "      <th>210</th>\n",
       "      <td>1972-07-01</td>\n",
       "      <td>4.0</td>\n",
       "      <td>4.000000</td>\n",
       "      <td>210</td>\n",
       "      <td>0.186101</td>\n",
       "      <td>2.560670</td>\n",
       "      <td>1.439330</td>\n",
       "      <td>0.0</td>\n",
       "      <td>1.439330</td>\n",
       "      <td>0.888587</td>\n",
       "      <td>...</td>\n",
       "      <td>0.0</td>\n",
       "      <td>1.439330</td>\n",
       "      <td>0.888587</td>\n",
       "      <td>5.507428e-01</td>\n",
       "      <td>3.449257</td>\n",
       "      <td>0.550743</td>\n",
       "      <td>3.449257</td>\n",
       "      <td>0.550743</td>\n",
       "      <td>NaN</td>\n",
       "      <td>NaN</td>\n",
       "    </tr>\n",
       "    <tr>\n",
       "      <th>211</th>\n",
       "      <td>1972-08-01</td>\n",
       "      <td>3.8</td>\n",
       "      <td>3.800000</td>\n",
       "      <td>211</td>\n",
       "      <td>0.192389</td>\n",
       "      <td>2.548846</td>\n",
       "      <td>1.251154</td>\n",
       "      <td>0.0</td>\n",
       "      <td>1.251154</td>\n",
       "      <td>1.058889</td>\n",
       "      <td>...</td>\n",
       "      <td>0.0</td>\n",
       "      <td>1.251154</td>\n",
       "      <td>1.058889</td>\n",
       "      <td>1.922655e-01</td>\n",
       "      <td>3.607734</td>\n",
       "      <td>0.192266</td>\n",
       "      <td>3.607734</td>\n",
       "      <td>0.192266</td>\n",
       "      <td>NaN</td>\n",
       "      <td>NaN</td>\n",
       "    </tr>\n",
       "    <tr>\n",
       "      <th>212</th>\n",
       "      <td>1972-09-01</td>\n",
       "      <td>3.1</td>\n",
       "      <td>3.100000</td>\n",
       "      <td>212</td>\n",
       "      <td>0.198677</td>\n",
       "      <td>2.537021</td>\n",
       "      <td>0.562979</td>\n",
       "      <td>0.0</td>\n",
       "      <td>0.562979</td>\n",
       "      <td>0.594921</td>\n",
       "      <td>...</td>\n",
       "      <td>0.0</td>\n",
       "      <td>0.562979</td>\n",
       "      <td>0.594921</td>\n",
       "      <td>-3.194232e-02</td>\n",
       "      <td>3.131942</td>\n",
       "      <td>-0.031942</td>\n",
       "      <td>3.131942</td>\n",
       "      <td>-0.031942</td>\n",
       "      <td>NaN</td>\n",
       "      <td>NaN</td>\n",
       "    </tr>\n",
       "    <tr>\n",
       "      <th>213</th>\n",
       "      <td>1972-10-01</td>\n",
       "      <td>2.1</td>\n",
       "      <td>2.100000</td>\n",
       "      <td>213</td>\n",
       "      <td>0.204762</td>\n",
       "      <td>2.525578</td>\n",
       "      <td>-0.425578</td>\n",
       "      <td>0.0</td>\n",
       "      <td>-0.425578</td>\n",
       "      <td>-0.207479</td>\n",
       "      <td>...</td>\n",
       "      <td>0.0</td>\n",
       "      <td>-0.425578</td>\n",
       "      <td>-0.207479</td>\n",
       "      <td>-2.180986e-01</td>\n",
       "      <td>2.318099</td>\n",
       "      <td>-0.218099</td>\n",
       "      <td>2.318099</td>\n",
       "      <td>-0.218099</td>\n",
       "      <td>NaN</td>\n",
       "      <td>NaN</td>\n",
       "    </tr>\n",
       "    <tr>\n",
       "      <th>214</th>\n",
       "      <td>1972-11-01</td>\n",
       "      <td>1.6</td>\n",
       "      <td>1.600000</td>\n",
       "      <td>214</td>\n",
       "      <td>0.211051</td>\n",
       "      <td>2.513753</td>\n",
       "      <td>-0.913753</td>\n",
       "      <td>0.0</td>\n",
       "      <td>-0.913753</td>\n",
       "      <td>-1.114128</td>\n",
       "      <td>...</td>\n",
       "      <td>0.0</td>\n",
       "      <td>-0.913753</td>\n",
       "      <td>-1.114128</td>\n",
       "      <td>2.003752e-01</td>\n",
       "      <td>1.399625</td>\n",
       "      <td>0.200375</td>\n",
       "      <td>1.399625</td>\n",
       "      <td>0.200375</td>\n",
       "      <td>NaN</td>\n",
       "      <td>NaN</td>\n",
       "    </tr>\n",
       "    <tr>\n",
       "      <th>215</th>\n",
       "      <td>1972-12-01</td>\n",
       "      <td>1.3</td>\n",
       "      <td>1.300000</td>\n",
       "      <td>215</td>\n",
       "      <td>0.217136</td>\n",
       "      <td>2.502309</td>\n",
       "      <td>-1.202309</td>\n",
       "      <td>0.0</td>\n",
       "      <td>-1.202309</td>\n",
       "      <td>-1.467150</td>\n",
       "      <td>...</td>\n",
       "      <td>0.0</td>\n",
       "      <td>-1.202309</td>\n",
       "      <td>-1.467150</td>\n",
       "      <td>2.648405e-01</td>\n",
       "      <td>1.035159</td>\n",
       "      <td>0.264841</td>\n",
       "      <td>1.035159</td>\n",
       "      <td>0.264841</td>\n",
       "      <td>NaN</td>\n",
       "      <td>NaN</td>\n",
       "    </tr>\n",
       "    <tr>\n",
       "      <th>216</th>\n",
       "      <td>1972-12-31</td>\n",
       "      <td>NaN</td>\n",
       "      <td>1.178299</td>\n",
       "      <td>216</td>\n",
       "      <td>0.223221</td>\n",
       "      <td>2.490866</td>\n",
       "      <td>-1.312567</td>\n",
       "      <td>0.0</td>\n",
       "      <td>-1.312567</td>\n",
       "      <td>-1.312567</td>\n",
       "      <td>...</td>\n",
       "      <td>0.0</td>\n",
       "      <td>-1.312567</td>\n",
       "      <td>-1.312567</td>\n",
       "      <td>0.000000e+00</td>\n",
       "      <td>1.178299</td>\n",
       "      <td>0.000000</td>\n",
       "      <td>1.178299</td>\n",
       "      <td>0.000000</td>\n",
       "      <td>-0.062886</td>\n",
       "      <td>2.419484</td>\n",
       "    </tr>\n",
       "    <tr>\n",
       "      <th>217</th>\n",
       "      <td>1973-01-30</td>\n",
       "      <td>NaN</td>\n",
       "      <td>1.526665</td>\n",
       "      <td>217</td>\n",
       "      <td>0.229306</td>\n",
       "      <td>2.479423</td>\n",
       "      <td>-0.952758</td>\n",
       "      <td>0.0</td>\n",
       "      <td>-0.952758</td>\n",
       "      <td>-0.952758</td>\n",
       "      <td>...</td>\n",
       "      <td>0.0</td>\n",
       "      <td>-0.952758</td>\n",
       "      <td>-0.952758</td>\n",
       "      <td>1.110223e-16</td>\n",
       "      <td>1.526665</td>\n",
       "      <td>0.000000</td>\n",
       "      <td>1.526665</td>\n",
       "      <td>0.000000</td>\n",
       "      <td>0.361757</td>\n",
       "      <td>2.691573</td>\n",
       "    </tr>\n",
       "    <tr>\n",
       "      <th>218</th>\n",
       "      <td>1973-03-01</td>\n",
       "      <td>NaN</td>\n",
       "      <td>2.079137</td>\n",
       "      <td>218</td>\n",
       "      <td>0.235391</td>\n",
       "      <td>2.467979</td>\n",
       "      <td>-0.388842</td>\n",
       "      <td>0.0</td>\n",
       "      <td>-0.388842</td>\n",
       "      <td>-0.388842</td>\n",
       "      <td>...</td>\n",
       "      <td>0.0</td>\n",
       "      <td>-0.388842</td>\n",
       "      <td>-0.388842</td>\n",
       "      <td>1.110223e-16</td>\n",
       "      <td>2.079137</td>\n",
       "      <td>0.000000</td>\n",
       "      <td>2.079137</td>\n",
       "      <td>0.000000</td>\n",
       "      <td>0.804130</td>\n",
       "      <td>3.354145</td>\n",
       "    </tr>\n",
       "    <tr>\n",
       "      <th>219</th>\n",
       "      <td>1973-03-31</td>\n",
       "      <td>NaN</td>\n",
       "      <td>2.503248</td>\n",
       "      <td>219</td>\n",
       "      <td>0.241476</td>\n",
       "      <td>2.456536</td>\n",
       "      <td>0.046712</td>\n",
       "      <td>0.0</td>\n",
       "      <td>0.046712</td>\n",
       "      <td>0.046712</td>\n",
       "      <td>...</td>\n",
       "      <td>0.0</td>\n",
       "      <td>0.046712</td>\n",
       "      <td>0.046712</td>\n",
       "      <td>-2.775558e-17</td>\n",
       "      <td>2.503248</td>\n",
       "      <td>0.000000</td>\n",
       "      <td>2.503248</td>\n",
       "      <td>0.000000</td>\n",
       "      <td>1.173335</td>\n",
       "      <td>3.833160</td>\n",
       "    </tr>\n",
       "    <tr>\n",
       "      <th>220</th>\n",
       "      <td>1973-04-30</td>\n",
       "      <td>NaN</td>\n",
       "      <td>3.062708</td>\n",
       "      <td>220</td>\n",
       "      <td>0.247562</td>\n",
       "      <td>2.445093</td>\n",
       "      <td>0.617615</td>\n",
       "      <td>0.0</td>\n",
       "      <td>0.617615</td>\n",
       "      <td>0.617615</td>\n",
       "      <td>...</td>\n",
       "      <td>0.0</td>\n",
       "      <td>0.617615</td>\n",
       "      <td>0.617615</td>\n",
       "      <td>1.110223e-16</td>\n",
       "      <td>3.062708</td>\n",
       "      <td>0.000000</td>\n",
       "      <td>3.062708</td>\n",
       "      <td>0.000000</td>\n",
       "      <td>1.767161</td>\n",
       "      <td>4.358255</td>\n",
       "    </tr>\n",
       "    <tr>\n",
       "      <th>221</th>\n",
       "      <td>1973-05-30</td>\n",
       "      <td>NaN</td>\n",
       "      <td>3.150295</td>\n",
       "      <td>221</td>\n",
       "      <td>0.253647</td>\n",
       "      <td>2.433649</td>\n",
       "      <td>0.716646</td>\n",
       "      <td>0.0</td>\n",
       "      <td>0.716646</td>\n",
       "      <td>0.716646</td>\n",
       "      <td>...</td>\n",
       "      <td>0.0</td>\n",
       "      <td>0.716646</td>\n",
       "      <td>0.716646</td>\n",
       "      <td>0.000000e+00</td>\n",
       "      <td>3.150295</td>\n",
       "      <td>0.000000</td>\n",
       "      <td>3.150295</td>\n",
       "      <td>0.000000</td>\n",
       "      <td>1.754344</td>\n",
       "      <td>4.546246</td>\n",
       "    </tr>\n",
       "    <tr>\n",
       "      <th>222</th>\n",
       "      <td>1973-06-29</td>\n",
       "      <td>NaN</td>\n",
       "      <td>3.165523</td>\n",
       "      <td>222</td>\n",
       "      <td>0.259732</td>\n",
       "      <td>2.422206</td>\n",
       "      <td>0.743317</td>\n",
       "      <td>0.0</td>\n",
       "      <td>0.743317</td>\n",
       "      <td>0.743317</td>\n",
       "      <td>...</td>\n",
       "      <td>0.0</td>\n",
       "      <td>0.743317</td>\n",
       "      <td>0.743317</td>\n",
       "      <td>0.000000e+00</td>\n",
       "      <td>3.165523</td>\n",
       "      <td>0.000000</td>\n",
       "      <td>3.165523</td>\n",
       "      <td>0.000000</td>\n",
       "      <td>1.794745</td>\n",
       "      <td>4.536301</td>\n",
       "    </tr>\n",
       "    <tr>\n",
       "      <th>223</th>\n",
       "      <td>1973-07-29</td>\n",
       "      <td>NaN</td>\n",
       "      <td>3.405581</td>\n",
       "      <td>223</td>\n",
       "      <td>0.265817</td>\n",
       "      <td>2.410763</td>\n",
       "      <td>0.994819</td>\n",
       "      <td>0.0</td>\n",
       "      <td>0.994819</td>\n",
       "      <td>0.994819</td>\n",
       "      <td>...</td>\n",
       "      <td>0.0</td>\n",
       "      <td>0.994819</td>\n",
       "      <td>0.994819</td>\n",
       "      <td>-1.110223e-16</td>\n",
       "      <td>3.405581</td>\n",
       "      <td>0.000000</td>\n",
       "      <td>3.405581</td>\n",
       "      <td>0.000000</td>\n",
       "      <td>1.845492</td>\n",
       "      <td>4.965671</td>\n",
       "    </tr>\n",
       "    <tr>\n",
       "      <th>224</th>\n",
       "      <td>1973-08-28</td>\n",
       "      <td>NaN</td>\n",
       "      <td>2.819670</td>\n",
       "      <td>224</td>\n",
       "      <td>0.271902</td>\n",
       "      <td>2.399319</td>\n",
       "      <td>0.420351</td>\n",
       "      <td>0.0</td>\n",
       "      <td>0.420351</td>\n",
       "      <td>0.420351</td>\n",
       "      <td>...</td>\n",
       "      <td>0.0</td>\n",
       "      <td>0.420351</td>\n",
       "      <td>0.420351</td>\n",
       "      <td>-1.110223e-16</td>\n",
       "      <td>2.819670</td>\n",
       "      <td>0.000000</td>\n",
       "      <td>2.819670</td>\n",
       "      <td>0.000000</td>\n",
       "      <td>1.332462</td>\n",
       "      <td>4.306878</td>\n",
       "    </tr>\n",
       "    <tr>\n",
       "      <th>225</th>\n",
       "      <td>1973-09-27</td>\n",
       "      <td>NaN</td>\n",
       "      <td>2.290517</td>\n",
       "      <td>225</td>\n",
       "      <td>0.277988</td>\n",
       "      <td>2.387876</td>\n",
       "      <td>-0.097359</td>\n",
       "      <td>0.0</td>\n",
       "      <td>-0.097359</td>\n",
       "      <td>-0.097359</td>\n",
       "      <td>...</td>\n",
       "      <td>0.0</td>\n",
       "      <td>-0.097359</td>\n",
       "      <td>-0.097359</td>\n",
       "      <td>5.551115e-17</td>\n",
       "      <td>2.290517</td>\n",
       "      <td>0.000000</td>\n",
       "      <td>2.290517</td>\n",
       "      <td>0.000000</td>\n",
       "      <td>0.540554</td>\n",
       "      <td>4.040480</td>\n",
       "    </tr>\n",
       "    <tr>\n",
       "      <th>226</th>\n",
       "      <td>1973-10-27</td>\n",
       "      <td>NaN</td>\n",
       "      <td>1.032691</td>\n",
       "      <td>226</td>\n",
       "      <td>0.284073</td>\n",
       "      <td>2.376433</td>\n",
       "      <td>-1.343742</td>\n",
       "      <td>0.0</td>\n",
       "      <td>-1.343742</td>\n",
       "      <td>-1.343742</td>\n",
       "      <td>...</td>\n",
       "      <td>0.0</td>\n",
       "      <td>-1.343742</td>\n",
       "      <td>-1.343742</td>\n",
       "      <td>0.000000e+00</td>\n",
       "      <td>1.032691</td>\n",
       "      <td>0.000000</td>\n",
       "      <td>1.032691</td>\n",
       "      <td>0.000000</td>\n",
       "      <td>-0.958406</td>\n",
       "      <td>3.023787</td>\n",
       "    </tr>\n",
       "    <tr>\n",
       "      <th>227</th>\n",
       "      <td>1973-11-26</td>\n",
       "      <td>NaN</td>\n",
       "      <td>1.032691</td>\n",
       "      <td>227</td>\n",
       "      <td>0.290158</td>\n",
       "      <td>2.364989</td>\n",
       "      <td>-1.332299</td>\n",
       "      <td>0.0</td>\n",
       "      <td>-1.332299</td>\n",
       "      <td>-1.752161</td>\n",
       "      <td>...</td>\n",
       "      <td>0.0</td>\n",
       "      <td>-1.332299</td>\n",
       "      <td>-1.752161</td>\n",
       "      <td>4.198624e-01</td>\n",
       "      <td>0.612828</td>\n",
       "      <td>0.419862</td>\n",
       "      <td>0.612828</td>\n",
       "      <td>0.419862</td>\n",
       "      <td>-1.634788</td>\n",
       "      <td>2.860444</td>\n",
       "    </tr>\n",
       "  </tbody>\n",
       "</table>\n",
       "<p>20 rows × 23 columns</p>\n",
       "</div>"
      ],
      "text/plain": [
       "         Month  Ozone    _Ozone  row_number  Month_Normalized  \\\n",
       "208 1972-05-01    3.5  3.500000         208          0.173728   \n",
       "209 1972-06-01    3.4  3.400000         209          0.180016   \n",
       "210 1972-07-01    4.0  4.000000         210          0.186101   \n",
       "211 1972-08-01    3.8  3.800000         211          0.192389   \n",
       "212 1972-09-01    3.1  3.100000         212          0.198677   \n",
       "213 1972-10-01    2.1  2.100000         213          0.204762   \n",
       "214 1972-11-01    1.6  1.600000         214          0.211051   \n",
       "215 1972-12-01    1.3  1.300000         215          0.217136   \n",
       "216 1972-12-31    NaN  1.178299         216          0.223221   \n",
       "217 1973-01-30    NaN  1.526665         217          0.229306   \n",
       "218 1973-03-01    NaN  2.079137         218          0.235391   \n",
       "219 1973-03-31    NaN  2.503248         219          0.241476   \n",
       "220 1973-04-30    NaN  3.062708         220          0.247562   \n",
       "221 1973-05-30    NaN  3.150295         221          0.253647   \n",
       "222 1973-06-29    NaN  3.165523         222          0.259732   \n",
       "223 1973-07-29    NaN  3.405581         223          0.265817   \n",
       "224 1973-08-28    NaN  2.819670         224          0.271902   \n",
       "225 1973-09-27    NaN  2.290517         225          0.277988   \n",
       "226 1973-10-27    NaN  1.032691         226          0.284073   \n",
       "227 1973-11-26    NaN  1.032691         227          0.290158   \n",
       "\n",
       "     _Ozone_LinearTrend  _Ozone_LinearTrend_residue  \\\n",
       "208            2.583939                    0.916061   \n",
       "209            2.572114                    0.827886   \n",
       "210            2.560670                    1.439330   \n",
       "211            2.548846                    1.251154   \n",
       "212            2.537021                    0.562979   \n",
       "213            2.525578                   -0.425578   \n",
       "214            2.513753                   -0.913753   \n",
       "215            2.502309                   -1.202309   \n",
       "216            2.490866                   -1.312567   \n",
       "217            2.479423                   -0.952758   \n",
       "218            2.467979                   -0.388842   \n",
       "219            2.456536                    0.046712   \n",
       "220            2.445093                    0.617615   \n",
       "221            2.433649                    0.716646   \n",
       "222            2.422206                    0.743317   \n",
       "223            2.410763                    0.994819   \n",
       "224            2.399319                    0.420351   \n",
       "225            2.387876                   -0.097359   \n",
       "226            2.376433                   -1.343742   \n",
       "227            2.364989                   -1.332299   \n",
       "\n",
       "     _Ozone_LinearTrend_residue_zeroCycle  \\\n",
       "208                                   0.0   \n",
       "209                                   0.0   \n",
       "210                                   0.0   \n",
       "211                                   0.0   \n",
       "212                                   0.0   \n",
       "213                                   0.0   \n",
       "214                                   0.0   \n",
       "215                                   0.0   \n",
       "216                                   0.0   \n",
       "217                                   0.0   \n",
       "218                                   0.0   \n",
       "219                                   0.0   \n",
       "220                                   0.0   \n",
       "221                                   0.0   \n",
       "222                                   0.0   \n",
       "223                                   0.0   \n",
       "224                                   0.0   \n",
       "225                                   0.0   \n",
       "226                                   0.0   \n",
       "227                                   0.0   \n",
       "\n",
       "     _Ozone_LinearTrend_residue_zeroCycle_residue  \\\n",
       "208                                      0.916061   \n",
       "209                                      0.827886   \n",
       "210                                      1.439330   \n",
       "211                                      1.251154   \n",
       "212                                      0.562979   \n",
       "213                                     -0.425578   \n",
       "214                                     -0.913753   \n",
       "215                                     -1.202309   \n",
       "216                                     -1.312567   \n",
       "217                                     -0.952758   \n",
       "218                                     -0.388842   \n",
       "219                                      0.046712   \n",
       "220                                      0.617615   \n",
       "221                                      0.716646   \n",
       "222                                      0.743317   \n",
       "223                                      0.994819   \n",
       "224                                      0.420351   \n",
       "225                                     -0.097359   \n",
       "226                                     -1.343742   \n",
       "227                                     -1.332299   \n",
       "\n",
       "     _Ozone_LinearTrend_residue_zeroCycle_residue_AR(54)  \\\n",
       "208                                           0.568953     \n",
       "209                                           0.924601     \n",
       "210                                           0.888587     \n",
       "211                                           1.058889     \n",
       "212                                           0.594921     \n",
       "213                                          -0.207479     \n",
       "214                                          -1.114128     \n",
       "215                                          -1.467150     \n",
       "216                                          -1.312567     \n",
       "217                                          -0.952758     \n",
       "218                                          -0.388842     \n",
       "219                                           0.046712     \n",
       "220                                           0.617615     \n",
       "221                                           0.716646     \n",
       "222                                           0.743317     \n",
       "223                                           0.994819     \n",
       "224                                           0.420351     \n",
       "225                                          -0.097359     \n",
       "226                                          -1.343742     \n",
       "227                                          -1.752161     \n",
       "\n",
       "                ...              _Ozone_Cycle  _Ozone_Cycle_residue  \\\n",
       "208             ...                       0.0              0.916061   \n",
       "209             ...                       0.0              0.827886   \n",
       "210             ...                       0.0              1.439330   \n",
       "211             ...                       0.0              1.251154   \n",
       "212             ...                       0.0              0.562979   \n",
       "213             ...                       0.0             -0.425578   \n",
       "214             ...                       0.0             -0.913753   \n",
       "215             ...                       0.0             -1.202309   \n",
       "216             ...                       0.0             -1.312567   \n",
       "217             ...                       0.0             -0.952758   \n",
       "218             ...                       0.0             -0.388842   \n",
       "219             ...                       0.0              0.046712   \n",
       "220             ...                       0.0              0.617615   \n",
       "221             ...                       0.0              0.716646   \n",
       "222             ...                       0.0              0.743317   \n",
       "223             ...                       0.0              0.994819   \n",
       "224             ...                       0.0              0.420351   \n",
       "225             ...                       0.0             -0.097359   \n",
       "226             ...                       0.0             -1.343742   \n",
       "227             ...                       0.0             -1.332299   \n",
       "\n",
       "     _Ozone_AR  _Ozone_AR_residue  _Ozone_TransformedForecast  \\\n",
       "208   0.568953       3.471089e-01                    3.152891   \n",
       "209   0.924601      -9.671444e-02                    3.496714   \n",
       "210   0.888587       5.507428e-01                    3.449257   \n",
       "211   1.058889       1.922655e-01                    3.607734   \n",
       "212   0.594921      -3.194232e-02                    3.131942   \n",
       "213  -0.207479      -2.180986e-01                    2.318099   \n",
       "214  -1.114128       2.003752e-01                    1.399625   \n",
       "215  -1.467150       2.648405e-01                    1.035159   \n",
       "216  -1.312567       0.000000e+00                    1.178299   \n",
       "217  -0.952758       1.110223e-16                    1.526665   \n",
       "218  -0.388842       1.110223e-16                    2.079137   \n",
       "219   0.046712      -2.775558e-17                    2.503248   \n",
       "220   0.617615       1.110223e-16                    3.062708   \n",
       "221   0.716646       0.000000e+00                    3.150295   \n",
       "222   0.743317       0.000000e+00                    3.165523   \n",
       "223   0.994819      -1.110223e-16                    3.405581   \n",
       "224   0.420351      -1.110223e-16                    2.819670   \n",
       "225  -0.097359       5.551115e-17                    2.290517   \n",
       "226  -1.343742       0.000000e+00                    1.032691   \n",
       "227  -1.752161       4.198624e-01                    0.612828   \n",
       "\n",
       "     _Ozone_TransformedResidue  Ozone_Forecast  Ozone_Residue  \\\n",
       "208                   0.347109        3.152891       0.347109   \n",
       "209                  -0.096714        3.496714      -0.096714   \n",
       "210                   0.550743        3.449257       0.550743   \n",
       "211                   0.192266        3.607734       0.192266   \n",
       "212                  -0.031942        3.131942      -0.031942   \n",
       "213                  -0.218099        2.318099      -0.218099   \n",
       "214                   0.200375        1.399625       0.200375   \n",
       "215                   0.264841        1.035159       0.264841   \n",
       "216                   0.000000        1.178299       0.000000   \n",
       "217                   0.000000        1.526665       0.000000   \n",
       "218                   0.000000        2.079137       0.000000   \n",
       "219                   0.000000        2.503248       0.000000   \n",
       "220                   0.000000        3.062708       0.000000   \n",
       "221                   0.000000        3.150295       0.000000   \n",
       "222                   0.000000        3.165523       0.000000   \n",
       "223                   0.000000        3.405581       0.000000   \n",
       "224                   0.000000        2.819670       0.000000   \n",
       "225                   0.000000        2.290517       0.000000   \n",
       "226                   0.000000        1.032691       0.000000   \n",
       "227                   0.419862        0.612828       0.419862   \n",
       "\n",
       "     Ozone_Forecast_Lower_Bound  Ozone_Forecast_Upper_Bound  \n",
       "208                         NaN                         NaN  \n",
       "209                         NaN                         NaN  \n",
       "210                         NaN                         NaN  \n",
       "211                         NaN                         NaN  \n",
       "212                         NaN                         NaN  \n",
       "213                         NaN                         NaN  \n",
       "214                         NaN                         NaN  \n",
       "215                         NaN                         NaN  \n",
       "216                   -0.062886                    2.419484  \n",
       "217                    0.361757                    2.691573  \n",
       "218                    0.804130                    3.354145  \n",
       "219                    1.173335                    3.833160  \n",
       "220                    1.767161                    4.358255  \n",
       "221                    1.754344                    4.546246  \n",
       "222                    1.794745                    4.536301  \n",
       "223                    1.845492                    4.965671  \n",
       "224                    1.332462                    4.306878  \n",
       "225                    0.540554                    4.040480  \n",
       "226                   -0.958406                    3.023787  \n",
       "227                   -1.634788                    2.860444  \n",
       "\n",
       "[20 rows x 23 columns]"
      ]
     },
     "execution_count": 8,
     "metadata": {},
     "output_type": "execute_result"
    }
   ],
   "source": [
    "ozone_forecast_dataframe = lEngine.forecast(ozone_dataframe, 12);\n",
    "ozone_forecast_dataframe.tail(20)"
   ]
  },
  {
   "cell_type": "markdown",
   "metadata": {},
   "source": [
    "Here, we see that \n",
    "1. The last 12 values of the 'Month' column have been filled on a monthly basis for the next year (1973). \n",
    "2. The last 12 values of the 'Ozone' column are empty or unknown ('Nan').\n",
    "3. A lot of extra columns have been computed\n",
    "\n"
   ]
  },
  {
   "cell_type": "markdown",
   "metadata": {},
   "source": [
    "The most impostant new column is 'Ozone_Forecast', we can tsee the last rows of this column as well as the time and signal columns :"
   ]
  },
  {
   "cell_type": "code",
   "execution_count": 9,
   "metadata": {
    "collapsed": false
   },
   "outputs": [
    {
     "data": {
      "text/html": [
       "<div>\n",
       "<table border=\"1\" class=\"dataframe\">\n",
       "  <thead>\n",
       "    <tr style=\"text-align: right;\">\n",
       "      <th></th>\n",
       "      <th>Month</th>\n",
       "      <th>Ozone</th>\n",
       "      <th>Ozone_Forecast</th>\n",
       "    </tr>\n",
       "  </thead>\n",
       "  <tbody>\n",
       "    <tr>\n",
       "      <th>208</th>\n",
       "      <td>1972-05-01</td>\n",
       "      <td>3.5</td>\n",
       "      <td>3.152891</td>\n",
       "    </tr>\n",
       "    <tr>\n",
       "      <th>209</th>\n",
       "      <td>1972-06-01</td>\n",
       "      <td>3.4</td>\n",
       "      <td>3.496714</td>\n",
       "    </tr>\n",
       "    <tr>\n",
       "      <th>210</th>\n",
       "      <td>1972-07-01</td>\n",
       "      <td>4.0</td>\n",
       "      <td>3.449257</td>\n",
       "    </tr>\n",
       "    <tr>\n",
       "      <th>211</th>\n",
       "      <td>1972-08-01</td>\n",
       "      <td>3.8</td>\n",
       "      <td>3.607734</td>\n",
       "    </tr>\n",
       "    <tr>\n",
       "      <th>212</th>\n",
       "      <td>1972-09-01</td>\n",
       "      <td>3.1</td>\n",
       "      <td>3.131942</td>\n",
       "    </tr>\n",
       "    <tr>\n",
       "      <th>213</th>\n",
       "      <td>1972-10-01</td>\n",
       "      <td>2.1</td>\n",
       "      <td>2.318099</td>\n",
       "    </tr>\n",
       "    <tr>\n",
       "      <th>214</th>\n",
       "      <td>1972-11-01</td>\n",
       "      <td>1.6</td>\n",
       "      <td>1.399625</td>\n",
       "    </tr>\n",
       "    <tr>\n",
       "      <th>215</th>\n",
       "      <td>1972-12-01</td>\n",
       "      <td>1.3</td>\n",
       "      <td>1.035159</td>\n",
       "    </tr>\n",
       "    <tr>\n",
       "      <th>216</th>\n",
       "      <td>1972-12-31</td>\n",
       "      <td>NaN</td>\n",
       "      <td>1.178299</td>\n",
       "    </tr>\n",
       "    <tr>\n",
       "      <th>217</th>\n",
       "      <td>1973-01-30</td>\n",
       "      <td>NaN</td>\n",
       "      <td>1.526665</td>\n",
       "    </tr>\n",
       "    <tr>\n",
       "      <th>218</th>\n",
       "      <td>1973-03-01</td>\n",
       "      <td>NaN</td>\n",
       "      <td>2.079137</td>\n",
       "    </tr>\n",
       "    <tr>\n",
       "      <th>219</th>\n",
       "      <td>1973-03-31</td>\n",
       "      <td>NaN</td>\n",
       "      <td>2.503248</td>\n",
       "    </tr>\n",
       "    <tr>\n",
       "      <th>220</th>\n",
       "      <td>1973-04-30</td>\n",
       "      <td>NaN</td>\n",
       "      <td>3.062708</td>\n",
       "    </tr>\n",
       "    <tr>\n",
       "      <th>221</th>\n",
       "      <td>1973-05-30</td>\n",
       "      <td>NaN</td>\n",
       "      <td>3.150295</td>\n",
       "    </tr>\n",
       "    <tr>\n",
       "      <th>222</th>\n",
       "      <td>1973-06-29</td>\n",
       "      <td>NaN</td>\n",
       "      <td>3.165523</td>\n",
       "    </tr>\n",
       "    <tr>\n",
       "      <th>223</th>\n",
       "      <td>1973-07-29</td>\n",
       "      <td>NaN</td>\n",
       "      <td>3.405581</td>\n",
       "    </tr>\n",
       "    <tr>\n",
       "      <th>224</th>\n",
       "      <td>1973-08-28</td>\n",
       "      <td>NaN</td>\n",
       "      <td>2.819670</td>\n",
       "    </tr>\n",
       "    <tr>\n",
       "      <th>225</th>\n",
       "      <td>1973-09-27</td>\n",
       "      <td>NaN</td>\n",
       "      <td>2.290517</td>\n",
       "    </tr>\n",
       "    <tr>\n",
       "      <th>226</th>\n",
       "      <td>1973-10-27</td>\n",
       "      <td>NaN</td>\n",
       "      <td>1.032691</td>\n",
       "    </tr>\n",
       "    <tr>\n",
       "      <th>227</th>\n",
       "      <td>1973-11-26</td>\n",
       "      <td>NaN</td>\n",
       "      <td>0.612828</td>\n",
       "    </tr>\n",
       "  </tbody>\n",
       "</table>\n",
       "</div>"
      ],
      "text/plain": [
       "         Month  Ozone  Ozone_Forecast\n",
       "208 1972-05-01    3.5        3.152891\n",
       "209 1972-06-01    3.4        3.496714\n",
       "210 1972-07-01    4.0        3.449257\n",
       "211 1972-08-01    3.8        3.607734\n",
       "212 1972-09-01    3.1        3.131942\n",
       "213 1972-10-01    2.1        2.318099\n",
       "214 1972-11-01    1.6        1.399625\n",
       "215 1972-12-01    1.3        1.035159\n",
       "216 1972-12-31    NaN        1.178299\n",
       "217 1973-01-30    NaN        1.526665\n",
       "218 1973-03-01    NaN        2.079137\n",
       "219 1973-03-31    NaN        2.503248\n",
       "220 1973-04-30    NaN        3.062708\n",
       "221 1973-05-30    NaN        3.150295\n",
       "222 1973-06-29    NaN        3.165523\n",
       "223 1973-07-29    NaN        3.405581\n",
       "224 1973-08-28    NaN        2.819670\n",
       "225 1973-09-27    NaN        2.290517\n",
       "226 1973-10-27    NaN        1.032691\n",
       "227 1973-11-26    NaN        0.612828"
      ]
     },
     "execution_count": 9,
     "metadata": {},
     "output_type": "execute_result"
    }
   ],
   "source": [
    "ozone_forecast_dataframe[['Month' , 'Ozone' , 'Ozone_Forecast']].tail(20)"
   ]
  },
  {
   "cell_type": "markdown",
   "metadata": {},
   "source": [
    "The predicted value for '1973-01-01' is then '0.811919' , etc"
   ]
  },
  {
   "cell_type": "markdown",
   "metadata": {},
   "source": [
    "It is possible to plot the forecast against the signal toc check the 'visual' quality of the model and see the prediction intervals"
   ]
  },
  {
   "cell_type": "code",
   "execution_count": 10,
   "metadata": {
    "collapsed": false
   },
   "outputs": [
    {
     "data": {
      "text/plain": [
       "<matplotlib.axes._subplots.AxesSubplot at 0x7f3c94042710>"
      ]
     },
     "execution_count": 10,
     "metadata": {},
     "output_type": "execute_result"
    },
    {
     "data": {
      "image/png": "[encoded data removed]",
      "text/plain": [
       "<matplotlib.figure.Figure at 0x7f3c7ffe1c88>"
      ]
     },
     "metadata": {},
     "output_type": "display_data"
    }
   ],
   "source": [
    "ozone_forecast_dataframe.plot.line('Month', ['Ozone' , 'Ozone_Forecast', \n",
    "                                             'Ozone_Forecast_Lower_Bound', \n",
    "                                             'Ozone_Forecast_Upper_Bound'], grid = True, figsize=(12, 8))"
   ]
  },
  {
   "cell_type": "markdown",
   "metadata": {},
   "source": [
    "Finally, one can the save the forecasts datafrma eto a CSV file or a database :"
   ]
  },
  {
   "cell_type": "code",
   "execution_count": 11,
   "metadata": {
    "collapsed": true
   },
   "outputs": [],
   "source": [
    "ozone_forecast_dataframe.to_csv(\"ozone_forecast.csv\")"
   ]
  },
  {
   "cell_type": "code",
   "execution_count": null,
   "metadata": {
    "collapsed": true
   },
   "outputs": [],
   "source": []
  },
  {
   "cell_type": "code",
   "execution_count": null,
   "metadata": {
    "collapsed": true
   },
   "outputs": [],
   "source": []
  },
  {
   "cell_type": "markdown",
   "metadata": {},
   "source": [
    "### PyAF on some stock value"
   ]
  },
  {
   "cell_type": "markdown",
   "metadata": {},
   "source": [
    "Using Yahoo Finance all public stock data are available. Here we give an exsample of how one can use PyAF to predict the future values of a popular stock (GOOG)."
   ]
  },
  {
   "cell_type": "code",
   "execution_count": 12,
   "metadata": {
    "collapsed": false
   },
   "outputs": [
    {
     "data": {
      "text/html": [
       "<div>\n",
       "<table border=\"1\" class=\"dataframe\">\n",
       "  <thead>\n",
       "    <tr style=\"text-align: right;\">\n",
       "      <th></th>\n",
       "      <th>Date</th>\n",
       "      <th>Open</th>\n",
       "      <th>High</th>\n",
       "      <th>Low</th>\n",
       "      <th>Close</th>\n",
       "      <th>Volume</th>\n",
       "      <th>Adj Close</th>\n",
       "    </tr>\n",
       "  </thead>\n",
       "  <tbody>\n",
       "    <tr>\n",
       "      <th>4</th>\n",
       "      <td>2016-10-10</td>\n",
       "      <td>777.710022</td>\n",
       "      <td>789.380005</td>\n",
       "      <td>775.869995</td>\n",
       "      <td>785.940002</td>\n",
       "      <td>1174900</td>\n",
       "      <td>785.940002</td>\n",
       "    </tr>\n",
       "    <tr>\n",
       "      <th>3</th>\n",
       "      <td>2016-10-11</td>\n",
       "      <td>786.659973</td>\n",
       "      <td>792.280029</td>\n",
       "      <td>780.580017</td>\n",
       "      <td>783.070007</td>\n",
       "      <td>1372500</td>\n",
       "      <td>783.070007</td>\n",
       "    </tr>\n",
       "    <tr>\n",
       "      <th>2</th>\n",
       "      <td>2016-10-12</td>\n",
       "      <td>783.760010</td>\n",
       "      <td>788.130005</td>\n",
       "      <td>782.059998</td>\n",
       "      <td>786.140015</td>\n",
       "      <td>937400</td>\n",
       "      <td>786.140015</td>\n",
       "    </tr>\n",
       "    <tr>\n",
       "      <th>1</th>\n",
       "      <td>2016-10-13</td>\n",
       "      <td>781.219971</td>\n",
       "      <td>781.219971</td>\n",
       "      <td>773.000000</td>\n",
       "      <td>778.190002</td>\n",
       "      <td>1365300</td>\n",
       "      <td>778.190002</td>\n",
       "    </tr>\n",
       "    <tr>\n",
       "      <th>0</th>\n",
       "      <td>2016-10-14</td>\n",
       "      <td>781.650024</td>\n",
       "      <td>783.950012</td>\n",
       "      <td>776.000000</td>\n",
       "      <td>778.530029</td>\n",
       "      <td>852500</td>\n",
       "      <td>778.530029</td>\n",
       "    </tr>\n",
       "  </tbody>\n",
       "</table>\n",
       "</div>"
      ],
      "text/plain": [
       "        Date        Open        High         Low       Close   Volume  \\\n",
       "4 2016-10-10  777.710022  789.380005  775.869995  785.940002  1174900   \n",
       "3 2016-10-11  786.659973  792.280029  780.580017  783.070007  1372500   \n",
       "2 2016-10-12  783.760010  788.130005  782.059998  786.140015   937400   \n",
       "1 2016-10-13  781.219971  781.219971  773.000000  778.190002  1365300   \n",
       "0 2016-10-14  781.650024  783.950012  776.000000  778.530029   852500   \n",
       "\n",
       "    Adj Close  \n",
       "4  785.940002  \n",
       "3  783.070007  \n",
       "2  786.140015  \n",
       "1  778.190002  \n",
       "0  778.530029  "
      ]
     },
     "execution_count": 12,
     "metadata": {},
     "output_type": "execute_result"
    }
   ],
   "source": [
    "goog_link = \"http://chart.finance.yahoo.com/table.csv?s=GOOG&a=8&b=14&c=2015&d=9&e=14&f=2016&g=d&ignore=.csv\"\n",
    "import pandas as pd\n",
    "goog_dataframe = pd.read_csv(goog_link);\n",
    "goog_dataframe['Date'] = goog_dataframe['Date'].apply(lambda x : datetime.datetime.strptime(x, \"%Y-%m-%d\"))\n",
    "goog_dataframe.sort_values(by = 'Date' , ascending=True, inplace=True)\n",
    "goog_dataframe.tail()"
   ]
  },
  {
   "cell_type": "markdown",
   "metadata": {},
   "source": [
    "We needed to tranform the date column and sort values in increasing order (the yahoo API gives most recent values first).\n",
    "\n",
    "We are interested in getting the future values of the 'Close' column over the next 7 days:"
   ]
  },
  {
   "cell_type": "code",
   "execution_count": 13,
   "metadata": {
    "collapsed": false
   },
   "outputs": [
    {
     "name": "stderr",
     "output_type": "stream",
     "text": [
      "INFO:pyaf.std:START_TRAINING 'Close'\n",
      "INFO:pyaf.std:END_TRAINING_TIME_IN_SECONDS 'Close' 3.9773027896881104\n"
     ]
    }
   ],
   "source": [
    "import pyaf.ForecastEngine as autof\n",
    "lEngine = autof.cForecastEngine()\n",
    "lEngine.train(goog_dataframe , 'Date' , 'Close', 7);"
   ]
  },
  {
   "cell_type": "markdown",
   "metadata": {},
   "source": [
    "The predicted values are :"
   ]
  },
  {
   "cell_type": "code",
   "execution_count": 14,
   "metadata": {
    "collapsed": true
   },
   "outputs": [],
   "source": [
    "goog_forecast_dataframe = lEngine.forecast(goog_dataframe, 7);"
   ]
  },
  {
   "cell_type": "markdown",
   "metadata": {},
   "source": [
    "We can see the forecasts data for last 7 days "
   ]
  },
  {
   "cell_type": "code",
   "execution_count": 15,
   "metadata": {
    "collapsed": false
   },
   "outputs": [
    {
     "data": {
      "text/html": [
       "<div>\n",
       "<table border=\"1\" class=\"dataframe\">\n",
       "  <thead>\n",
       "    <tr style=\"text-align: right;\">\n",
       "      <th></th>\n",
       "      <th>Date</th>\n",
       "      <th>Close</th>\n",
       "      <th>Close_Forecast</th>\n",
       "    </tr>\n",
       "  </thead>\n",
       "  <tbody>\n",
       "    <tr>\n",
       "      <th>276</th>\n",
       "      <td>2016-10-15 10:45:58.878504672</td>\n",
       "      <td>NaN</td>\n",
       "      <td>778.530029</td>\n",
       "    </tr>\n",
       "    <tr>\n",
       "      <th>277</th>\n",
       "      <td>2016-10-16 21:31:57.757009344</td>\n",
       "      <td>NaN</td>\n",
       "      <td>778.530029</td>\n",
       "    </tr>\n",
       "    <tr>\n",
       "      <th>278</th>\n",
       "      <td>2016-10-18 08:17:56.635514016</td>\n",
       "      <td>NaN</td>\n",
       "      <td>778.530029</td>\n",
       "    </tr>\n",
       "    <tr>\n",
       "      <th>279</th>\n",
       "      <td>2016-10-19 19:03:55.514018688</td>\n",
       "      <td>NaN</td>\n",
       "      <td>778.530029</td>\n",
       "    </tr>\n",
       "    <tr>\n",
       "      <th>280</th>\n",
       "      <td>2016-10-21 05:49:54.392523360</td>\n",
       "      <td>NaN</td>\n",
       "      <td>778.530029</td>\n",
       "    </tr>\n",
       "    <tr>\n",
       "      <th>281</th>\n",
       "      <td>2016-10-22 16:35:53.271028032</td>\n",
       "      <td>NaN</td>\n",
       "      <td>778.530029</td>\n",
       "    </tr>\n",
       "    <tr>\n",
       "      <th>282</th>\n",
       "      <td>2016-10-24 03:21:52.149532704</td>\n",
       "      <td>NaN</td>\n",
       "      <td>778.530029</td>\n",
       "    </tr>\n",
       "  </tbody>\n",
       "</table>\n",
       "</div>"
      ],
      "text/plain": [
       "                             Date  Close  Close_Forecast\n",
       "276 2016-10-15 10:45:58.878504672    NaN      778.530029\n",
       "277 2016-10-16 21:31:57.757009344    NaN      778.530029\n",
       "278 2016-10-18 08:17:56.635514016    NaN      778.530029\n",
       "279 2016-10-19 19:03:55.514018688    NaN      778.530029\n",
       "280 2016-10-21 05:49:54.392523360    NaN      778.530029\n",
       "281 2016-10-22 16:35:53.271028032    NaN      778.530029\n",
       "282 2016-10-24 03:21:52.149532704    NaN      778.530029"
      ]
     },
     "execution_count": 15,
     "metadata": {},
     "output_type": "execute_result"
    }
   ],
   "source": [
    "goog_forecast_dataframe[['Date' , 'Close' , 'Close_Forecast']].tail(7)"
   ]
  },
  {
   "cell_type": "markdown",
   "metadata": {},
   "source": [
    "One can see that all the values are equal to the last value (naive model). Forecasting finance data is not easy!!!\n",
    "\n",
    "If you are curious enough, you can see more info about the model :"
   ]
  },
  {
   "cell_type": "code",
   "execution_count": 16,
   "metadata": {
    "collapsed": false
   },
   "outputs": [
    {
     "name": "stderr",
     "output_type": "stream",
     "text": [
      "INFO:pyaf.std:TIME_DETAIL TimeVariable='Date' TimeMin=2015-09-14T00:00:00.000000 TimeMax=2016-07-20T00:00:00.000000 TimeDelta=1 days 10:45:58.878504 Estimation = (0 , 215) Validation = (215 , 269) Test = (269 , 276) Horizon=7\n",
      "INFO:pyaf.std:SIGNAL_DETAIL SignalVariable='_Close' Min=594.890015 Max=787.210022  Mean=724.902463822 StdDev=41.9533905637\n",
      "INFO:pyaf.std:BEST_TRANSOFORMATION_TYPE '_'\n",
      "INFO:pyaf.std:BEST_DECOMPOSITION  '_Close_Lag1Trend_residue_zeroCycle_residue_NoAR' [Lag1Trend + NoCycle + NoAR]\n",
      "INFO:pyaf.std:TREND_DETAIL '_Close_Lag1Trend' [Lag1Trend]\n",
      "INFO:pyaf.std:CYCLE_DETAIL '_Close_Lag1Trend_residue_zeroCycle' [NoCycle]\n",
      "INFO:pyaf.std:AUTOREG_DETAIL '_Close_Lag1Trend_residue_zeroCycle_residue_NoAR' [NoAR]\n",
      "INFO:pyaf.std:MODEL_MAPE MAPE_Fit=0.0108 MAPE_Forecast=0.0055 MAPE_Test=0.005\n",
      "INFO:pyaf.std:MODEL_MASE MASE_Fit=0.9953 MASE_Forecast=0.9927 MASE_Test=0.8696\n",
      "INFO:pyaf.std:MODEL_L1 L1_Fit=10.5037925173 L1_Forecast=6.02910107653 L1_Test=3.89428714286\n",
      "INFO:pyaf.std:MODEL_L2 L2_Fit=10.5037925173 L2_Forecast=6.02910107653 L2_Test=5.37507231423\n",
      "INFO:pyaf.std:MODEL_COMPLEXITY 32\n",
      "INFO:pyaf.std:AR_MODEL_DETAIL_START\n",
      "INFO:pyaf.std:AR_MODEL_DETAIL_END\n"
     ]
    }
   ],
   "source": [
    "lEngine.getModelInfo()"
   ]
  },
  {
   "cell_type": "markdown",
   "metadata": {},
   "source": [
    "Again, one can plot the forecasts against the signal:"
   ]
  },
  {
   "cell_type": "code",
   "execution_count": 17,
   "metadata": {
    "collapsed": false
   },
   "outputs": [
    {
     "data": {
      "text/plain": [
       "<matplotlib.axes._subplots.AxesSubplot at 0x7f3c7fcf44e0>"
      ]
     },
     "execution_count": 17,
     "metadata": {},
     "output_type": "execute_result"
    },
    {
     "data": {
      "image/png": "[encoded data removed]",
      "text/plain": [
       "<matplotlib.figure.Figure at 0x7f3c7fcc2080>"
      ]
     },
     "metadata": {},
     "output_type": "display_data"
    }
   ],
   "source": [
    "goog_forecast_dataframe.plot.line('Date', ['Close' , 'Close_Forecast', \n",
    "                                             'Close_Forecast_Lower_Bound', \n",
    "                                             'Close_Forecast_Upper_Bound'], grid = True, figsize=(12, 8))"
   ]
  },
  {
   "cell_type": "code",
   "execution_count": null,
   "metadata": {
    "collapsed": false
   },
   "outputs": [],
   "source": []
  },
  {
   "cell_type": "code",
   "execution_count": null,
   "metadata": {
    "collapsed": true
   },
   "outputs": [],
   "source": []
  },
  {
   "cell_type": "code",
   "execution_count": null,
   "metadata": {
    "collapsed": true
   },
   "outputs": [],
   "source": []
  }
 ],
 "metadata": {
  "kernelspec": {
   "display_name": "Python 3",
   "language": "python",
   "name": "python3"
  },
  "language_info": {
   "codemirror_mode": {
    "name": "ipython",
    "version": 3
   },
   "file_extension": ".py",
   "mimetype": "text/x-python",
   "name": "python",
   "nbconvert_exporter": "python",
   "pygments_lexer": "ipython3",
   "version": "3.5.3"
  }
 },
 "nbformat": 4,
 "nbformat_minor": 0
}
