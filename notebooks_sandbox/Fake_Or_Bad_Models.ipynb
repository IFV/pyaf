{
 "cells": [
  {
   "cell_type": "code",
   "execution_count": 1,
   "metadata": {
    "collapsed": true
   },
   "outputs": [],
   "source": [
    "import numpy as np\n",
    "import pandas as pd\n",
    "import pyaf.ForecastEngine as autof\n"
   ]
  },
  {
   "cell_type": "code",
   "execution_count": 2,
   "metadata": {
    "collapsed": false
   },
   "outputs": [],
   "source": [
    "\n",
    "# the goal of these tests is to make pyaf as robust as possible against very small/bad datasets\n",
    "# pyaf should automatically produce reasonable/naive/trivial models in these cases.\n",
    "# it should not fail in any case (normal behavior expected)\n",
    "\n",
    "def test_fake_model_1_row(iHorizon_train , iHorizon_apply):\n",
    "    # one row dataset => always constant forecast\n",
    "    df = pd.DataFrame([[0 , 0.54543]], columns = ['date' , 'signal'])\n",
    "    lEngine = autof.cForecastEngine()\n",
    "    lEngine.train(df , 'date' , 'signal', iHorizon_train);\n",
    "    # print(lEngine.mSignalDecomposition.mBestModel.mTimeInfo.info())\n",
    "    print(lEngine.mSignalDecomposition.mBestModel.getFormula())\n",
    "    print(\"PERFS_MAPE_MASE\", lEngine.mSignalDecomposition.mBestModel.mForecastPerf.mMAPE, \n",
    "             lEngine.mSignalDecomposition.mBestModel.mForecastPerf.mMASE, )\n",
    "    \n",
    "    # print(df.head())\n",
    "    df1 = lEngine.forecast(df , iHorizon_apply)\n",
    "    # print(df1.columns)\n",
    "    Forecast_DF = df1[['date' , 'signal', 'signal' + '_Forecast', 'signal_Residue', 'signal_Forecast_Lower_Bound',\n",
    "       'signal_Forecast_Upper_Bound']]\n",
    "    # print(Forecast_DF.info())\n",
    "    print(\"Forecasts\\n\" , Forecast_DF.tail(iHorizon_apply));\n",
    "\n",
    "    \n",
    "    \n",
    "def test_fake_model_2_rows(iHorizon_train , iHorizon_apply):\n",
    "    # one row dataset => always constant forecast\n",
    "    df = pd.DataFrame([[0 , 0.54543] , [1 , 0.43]], columns = ['date' , 'signal'])\n",
    "    lEngine = autof.cForecastEngine()\n",
    "    lEngine.train(df , 'date' , 'signal', iHorizon_train);\n",
    "    # print(lEngine.mSignalDecomposition.mBestModel.mTimeInfo.info())\n",
    "    print(lEngine.mSignalDecomposition.mBestModel.getFormula())\n",
    "    print(\"PERFS_MAPE_MASE\", lEngine.mSignalDecomposition.mBestModel.mForecastPerf.mMAPE, \n",
    "             lEngine.mSignalDecomposition.mBestModel.mForecastPerf.mMASE, )\n",
    "    # print(df.head())\n",
    "    df1 = lEngine.forecast(df , iHorizon_apply)\n",
    "    # print(df1.columns)\n",
    "    Forecast_DF = df1[['date' , 'signal', 'signal' + '_Forecast', 'signal_Residue', 'signal_Forecast_Lower_Bound',\n",
    "       'signal_Forecast_Upper_Bound']]\n",
    "    # print(Forecast_DF.info())\n",
    "    print(\"Forecasts\\n\" , Forecast_DF.tail(iHorizon_apply));\n"
   ]
  },
  {
   "cell_type": "code",
   "execution_count": null,
   "metadata": {
    "collapsed": true
   },
   "outputs": [],
   "source": []
  },
  {
   "cell_type": "code",
   "execution_count": 3,
   "metadata": {
    "collapsed": false
   },
   "outputs": [
    {
     "name": "stdout",
     "output_type": "stream",
     "text": [
      "ConstantTrend + NoCycle + NoAR\n",
      "PERFS_MAPE_MASE 0.0 None\n",
      "Forecasts\n",
      "    date  signal  signal_Forecast  signal_Residue  signal_Forecast_Lower_Bound  \\\n",
      "1     1     NaN          0.54543             0.0                      0.54543   \n",
      "\n",
      "   signal_Forecast_Upper_Bound  \n",
      "1                      0.54543  \n"
     ]
    }
   ],
   "source": [
    "test_fake_model_1_row( 2, 1)"
   ]
  },
  {
   "cell_type": "code",
   "execution_count": 4,
   "metadata": {
    "collapsed": false
   },
   "outputs": [
    {
     "name": "stdout",
     "output_type": "stream",
     "text": [
      "ConstantTrend + NoCycle + NoAR\n",
      "PERFS_MAPE_MASE 0.0 None\n",
      "Forecasts\n",
      "    date  signal  signal_Forecast  signal_Residue  signal_Forecast_Lower_Bound  \\\n",
      "1     1     NaN          0.54543             0.0                      0.54543   \n",
      "2     2     NaN          0.54543             0.0                          NaN   \n",
      "\n",
      "   signal_Forecast_Upper_Bound  \n",
      "1                      0.54543  \n",
      "2                          NaN  \n"
     ]
    }
   ],
   "source": [
    "test_fake_model_1_row( 1, 2)\n"
   ]
  },
  {
   "cell_type": "code",
   "execution_count": 5,
   "metadata": {
    "collapsed": false
   },
   "outputs": [
    {
     "name": "stdout",
     "output_type": "stream",
     "text": [
      "ConstantTrend + NoCycle + NoAR\n",
      "PERFS_MAPE_MASE 0.0 None\n",
      "Forecasts\n",
      "     date  signal  signal_Forecast  signal_Residue  \\\n",
      "1      1     NaN          0.54543             0.0   \n",
      "2      2     NaN          0.54543             0.0   \n",
      "3      3     NaN          0.54543             0.0   \n",
      "4      4     NaN          0.54543             0.0   \n",
      "5      5     NaN          0.54543             0.0   \n",
      "6      6     NaN          0.54543             0.0   \n",
      "7      7     NaN          0.54543             0.0   \n",
      "8      8     NaN          0.54543             0.0   \n",
      "9      9     NaN          0.54543             0.0   \n",
      "10    10     NaN          0.54543             0.0   \n",
      "\n",
      "    signal_Forecast_Lower_Bound  signal_Forecast_Upper_Bound  \n",
      "1                       0.54543                      0.54543  \n",
      "2                       0.54543                      0.54543  \n",
      "3                           NaN                          NaN  \n",
      "4                           NaN                          NaN  \n",
      "5                           NaN                          NaN  \n",
      "6                           NaN                          NaN  \n",
      "7                           NaN                          NaN  \n",
      "8                           NaN                          NaN  \n",
      "9                           NaN                          NaN  \n",
      "10                          NaN                          NaN  \n"
     ]
    }
   ],
   "source": [
    "test_fake_model_1_row( 2, 10)"
   ]
  },
  {
   "cell_type": "code",
   "execution_count": 6,
   "metadata": {
    "collapsed": false
   },
   "outputs": [
    {
     "name": "stdout",
     "output_type": "stream",
     "text": [
      "ConstantTrend + NoCycle + NoAR\n",
      "PERFS_MAPE_MASE 0.0 None\n",
      "Forecasts\n",
      "     date  signal  signal_Forecast  signal_Residue  \\\n",
      "1      1     NaN          0.54543             0.0   \n",
      "2      2     NaN          0.54543             0.0   \n",
      "3      3     NaN          0.54543             0.0   \n",
      "4      4     NaN          0.54543             0.0   \n",
      "5      5     NaN          0.54543             0.0   \n",
      "6      6     NaN          0.54543             0.0   \n",
      "7      7     NaN          0.54543             0.0   \n",
      "8      8     NaN          0.54543             0.0   \n",
      "9      9     NaN          0.54543             0.0   \n",
      "10    10     NaN          0.54543             0.0   \n",
      "\n",
      "    signal_Forecast_Lower_Bound  signal_Forecast_Upper_Bound  \n",
      "1                       0.54543                      0.54543  \n",
      "2                       0.54543                      0.54543  \n",
      "3                       0.54543                      0.54543  \n",
      "4                       0.54543                      0.54543  \n",
      "5                       0.54543                      0.54543  \n",
      "6                       0.54543                      0.54543  \n",
      "7                       0.54543                      0.54543  \n",
      "8                       0.54543                      0.54543  \n",
      "9                       0.54543                      0.54543  \n",
      "10                      0.54543                      0.54543  \n"
     ]
    }
   ],
   "source": [
    "test_fake_model_1_row( 20, 10)"
   ]
  },
  {
   "cell_type": "code",
   "execution_count": 7,
   "metadata": {
    "collapsed": false
   },
   "outputs": [
    {
     "name": "stdout",
     "output_type": "stream",
     "text": [
      "ConstantTrend + NoCycle + NoAR\n",
      "PERFS_MAPE_MASE 0.0529 0.25\n",
      "Forecasts\n",
      "    date  signal  signal_Forecast  signal_Residue  signal_Forecast_Lower_Bound  \\\n",
      "2     2     NaN         0.372285        0.000000                     0.292296   \n",
      "3     3     NaN         0.314570        0.000000                          NaN   \n",
      "4     4     NaN         0.256855        0.000000                          NaN   \n",
      "5     5     NaN         0.199140        0.057715                          NaN   \n",
      "\n",
      "   signal_Forecast_Upper_Bound  \n",
      "2                     0.452274  \n",
      "3                          NaN  \n",
      "4                          NaN  \n",
      "5                          NaN  \n"
     ]
    }
   ],
   "source": [
    "test_fake_model_2_rows( 1, 4)"
   ]
  },
  {
   "cell_type": "code",
   "execution_count": 8,
   "metadata": {
    "collapsed": false
   },
   "outputs": [
    {
     "name": "stdout",
     "output_type": "stream",
     "text": [
      "ConstantTrend + NoCycle + NoAR\n",
      "PERFS_MAPE_MASE 0.0529 0.25\n",
      "Forecasts\n",
      "    date  signal  signal_Forecast  signal_Residue  signal_Forecast_Lower_Bound  \\\n",
      "2     2     NaN         0.372285        0.000000                     0.292296   \n",
      "3     3     NaN         0.314570        0.057715                     0.234581   \n",
      "\n",
      "   signal_Forecast_Upper_Bound  \n",
      "2                     0.452274  \n",
      "3                     0.394559  \n"
     ]
    }
   ],
   "source": [
    "test_fake_model_2_rows( 6, 2)"
   ]
  },
  {
   "cell_type": "code",
   "execution_count": 9,
   "metadata": {
    "collapsed": false
   },
   "outputs": [
    {
     "name": "stdout",
     "output_type": "stream",
     "text": [
      "ConstantTrend + NoCycle + NoAR\n",
      "PERFS_MAPE_MASE 0.0529 0.25\n",
      "Forecasts\n",
      "    date  signal  signal_Forecast  signal_Residue  signal_Forecast_Lower_Bound  \\\n",
      "2     2     NaN         0.372285        0.057715                     0.292296   \n",
      "\n",
      "   signal_Forecast_Upper_Bound  \n",
      "2                     0.452274  \n"
     ]
    }
   ],
   "source": [
    "test_fake_model_2_rows( 6, 1)"
   ]
  },
  {
   "cell_type": "code",
   "execution_count": 10,
   "metadata": {
    "collapsed": false
   },
   "outputs": [
    {
     "name": "stdout",
     "output_type": "stream",
     "text": [
      "ConstantTrend + NoCycle + NoAR\n",
      "PERFS_MAPE_MASE 0.0529 0.25\n",
      "Forecasts\n",
      "    date  signal  signal_Forecast  signal_Residue  signal_Forecast_Lower_Bound  \\\n",
      "2     2     NaN         0.372285        0.000000                     0.292296   \n",
      "3     3     NaN         0.314570        0.000000                          NaN   \n",
      "4     4     NaN         0.256855        0.000000                          NaN   \n",
      "5     5     NaN         0.199140        0.000000                          NaN   \n",
      "6     6     NaN         0.141425        0.000000                          NaN   \n",
      "7     7     NaN         0.083710        0.000000                          NaN   \n",
      "8     8     NaN         0.025995        0.057715                          NaN   \n",
      "\n",
      "   signal_Forecast_Upper_Bound  \n",
      "2                     0.452274  \n",
      "3                          NaN  \n",
      "4                          NaN  \n",
      "5                          NaN  \n",
      "6                          NaN  \n",
      "7                          NaN  \n",
      "8                          NaN  \n"
     ]
    }
   ],
   "source": [
    "test_fake_model_2_rows( 1 , 7)"
   ]
  },
  {
   "cell_type": "code",
   "execution_count": null,
   "metadata": {
    "collapsed": true
   },
   "outputs": [],
   "source": []
  },
  {
   "cell_type": "code",
   "execution_count": null,
   "metadata": {
    "collapsed": true
   },
   "outputs": [],
   "source": []
  }
 ],
 "metadata": {
  "kernelspec": {
   "display_name": "Python 3",
   "language": "python",
   "name": "python3"
  },
  "language_info": {
   "codemirror_mode": {
    "name": "ipython",
    "version": 3
   },
   "file_extension": ".py",
   "mimetype": "text/x-python",
   "name": "python",
   "nbconvert_exporter": "python",
   "pygments_lexer": "ipython3",
   "version": "3.5.3"
  }
 },
 "nbformat": 4,
 "nbformat_minor": 0
}
