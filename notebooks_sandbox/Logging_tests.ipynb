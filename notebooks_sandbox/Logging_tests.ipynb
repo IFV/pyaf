{
 "cells": [
  {
   "cell_type": "code",
   "execution_count": 1,
   "metadata": {
    "collapsed": true
   },
   "outputs": [],
   "source": [
    "import logging"
   ]
  },
  {
   "cell_type": "code",
   "execution_count": 2,
   "metadata": {
    "collapsed": true
   },
   "outputs": [],
   "source": [
    "\n",
    "# create logger\n",
    "logger = logging.getLogger('pyaf')\n",
    "lHandler = logging.StreamHandler()\n",
    "lHandler.setLevel(logging.DEBUG)\n",
    "logger.addHandler(lHandler)"
   ]
  },
  {
   "cell_type": "code",
   "execution_count": 3,
   "metadata": {
    "collapsed": false
   },
   "outputs": [
    {
     "data": {
      "text/plain": [
       "<logging.Logger at 0x7f0f16bb5550>"
      ]
     },
     "execution_count": 3,
     "metadata": {},
     "output_type": "execute_result"
    }
   ],
   "source": [
    "logger"
   ]
  },
  {
   "cell_type": "code",
   "execution_count": 4,
   "metadata": {
    "collapsed": false
   },
   "outputs": [
    {
     "data": {
      "text/plain": [
       "{'disabled': False,\n",
       " 'filters': [],\n",
       " 'handlers': [<logging.StreamHandler at 0x7f0f16bb5588>],\n",
       " 'level': 0,\n",
       " 'manager': <logging.Manager at 0x7f0f2493a550>,\n",
       " 'name': 'pyaf',\n",
       " 'parent': <logging.RootLogger at 0x7f0f2493a4e0>,\n",
       " 'propagate': True}"
      ]
     },
     "execution_count": 4,
     "metadata": {},
     "output_type": "execute_result"
    }
   ],
   "source": [
    "logger.__dict__"
   ]
  },
  {
   "cell_type": "code",
   "execution_count": 5,
   "metadata": {
    "collapsed": false
   },
   "outputs": [
    {
     "name": "stderr",
     "output_type": "stream",
     "text": [
      "warn message\n",
      "error message\n",
      "critical message\n"
     ]
    }
   ],
   "source": [
    "\n",
    "# 'application' code\n",
    "logger.debug('debug message')\n",
    "logger.info('info message')\n",
    "logger.warning('warn message')\n",
    "logger.error('error message')\n",
    "logger.critical('critical message')"
   ]
  },
  {
   "cell_type": "code",
   "execution_count": 6,
   "metadata": {
    "collapsed": false
   },
   "outputs": [
    {
     "data": {
      "text/plain": [
       "{'_name': None,\n",
       " 'filters': [],\n",
       " 'formatter': None,\n",
       " 'level': 10,\n",
       " 'lock': <unlocked _thread.RLock object owner=0 count=0 at 0x7f0f16b6dbd0>,\n",
       " 'stream': <ipykernel.iostream.OutStream at 0x7f0f1ecf3438>}"
      ]
     },
     "execution_count": 6,
     "metadata": {},
     "output_type": "execute_result"
    }
   ],
   "source": [
    "\n",
    "logger.handlers[0].__dict__"
   ]
  },
  {
   "cell_type": "code",
   "execution_count": null,
   "metadata": {
    "collapsed": true
   },
   "outputs": [],
   "source": [
    "\n",
    "\n",
    "# insert some logging\n",
    "import logging\n",
    "import logging.config\n",
    "\n",
    "# remove the notebook root logger.\n",
    "logger = logging.getLogger()\n",
    "logger.handlers = [logging.NullHandler()]\n",
    "#logger.addHandler()\n",
    "\n",
    "# set default level\n",
    "# logging.basicConfig(level=logging.NOTSET)\n",
    "logging.getLogger('pyaf').handlers=[];\n",
    "logging.getLogger('pyaf.std').handlers=[]; # logging.NullHandler()];\n",
    "\n",
    "\n",
    "lHandler2 = logging.StreamHandler()\n",
    "lHandler2.setLevel(logging.INFO)\n",
    "logging.getLogger('pyaf.hierarchical').handlers = []\n",
    "logging.getLogger('pyaf.hierarchical').addHandler(lHandler2)"
   ]
  },
  {
   "cell_type": "code",
   "execution_count": null,
   "metadata": {
    "collapsed": false
   },
   "outputs": [],
   "source": [
    "logging.getLogger('pyaf.std').info(\"OOOO\")\n",
    "logging.getLogger('pyaf.hierarchical').info(\"FGG\")\n"
   ]
  },
  {
   "cell_type": "code",
   "execution_count": null,
   "metadata": {
    "collapsed": true
   },
   "outputs": [],
   "source": []
  }
 ],
 "metadata": {
  "kernelspec": {
   "display_name": "Python 3",
   "language": "python",
   "name": "python3"
  },
  "language_info": {
   "codemirror_mode": {
    "name": "ipython",
    "version": 3
   },
   "file_extension": ".py",
   "mimetype": "text/x-python",
   "name": "python",
   "nbconvert_exporter": "python",
   "pygments_lexer": "ipython3",
   "version": "3.5.2+"
  }
 },
 "nbformat": 4,
 "nbformat_minor": 0
}
