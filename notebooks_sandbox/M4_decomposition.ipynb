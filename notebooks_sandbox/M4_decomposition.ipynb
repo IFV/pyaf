{
 "cells": [
  {
   "cell_type": "code",
   "execution_count": 1,
   "metadata": {
    "collapsed": true
   },
   "outputs": [],
   "source": [
    "import pandas as pd\n",
    "import numpy as np\n"
   ]
  },
  {
   "cell_type": "code",
   "execution_count": 2,
   "metadata": {
    "collapsed": false
   },
   "outputs": [],
   "source": [
    "df = pd.read_csv('../data/M4Comp.csv.gz')"
   ]
  },
  {
   "cell_type": "code",
   "execution_count": 3,
   "metadata": {
    "collapsed": false
   },
   "outputs": [
    {
     "data": {
      "text/html": [
       "<div>\n",
       "<table border=\"1\" class=\"dataframe\">\n",
       "  <thead>\n",
       "    <tr style=\"text-align: right;\">\n",
       "      <th></th>\n",
       "      <th>K</th>\n",
       "      <th>ID</th>\n",
       "      <th>TYPE</th>\n",
       "      <th>H</th>\n",
       "      <th>PERIOD</th>\n",
       "      <th>UNITS</th>\n",
       "      <th>N</th>\n",
       "      <th>PAST</th>\n",
       "      <th>FUTURE</th>\n",
       "    </tr>\n",
       "  </thead>\n",
       "  <tbody>\n",
       "    <tr>\n",
       "      <th>0</th>\n",
       "      <td>SERIES</td>\n",
       "      <td>FIN1</td>\n",
       "      <td>FINANCE</td>\n",
       "      <td>8</td>\n",
       "      <td>MONTHLY</td>\n",
       "      <td>NaN</td>\n",
       "      <td>170</td>\n",
       "      <td>87.33542282,86.10394147,84.98490317,84.4860577...</td>\n",
       "      <td>85.00849262,82.86804888,83.14415073,83.1855927...</td>\n",
       "    </tr>\n",
       "    <tr>\n",
       "      <th>1</th>\n",
       "      <td>SERIES</td>\n",
       "      <td>FIN2</td>\n",
       "      <td>FINANCE</td>\n",
       "      <td>14</td>\n",
       "      <td>MONTHLY</td>\n",
       "      <td>NaN</td>\n",
       "      <td>331</td>\n",
       "      <td>111.9,109.8,109.5,108.8,117.9,122.8,120.9,119....</td>\n",
       "      <td>285.9,288.9,283.2,293.4,291.2,301,302.1,317.2,...</td>\n",
       "    </tr>\n",
       "    <tr>\n",
       "      <th>2</th>\n",
       "      <td>SERIES</td>\n",
       "      <td>FIN3</td>\n",
       "      <td>FINANCE</td>\n",
       "      <td>14</td>\n",
       "      <td>MONTHLY</td>\n",
       "      <td>NaN</td>\n",
       "      <td>331</td>\n",
       "      <td>91.9,89.5,89.8,91.5,99.1,102.9,100.5,99.1,102....</td>\n",
       "      <td>96.4,96.7,94.5,97,96.3,98.6,98.8,102.8,100.7,9...</td>\n",
       "    </tr>\n",
       "    <tr>\n",
       "      <th>3</th>\n",
       "      <td>SERIES</td>\n",
       "      <td>FIN4</td>\n",
       "      <td>FINANCE</td>\n",
       "      <td>8</td>\n",
       "      <td>MONTHLY</td>\n",
       "      <td>NaN</td>\n",
       "      <td>178</td>\n",
       "      <td>3.949,3.793,3.611,3.597,3.51,3.327,3.482,3.446...</td>\n",
       "      <td>1.48,1.718,1.52,1.334,1.448,1.173,1.276,1.406</td>\n",
       "    </tr>\n",
       "    <tr>\n",
       "      <th>4</th>\n",
       "      <td>SERIES</td>\n",
       "      <td>FIN5</td>\n",
       "      <td>FINANCE</td>\n",
       "      <td>8</td>\n",
       "      <td>MONTHLY</td>\n",
       "      <td>NaN</td>\n",
       "      <td>178</td>\n",
       "      <td>4.39,4.14,3.828,3.871,3.811,3.859,4.04,3.939,3...</td>\n",
       "      <td>1.624,1.662,1.737,1.591,1.629,1.592,1.461,1.509</td>\n",
       "    </tr>\n",
       "  </tbody>\n",
       "</table>\n",
       "</div>"
      ],
      "text/plain": [
       "        K    ID     TYPE   H   PERIOD UNITS    N  \\\n",
       "0  SERIES  FIN1  FINANCE   8  MONTHLY   NaN  170   \n",
       "1  SERIES  FIN2  FINANCE  14  MONTHLY   NaN  331   \n",
       "2  SERIES  FIN3  FINANCE  14  MONTHLY   NaN  331   \n",
       "3  SERIES  FIN4  FINANCE   8  MONTHLY   NaN  178   \n",
       "4  SERIES  FIN5  FINANCE   8  MONTHLY   NaN  178   \n",
       "\n",
       "                                                PAST  \\\n",
       "0  87.33542282,86.10394147,84.98490317,84.4860577...   \n",
       "1  111.9,109.8,109.5,108.8,117.9,122.8,120.9,119....   \n",
       "2  91.9,89.5,89.8,91.5,99.1,102.9,100.5,99.1,102....   \n",
       "3  3.949,3.793,3.611,3.597,3.51,3.327,3.482,3.446...   \n",
       "4  4.39,4.14,3.828,3.871,3.811,3.859,4.04,3.939,3...   \n",
       "\n",
       "                                              FUTURE  \n",
       "0  85.00849262,82.86804888,83.14415073,83.1855927...  \n",
       "1  285.9,288.9,283.2,293.4,291.2,301,302.1,317.2,...  \n",
       "2  96.4,96.7,94.5,97,96.3,98.6,98.8,102.8,100.7,9...  \n",
       "3      1.48,1.718,1.52,1.334,1.448,1.173,1.276,1.406  \n",
       "4    1.624,1.662,1.737,1.591,1.629,1.592,1.461,1.509  "
      ]
     },
     "execution_count": 3,
     "metadata": {},
     "output_type": "execute_result"
    }
   ],
   "source": [
    "df.head()"
   ]
  },
  {
   "cell_type": "code",
   "execution_count": 4,
   "metadata": {
    "collapsed": false
   },
   "outputs": [
    {
     "data": {
      "text/plain": [
       "MONTHLY       3750\n",
       "YEARLY        2240\n",
       "WEEKLY        1833\n",
       "DAILY         1762\n",
       "QUARTERLY      402\n",
       "BIANNUALLY      13\n",
       "Name: PERIOD, dtype: int64"
      ]
     },
     "execution_count": 4,
     "metadata": {},
     "output_type": "execute_result"
    }
   ],
   "source": [
    "df.PERIOD.value_counts()"
   ]
  },
  {
   "cell_type": "code",
   "execution_count": 5,
   "metadata": {
    "collapsed": false
   },
   "outputs": [
    {
     "data": {
      "text/plain": [
       "ECONOMICS            2000\n",
       "FINANCE              2000\n",
       "INVENTORY            1500\n",
       "BUSINESS-INDUSTRY    1500\n",
       "DEMOGRAPHICS         1000\n",
       "CLIMATE              1000\n",
       "INTERNET-TELECOM     1000\n",
       "Name: TYPE, dtype: int64"
      ]
     },
     "execution_count": 5,
     "metadata": {},
     "output_type": "execute_result"
    }
   ],
   "source": [
    "df.TYPE.value_counts()"
   ]
  },
  {
   "cell_type": "code",
   "execution_count": 6,
   "metadata": {
    "collapsed": true
   },
   "outputs": [],
   "source": [
    "lDict = df.TYPE.value_counts().to_dict()"
   ]
  },
  {
   "cell_type": "code",
   "execution_count": 9,
   "metadata": {
    "collapsed": false
   },
   "outputs": [],
   "source": [
    "for ty in lDict.keys():\n",
    "    df[df.TYPE == ty].to_csv('../data/M4Comp_' + ty + \".csv\")"
   ]
  },
  {
   "cell_type": "code",
   "execution_count": 9,
   "metadata": {
    "collapsed": false
   },
   "outputs": [
    {
     "data": {
      "text/html": [
       "<div>\n",
       "<table border=\"1\" class=\"dataframe\">\n",
       "  <thead>\n",
       "    <tr style=\"text-align: right;\">\n",
       "      <th></th>\n",
       "      <th>K</th>\n",
       "      <th>ID</th>\n",
       "      <th>TYPE</th>\n",
       "      <th>H</th>\n",
       "      <th>PERIOD</th>\n",
       "      <th>UNITS</th>\n",
       "      <th>N</th>\n",
       "      <th>PAST</th>\n",
       "      <th>FUTURE</th>\n",
       "    </tr>\n",
       "  </thead>\n",
       "  <tbody>\n",
       "    <tr>\n",
       "      <th>26</th>\n",
       "      <td>SERIES</td>\n",
       "      <td>FIN27</td>\n",
       "      <td>FINANCE</td>\n",
       "      <td>127</td>\n",
       "      <td>DAILY</td>\n",
       "      <td>NaN</td>\n",
       "      <td>3514</td>\n",
       "      <td>0.844,0.845,0.845,0.843,0.84,0.844,0.847,0.851...</td>\n",
       "      <td>2.3752,2.375,2.3727,2.3975,2.3291,2.313,2.323,...</td>\n",
       "    </tr>\n",
       "    <tr>\n",
       "      <th>27</th>\n",
       "      <td>SERIES</td>\n",
       "      <td>FIN28</td>\n",
       "      <td>FINANCE</td>\n",
       "      <td>328</td>\n",
       "      <td>DAILY</td>\n",
       "      <td>NaN</td>\n",
       "      <td>9136</td>\n",
       "      <td>1.0109,1.0102,1.0106,1.0148,1.0154,1.0159,1.01...</td>\n",
       "      <td>1.0854,1.0816,1.0841,1.0794,1.0719,1.0753,1.07...</td>\n",
       "    </tr>\n",
       "    <tr>\n",
       "      <th>28</th>\n",
       "      <td>SERIES</td>\n",
       "      <td>FIN29</td>\n",
       "      <td>FINANCE</td>\n",
       "      <td>242</td>\n",
       "      <td>DAILY</td>\n",
       "      <td>NaN</td>\n",
       "      <td>6742</td>\n",
       "      <td>1.5341,1.5418,1.5264,1.5264,1.5264,1.5371,1.53...</td>\n",
       "      <td>7.2115,7.195,7.1965,7.1912,7.1818,7.1845,7.191...</td>\n",
       "    </tr>\n",
       "  </tbody>\n",
       "</table>\n",
       "</div>"
      ],
      "text/plain": [
       "         K     ID     TYPE    H PERIOD UNITS     N  \\\n",
       "26  SERIES  FIN27  FINANCE  127  DAILY   NaN  3514   \n",
       "27  SERIES  FIN28  FINANCE  328  DAILY   NaN  9136   \n",
       "28  SERIES  FIN29  FINANCE  242  DAILY   NaN  6742   \n",
       "\n",
       "                                                 PAST  \\\n",
       "26  0.844,0.845,0.845,0.843,0.84,0.844,0.847,0.851...   \n",
       "27  1.0109,1.0102,1.0106,1.0148,1.0154,1.0159,1.01...   \n",
       "28  1.5341,1.5418,1.5264,1.5264,1.5264,1.5371,1.53...   \n",
       "\n",
       "                                               FUTURE  \n",
       "26  2.3752,2.375,2.3727,2.3975,2.3291,2.313,2.323,...  \n",
       "27  1.0854,1.0816,1.0841,1.0794,1.0719,1.0753,1.07...  \n",
       "28  7.2115,7.195,7.1965,7.1912,7.1818,7.1845,7.191...  "
      ]
     },
     "execution_count": 9,
     "metadata": {},
     "output_type": "execute_result"
    }
   ],
   "source": [
    "df[df.H > 100].head()"
   ]
  },
  {
   "cell_type": "code",
   "execution_count": null,
   "metadata": {
    "collapsed": true
   },
   "outputs": [],
   "source": []
  }
 ],
 "metadata": {
  "kernelspec": {
   "display_name": "Python 3",
   "language": "python",
   "name": "python3"
  },
  "language_info": {
   "codemirror_mode": {
    "name": "ipython",
    "version": 3
   },
   "file_extension": ".py",
   "mimetype": "text/x-python",
   "name": "python",
   "nbconvert_exporter": "python",
   "pygments_lexer": "ipython3",
   "version": "3.5.3"
  }
 },
 "nbformat": 4,
 "nbformat_minor": 0
}
